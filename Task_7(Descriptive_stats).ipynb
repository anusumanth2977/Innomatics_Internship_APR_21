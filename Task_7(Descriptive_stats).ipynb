{
  "nbformat": 4,
  "nbformat_minor": 0,
  "metadata": {
    "colab": {
      "name": "Task_7(Descriptive stats).ipynb",
      "provenance": [],
      "collapsed_sections": []
    },
    "kernelspec": {
      "name": "python3",
      "display_name": "Python 3"
    },
    "language_info": {
      "name": "python"
    }
  },
  "cells": [
    {
      "cell_type": "code",
      "metadata": {
        "id": "z9sxS_JXiqKL"
      },
      "source": [
        "import numpy as np\n",
        "import matplotlib.pyplot as plt\n",
        "import seaborn as sns\n",
        "import pandas as pd\n",
        "from scipy import stats"
      ],
      "execution_count": null,
      "outputs": []
    },
    {
      "cell_type": "code",
      "metadata": {
        "id": "P5QdOJnglC5r"
      },
      "source": [
        "data = pd.read_csv('/content/drive/MyDrive/Colab Notebooks/data.csv')"
      ],
      "execution_count": null,
      "outputs": []
    },
    {
      "cell_type": "code",
      "metadata": {
        "colab": {
          "base_uri": "https://localhost:8080/"
        },
        "id": "OPmLxWa-o7xY",
        "outputId": "b2881f1b-02c3-40f3-e7dd-dc486c772714"
      },
      "source": [
        "from google.colab import drive\n",
        "drive.mount('/content/drive')"
      ],
      "execution_count": null,
      "outputs": [
        {
          "output_type": "stream",
          "text": [
            "Drive already mounted at /content/drive; to attempt to forcibly remount, call drive.mount(\"/content/drive\", force_remount=True).\n"
          ],
          "name": "stdout"
        }
      ]
    },
    {
      "cell_type": "code",
      "metadata": {
        "colab": {
          "base_uri": "https://localhost:8080/",
          "height": 204
        },
        "id": "Rhg2NkQ4pmH1",
        "outputId": "3bee4d7e-9417-496c-9e03-dd88b39990b8"
      },
      "source": [
        "data.head()"
      ],
      "execution_count": null,
      "outputs": [
        {
          "output_type": "execute_result",
          "data": {
            "text/html": [
              "<div>\n",
              "<style scoped>\n",
              "    .dataframe tbody tr th:only-of-type {\n",
              "        vertical-align: middle;\n",
              "    }\n",
              "\n",
              "    .dataframe tbody tr th {\n",
              "        vertical-align: top;\n",
              "    }\n",
              "\n",
              "    .dataframe thead th {\n",
              "        text-align: right;\n",
              "    }\n",
              "</style>\n",
              "<table border=\"1\" class=\"dataframe\">\n",
              "  <thead>\n",
              "    <tr style=\"text-align: right;\">\n",
              "      <th></th>\n",
              "      <th>Mthly_HH_Income</th>\n",
              "      <th>Mthly_HH_Expense</th>\n",
              "      <th>No_of_Fly_Members</th>\n",
              "      <th>Emi_or_Rent_Amt</th>\n",
              "      <th>Annual_HH_Income</th>\n",
              "      <th>Highest_Qualified_Member</th>\n",
              "      <th>No_of_Earning_Members</th>\n",
              "    </tr>\n",
              "  </thead>\n",
              "  <tbody>\n",
              "    <tr>\n",
              "      <th>0</th>\n",
              "      <td>5000</td>\n",
              "      <td>8000</td>\n",
              "      <td>3</td>\n",
              "      <td>2000</td>\n",
              "      <td>64200</td>\n",
              "      <td>Under-Graduate</td>\n",
              "      <td>1</td>\n",
              "    </tr>\n",
              "    <tr>\n",
              "      <th>1</th>\n",
              "      <td>6000</td>\n",
              "      <td>7000</td>\n",
              "      <td>2</td>\n",
              "      <td>3000</td>\n",
              "      <td>79920</td>\n",
              "      <td>Illiterate</td>\n",
              "      <td>1</td>\n",
              "    </tr>\n",
              "    <tr>\n",
              "      <th>2</th>\n",
              "      <td>10000</td>\n",
              "      <td>4500</td>\n",
              "      <td>2</td>\n",
              "      <td>0</td>\n",
              "      <td>112800</td>\n",
              "      <td>Under-Graduate</td>\n",
              "      <td>1</td>\n",
              "    </tr>\n",
              "    <tr>\n",
              "      <th>3</th>\n",
              "      <td>10000</td>\n",
              "      <td>2000</td>\n",
              "      <td>1</td>\n",
              "      <td>0</td>\n",
              "      <td>97200</td>\n",
              "      <td>Illiterate</td>\n",
              "      <td>1</td>\n",
              "    </tr>\n",
              "    <tr>\n",
              "      <th>4</th>\n",
              "      <td>12500</td>\n",
              "      <td>12000</td>\n",
              "      <td>2</td>\n",
              "      <td>3000</td>\n",
              "      <td>147000</td>\n",
              "      <td>Graduate</td>\n",
              "      <td>1</td>\n",
              "    </tr>\n",
              "  </tbody>\n",
              "</table>\n",
              "</div>"
            ],
            "text/plain": [
              "   Mthly_HH_Income  ...  No_of_Earning_Members\n",
              "0             5000  ...                      1\n",
              "1             6000  ...                      1\n",
              "2            10000  ...                      1\n",
              "3            10000  ...                      1\n",
              "4            12500  ...                      1\n",
              "\n",
              "[5 rows x 7 columns]"
            ]
          },
          "metadata": {
            "tags": []
          },
          "execution_count": 4
        }
      ]
    },
    {
      "cell_type": "code",
      "metadata": {
        "colab": {
          "base_uri": "https://localhost:8080/"
        },
        "id": "g26Ya-m1riZg",
        "outputId": "274fa461-c621-4d7b-cfb6-419fd9dc1cd0"
      },
      "source": [
        "print(data.shape)"
      ],
      "execution_count": null,
      "outputs": [
        {
          "output_type": "stream",
          "text": [
            "(50, 7)\n"
          ],
          "name": "stdout"
        }
      ]
    },
    {
      "cell_type": "markdown",
      "metadata": {
        "id": "acicRNVbAsY7"
      },
      "source": [
        "# **1) Mean:**\n",
        "\n",
        " Mean is calculated for the average value.\n",
        "\n",
        "mean = sum of terms/no.of terms"
      ]
    },
    {
      "cell_type": "code",
      "metadata": {
        "colab": {
          "base_uri": "https://localhost:8080/"
        },
        "id": "V0V4-syXoeJE",
        "outputId": "9e4676f6-32c2-4db7-d852-16847c73292b"
      },
      "source": [
        "# calculating mean without library function\n",
        "    \n",
        "no_of_terms = len(data['Mthly_HH_Income'])\n",
        "sum_of_terms = sum(data['Mthly_HH_Income'])\n",
        "mean = print(sum_of_terms/no_of_terms)"
      ],
      "execution_count": null,
      "outputs": [
        {
          "output_type": "stream",
          "text": [
            "41558.0\n"
          ],
          "name": "stdout"
        }
      ]
    },
    {
      "cell_type": "code",
      "metadata": {
        "colab": {
          "base_uri": "https://localhost:8080/"
        },
        "id": "TsD4PrWSrluI",
        "outputId": "b4d4df6e-32b6-4b33-b4a4-ba4801668d34"
      },
      "source": [
        "# calculating mean with library funiction\n",
        "np.mean(data['Mthly_HH_Income'])"
      ],
      "execution_count": null,
      "outputs": [
        {
          "output_type": "execute_result",
          "data": {
            "text/plain": [
              "41558.0"
            ]
          },
          "metadata": {
            "tags": []
          },
          "execution_count": 49
        }
      ]
    },
    {
      "cell_type": "markdown",
      "metadata": {
        "id": "3uYVs1NeAQ1_"
      },
      "source": [
        "# **2) Median**\n",
        "\n",
        "The median of a set of data is the middlemost number or center value in the set."
      ]
    },
    {
      "cell_type": "code",
      "metadata": {
        "id": "qpW-riOJqFqg"
      },
      "source": [
        "# calculating median without library function\n",
        "\n",
        "def median(data):\n",
        "    list = sorted(data)\n",
        "    n = len(list)\n",
        "    if (n%2==0):\n",
        "        median1=int(n/2)\n",
        "        median2=int((n+2)/2)\n",
        "        median_data=(list[median1-1]+list[median2-1])/2\n",
        "    else:\n",
        "        odd_median=int((n+1)/2)\n",
        "        median_data=list[odd_median]\n",
        "    return median_data\n"
      ],
      "execution_count": null,
      "outputs": []
    },
    {
      "cell_type": "code",
      "metadata": {
        "colab": {
          "base_uri": "https://localhost:8080/"
        },
        "id": "6ZVZy--Wv1eu",
        "outputId": "1efe13ed-3a99-4232-a4cb-d7b3c9157e27"
      },
      "source": [
        "median(data['Mthly_HH_Expense'])"
      ],
      "execution_count": null,
      "outputs": [
        {
          "output_type": "execute_result",
          "data": {
            "text/plain": [
              "15500.0"
            ]
          },
          "metadata": {
            "tags": []
          },
          "execution_count": 75
        }
      ]
    },
    {
      "cell_type": "code",
      "metadata": {
        "colab": {
          "base_uri": "https://localhost:8080/"
        },
        "id": "Nkj-TnZLuQ_t",
        "outputId": "84fae790-7ba2-4a9c-8b55-c9f094fa6ef8"
      },
      "source": [
        "# calculating median with library function\n",
        "np.median(data['Mthly_HH_Expense'])"
      ],
      "execution_count": null,
      "outputs": [
        {
          "output_type": "execute_result",
          "data": {
            "text/plain": [
              "15500.0"
            ]
          },
          "metadata": {
            "tags": []
          },
          "execution_count": 76
        }
      ]
    },
    {
      "cell_type": "markdown",
      "metadata": {
        "id": "SE_2hPjTALLF"
      },
      "source": [
        "# **3) Mode**\n",
        "\n",
        "The mode is the value that appears most frequently in a data set."
      ]
    },
    {
      "cell_type": "code",
      "metadata": {
        "id": "uS9RTh_RAcZ2"
      },
      "source": [
        "# calculating mode without library function\n",
        "def mode(data):\n",
        "    n=0\n",
        "    dic={}\n",
        "    for i in sorted(data):\n",
        "        dic.setdefault(i,0)\n",
        "        dic[i]+=1\n",
        "    for i,j in dic.items():\n",
        "        if j==max(dic.values()):\n",
        "            rep_val=i\n",
        "    return rep_val"
      ],
      "execution_count": null,
      "outputs": []
    },
    {
      "cell_type": "code",
      "metadata": {
        "colab": {
          "base_uri": "https://localhost:8080/"
        },
        "id": "X36JNCFpA9Eh",
        "outputId": "536d6c42-c379-4a6a-cdc4-0d823e4fbed9"
      },
      "source": [
        "mode(data['No_of_Fly_Members'])"
      ],
      "execution_count": null,
      "outputs": [
        {
          "output_type": "execute_result",
          "data": {
            "text/plain": [
              "4"
            ]
          },
          "metadata": {
            "tags": []
          },
          "execution_count": 78
        }
      ]
    },
    {
      "cell_type": "code",
      "metadata": {
        "colab": {
          "base_uri": "https://localhost:8080/"
        },
        "id": "Ql6tfY96sGFv",
        "outputId": "9147fe2b-2631-4cca-a175-4344211f0dec"
      },
      "source": [
        "# calculating mode with library function\n",
        "stats.mode(data['No_of_Fly_Members'])"
      ],
      "execution_count": null,
      "outputs": [
        {
          "output_type": "execute_result",
          "data": {
            "text/plain": [
              "ModeResult(mode=array([4]), count=array([15]))"
            ]
          },
          "metadata": {
            "tags": []
          },
          "execution_count": 79
        }
      ]
    },
    {
      "cell_type": "markdown",
      "metadata": {
        "id": "k3P0OytjAABH"
      },
      "source": [
        "# **4) Variance:**\n",
        "\n",
        "It measures how far a set of numbers is spread out from their average value."
      ]
    },
    {
      "cell_type": "code",
      "metadata": {
        "id": "iOltSO_XBmXe"
      },
      "source": [
        "#calculating variance without library function\n",
        "def variance(data):\n",
        "    length=len(data)\n",
        "    sum_data=sum(data)\n",
        "    mean=sum_data/length\n",
        "    sum_var=0\n",
        "    for i in data:\n",
        "        sum_square=(i-mean)**2\n",
        "        sum_var+=sum_square\n",
        "    return sum_var/length"
      ],
      "execution_count": null,
      "outputs": []
    },
    {
      "cell_type": "code",
      "metadata": {
        "colab": {
          "base_uri": "https://localhost:8080/"
        },
        "id": "5sojYogTB2-u",
        "outputId": "06cf451d-4229-41b7-ba93-5c2345265a61"
      },
      "source": [
        "variance(data['Emi_or_Rent_Amt'])"
      ],
      "execution_count": null,
      "outputs": [
        {
          "output_type": "execute_result",
          "data": {
            "text/plain": [
              "38176400.0"
            ]
          },
          "metadata": {
            "tags": []
          },
          "execution_count": 91
        }
      ]
    },
    {
      "cell_type": "code",
      "metadata": {
        "colab": {
          "base_uri": "https://localhost:8080/"
        },
        "id": "Jj0ME-B2ckHp",
        "outputId": "7fd8e20d-a72f-4aee-9cf0-00b1fce8ce18"
      },
      "source": [
        "# calculating variance with library function\n",
        "np.var(data['Emi_or_Rent_Amt'])"
      ],
      "execution_count": null,
      "outputs": [
        {
          "output_type": "execute_result",
          "data": {
            "text/plain": [
              "38176400.0"
            ]
          },
          "metadata": {
            "tags": []
          },
          "execution_count": 84
        }
      ]
    },
    {
      "cell_type": "markdown",
      "metadata": {
        "id": "eS1UVDke_D0Q"
      },
      "source": [
        "# **5) standard deviation:**\n",
        "\n",
        "the standard deviation is a measure of the amount of variation or dispersion of a set of values. A low standard deviation indicates that the values tend to be close to the mean of the set, while a high standard deviation indicates that the values are spread out over a wider range."
      ]
    },
    {
      "cell_type": "code",
      "metadata": {
        "id": "kxlL8JctDegi"
      },
      "source": [
        "# calculating standard deviation without library function\n",
        "\n",
        "def std(data):\n",
        "    length=len(data)\n",
        "    sum_of_data=sum(data)\n",
        "    mean=sum_of_data/length\n",
        "    sum_var=0\n",
        "    for i in data:\n",
        "        sum_square=(i-mean)**2\n",
        "        sum_var+=sum_square\n",
        "    return (sum_var/length)**0.5"
      ],
      "execution_count": null,
      "outputs": []
    },
    {
      "cell_type": "code",
      "metadata": {
        "colab": {
          "base_uri": "https://localhost:8080/"
        },
        "id": "FYeG-HcnD1NB",
        "outputId": "7964304e-10ed-49b5-fcac-09abbb38f0e0"
      },
      "source": [
        "std(data['Annual_HH_Income'])"
      ],
      "execution_count": null,
      "outputs": [
        {
          "output_type": "execute_result",
          "data": {
            "text/plain": [
              "316918.26531451027"
            ]
          },
          "metadata": {
            "tags": []
          },
          "execution_count": 96
        }
      ]
    },
    {
      "cell_type": "code",
      "metadata": {
        "colab": {
          "base_uri": "https://localhost:8080/"
        },
        "id": "FXpwdAkvsMNA",
        "outputId": "3c6f29ad-93e0-45d0-d964-12e4978a747e"
      },
      "source": [
        "# calculating standard deviation with library function\n",
        "np.std(data['Annual_HH_Income'])"
      ],
      "execution_count": null,
      "outputs": [
        {
          "output_type": "execute_result",
          "data": {
            "text/plain": [
              "316918.26531451027"
            ]
          },
          "metadata": {
            "tags": []
          },
          "execution_count": 92
        }
      ]
    },
    {
      "cell_type": "markdown",
      "metadata": {
        "id": "9pygYzRuRXqe"
      },
      "source": [
        "# **6) correlation:**\n",
        "\n",
        "correlation coefficients are used to assess the strength and direction of the linear relationships between pairs of variables.\n",
        "\n",
        "it is used in bivariate analysis"
      ]
    },
    {
      "cell_type": "code",
      "metadata": {
        "colab": {
          "base_uri": "https://localhost:8080/"
        },
        "id": "lQyoTzj7sWio",
        "outputId": "bfb795b4-8be8-4f17-b73f-ebd13fe73d07"
      },
      "source": [
        "# 6)calculating correlation coefficient\n",
        "np.corrcoef(data['Mthly_HH_Expense'],data['Annual_HH_Income'])[0,1]"
      ],
      "execution_count": null,
      "outputs": [
        {
          "output_type": "execute_result",
          "data": {
            "text/plain": [
              "0.5912216295468026"
            ]
          },
          "metadata": {
            "tags": []
          },
          "execution_count": 97
        }
      ]
    },
    {
      "cell_type": "markdown",
      "metadata": {
        "id": "WlGB82spab2_"
      },
      "source": [
        "# **7) Normal distribution**"
      ]
    },
    {
      "cell_type": "markdown",
      "metadata": {
        "id": "FSVDUY92R-6q"
      },
      "source": [
        "It is also known as guassian distribution.\n",
        "\n",
        "is a probability distribution that is symmetric about the mean, showing that data near the mean are more frequent in occurrence than data far from the mean. In graph form, normal distribution will appear as a bell curve.\n",
        "\n",
        "The normal distribution is the most important probability distribution in statistics because it fits many natural phenomena. For example, heights, blood pressure, measurement error, and IQ scores follow the normal distribution.\n",
        "\n"
      ]
    },
    {
      "cell_type": "markdown",
      "metadata": {
        "id": "NdFgSyP1THFU"
      },
      "source": [
        "# **8) Features of Normal distribution:**\n",
        "\n",
        "1) bell shaped curve\n",
        "\n",
        "2)symmetrical (looks same on both sides)\n",
        "\n",
        "3)68-95-99.7% Rule"
      ]
    },
    {
      "cell_type": "markdown",
      "metadata": {
        "id": "4ur2JY6jWz05"
      },
      "source": [
        "# ***9) skewness***"
      ]
    },
    {
      "cell_type": "markdown",
      "metadata": {
        "id": "um3gJh77T7bS"
      },
      "source": [
        "Skewness is the measure of asymmetry of probability distribution of a random variable about its mean. The skewness can be either can be positive, negative or zero. If skewness is 0 the data is perfectly symmetric, although it is very unlikely for the real world. The general tumb of rule is:\n",
        "\n",
        "If the skewness is less than -1 and greater than +1, then it is highly skewed data.\n",
        "\n",
        "If the skewness is between -0.5 to -1 or between 0.5 to 1, then it is moderately skewed data\n",
        "\n",
        "If the skewness is between -0.5 to 0.5 then, the distribution is almost symmetric\n",
        "\n",
        "#\n",
        "\n",
        "# **positive and negative skewed distribution:**\n",
        "\n",
        "\n",
        "**Positive-Skewed distribution** also known as right-skewed distribution as it's long tails lies in the right side of the distribution.\n",
        "\n",
        " a) It has a long right tail.\n",
        " \n",
        " b) The mean is also on the right side of the peak.\n",
        "\n",
        "**Negatively-Skewed distribution** also known as left-skewed distribution as it's long tail lies in the left side of the distribution.\n",
        "\n",
        "a) It has a long left tail.\n",
        "\n",
        "b)The mean is on the left side of the peak."
      ]
    },
    {
      "cell_type": "markdown",
      "metadata": {
        "id": "cojpO4M-Zdvr"
      },
      "source": [
        "# **10) Effect on Mean, Median and Mode due to Skewness**"
      ]
    },
    {
      "cell_type": "markdown",
      "metadata": {
        "id": "LI5p5jEXZX2X"
      },
      "source": [
        "if the distribution of data is skewed to the left, the mean is less than the median, which is often less than the mode. If the distribution of data is skewed to the right, the mode is often less than the median, which is less than the mean."
      ]
    },
    {
      "cell_type": "markdown",
      "metadata": {
        "id": "Wkfvkw1YW6FO"
      },
      "source": [
        "# **11) Checking Normality with QQ Plot**\n",
        "\n",
        "It checks the normality of the data."
      ]
    },
    {
      "cell_type": "code",
      "metadata": {
        "id": "lEV4zG7ckkFB",
        "colab": {
          "base_uri": "https://localhost:8080/",
          "height": 295
        },
        "outputId": "c26c77ef-c7e8-469b-dd0d-98f708342e6c"
      },
      "source": [
        "stats.probplot(data['Mthly_HH_Income'], dist=\"norm\",plot=plt)\n",
        "plt.grid()"
      ],
      "execution_count": 98,
      "outputs": [
        {
          "output_type": "display_data",
          "data": {
            "image/png": "[encoded data removed]",
            "text/plain": [
              "<Figure size 432x288 with 1 Axes>"
            ]
          },
          "metadata": {
            "tags": [],
            "needs_background": "light"
          }
        }
      ]
    },
    {
      "cell_type": "code",
      "metadata": {
        "colab": {
          "base_uri": "https://localhost:8080/",
          "height": 295
        },
        "id": "HOHdMMY5V9ND",
        "outputId": "8fc267b4-7424-45b1-af1c-339b1933150a"
      },
      "source": [
        "stats.probplot(data['Annual_HH_Income'], dist=\"norm\",plot=plt)\n",
        "plt.grid()"
      ],
      "execution_count": 99,
      "outputs": [
        {
          "output_type": "display_data",
          "data": {
            "image/png": "[encoded data removed]",
            "text/plain": [
              "<Figure size 432x288 with 1 Axes>"
            ]
          },
          "metadata": {
            "tags": [],
            "needs_background": "light"
          }
        }
      ]
    },
    {
      "cell_type": "markdown",
      "metadata": {
        "id": "1elURMu3Y3yI"
      },
      "source": [
        "# **12) Box - Cox Transformation**\n",
        "\n",
        "It is used to transform the data into normal distribution"
      ]
    },
    {
      "cell_type": "code",
      "metadata": {
        "id": "f4G-EylYZsje",
        "colab": {
          "base_uri": "https://localhost:8080/"
        },
        "outputId": "3b405166-8de1-48e0-9fda-df439be0731c"
      },
      "source": [
        "# x = transformed by box-cox, l = lambda\n",
        "x,l=stats.boxcox(data['Mthly_HH_Income'])\n",
        "print(l)"
      ],
      "execution_count": 101,
      "outputs": [
        {
          "output_type": "stream",
          "text": [
            "0.3031376789702236\n"
          ],
          "name": "stdout"
        }
      ]
    },
    {
      "cell_type": "code",
      "metadata": {
        "id": "7cmS17qZZ7S6",
        "colab": {
          "base_uri": "https://localhost:8080/",
          "height": 295
        },
        "outputId": "37873984-287c-4966-dbac-e170f72d0e34"
      },
      "source": [
        "stats.probplot(x, dist=\"norm\", plot=plt)\n",
        "plt.grid()"
      ],
      "execution_count": 102,
      "outputs": [
        {
          "output_type": "display_data",
          "data": {
            "image/png": "[encoded data removed]",
            "text/plain": [
              "<Figure size 432x288 with 1 Axes>"
            ]
          },
          "metadata": {
            "tags": [],
            "needs_background": "light"
          }
        }
      ]
    },
    {
      "cell_type": "code",
      "metadata": {
        "colab": {
          "base_uri": "https://localhost:8080/"
        },
        "id": "19YNm5BtW8dz",
        "outputId": "bf40f714-660f-4ace-b062-482648744c25"
      },
      "source": [
        "x,l=stats.boxcox(data['Annual_HH_Income'])\n",
        "print(l)"
      ],
      "execution_count": 103,
      "outputs": [
        {
          "output_type": "stream",
          "text": [
            "0.24689401204475175\n"
          ],
          "name": "stdout"
        }
      ]
    },
    {
      "cell_type": "code",
      "metadata": {
        "colab": {
          "base_uri": "https://localhost:8080/",
          "height": 295
        },
        "id": "iUd5mRbIXF9C",
        "outputId": "8b2bcb8a-f327-424a-c356-2d974bd3ab02"
      },
      "source": [
        "stats.probplot(x, dist=\"norm\", plot=plt)\n",
        "plt.grid()"
      ],
      "execution_count": 104,
      "outputs": [
        {
          "output_type": "display_data",
          "data": {
            "image/png": "[encoded data removed]",
            "text/plain": [
              "<Figure size 432x288 with 1 Axes>"
            ]
          },
          "metadata": {
            "tags": [],
            "needs_background": "light"
          }
        }
      ]
    }
  ]
}