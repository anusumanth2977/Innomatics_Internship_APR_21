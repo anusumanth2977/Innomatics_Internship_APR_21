{
 "cells": [
  {
   "cell_type": "code",
   "execution_count": 2,
   "metadata": {},
   "outputs": [
    {
     "name": "stdout",
     "output_type": "stream",
     "text": [
      "Hello, World!\n"
     ]
    }
   ],
   "source": [
    "# 1) printing hello world\n",
    "\n",
    "print(\"Hello, World!\")"
   ]
  },
  {
   "cell_type": "code",
   "execution_count": 5,
   "metadata": {},
   "outputs": [
    {
     "name": "stdout",
     "output_type": "stream",
     "text": [
      "4\n",
      "Not Weird\n"
     ]
    }
   ],
   "source": [
    "# 2) if-else problem\n",
    "\n",
    "n = int(input())\n",
    "\n",
    "if n in range(6,21):\n",
    "    if(n%2==0):\n",
    "        print(\"Weird\")\n",
    "elif(n%2==1):\n",
    "    print(\"Weird\")\n",
    "elif n in range(2,6):\n",
    "    if(n%2==0):\n",
    "        print(\"Not Weird\") \n",
    "else:\n",
    "    print(\"Not Weird\") \n"
   ]
  },
  {
   "cell_type": "code",
   "execution_count": 13,
   "metadata": {},
   "outputs": [
    {
     "name": "stdout",
     "output_type": "stream",
     "text": [
      "12\n",
      "5\n",
      "\n",
      "17\n",
      "7\n",
      "60\n"
     ]
    }
   ],
   "source": [
    "# 3) arithmatic operations\n",
    "\n",
    "a = int(input())\n",
    "b = int(input())\n",
    "print(end=\"\\n\")\n",
    "add = print(a+b)\n",
    "sub = print(a-b)\n",
    "mut = print(a*b)\n"
   ]
  },
  {
   "cell_type": "code",
   "execution_count": 15,
   "metadata": {},
   "outputs": [
    {
     "name": "stdout",
     "output_type": "stream",
     "text": [
      "3\n",
      "4\n",
      "\n",
      "0\n",
      "0.75\n"
     ]
    }
   ],
   "source": [
    "# 4) division\n",
    "\n",
    "a = int(input())\n",
    "b = int(input())\n",
    "print(end=\"\\n\")\n",
    "div1 = a//b\n",
    "div2 = a/b\n",
    "print(div1)\n",
    "print(div2)"
   ]
  },
  {
   "cell_type": "code",
   "execution_count": 17,
   "metadata": {},
   "outputs": [
    {
     "name": "stdout",
     "output_type": "stream",
     "text": [
      "5\n",
      "\n",
      "0\n",
      "1\n",
      "4\n",
      "9\n",
      "16\n"
     ]
    }
   ],
   "source": [
    "# 5) loops(square of a number)\n",
    "\n",
    "n = int(input())\n",
    "print(end=\"\\n\")\n",
    "for i in range(0,n):\n",
    "    print(i*i)"
   ]
  },
  {
   "cell_type": "code",
   "execution_count": 18,
   "metadata": {},
   "outputs": [
    {
     "name": "stdout",
     "output_type": "stream",
     "text": [
      "2000\n",
      "True\n"
     ]
    }
   ],
   "source": [
    "# 6) leap year or not\n",
    "\n",
    "def is_leap(year):\n",
    "    leap = False \n",
    "    # Write your logic here\n",
    "    if ((year%4==0) and ((year%400==0) or (year%100!=0))):\n",
    "        leap = True\n",
    "    return leap\n",
    "\n",
    "\n",
    "year = int(input())\n",
    "print(is_leap(year))"
   ]
  },
  {
   "cell_type": "code",
   "execution_count": 19,
   "metadata": {},
   "outputs": [
    {
     "name": "stdout",
     "output_type": "stream",
     "text": [
      "3\n",
      "123"
     ]
    }
   ],
   "source": [
    "# 7) print function\n",
    "\n",
    "n = int(input())\n",
    "for i in range(1,n+1):\n",
    "    print (i, end=\"\")\n"
   ]
  },
  {
   "cell_type": "code",
   "execution_count": null,
   "metadata": {},
   "outputs": [],
   "source": []
  }
 ],
 "metadata": {
  "kernelspec": {
   "display_name": "Python 3",
   "language": "python",
   "name": "python3"
  },
  "language_info": {
   "codemirror_mode": {
    "name": "ipython",
    "version": 3
   },
   "file_extension": ".py",
   "mimetype": "text/x-python",
   "name": "python",
   "nbconvert_exporter": "python",
   "pygments_lexer": "ipython3",
   "version": "3.7.4"
  }
 },
 "nbformat": 4,
 "nbformat_minor": 4
}
