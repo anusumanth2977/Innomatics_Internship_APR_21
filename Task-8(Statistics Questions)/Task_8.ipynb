{
  "nbformat": 4,
  "nbformat_minor": 0,
  "metadata": {
    "colab": {
      "name": "Task_8.ipynb",
      "provenance": [],
      "collapsed_sections": []
    },
    "kernelspec": {
      "name": "python3",
      "display_name": "Python 3"
    },
    "language_info": {
      "name": "python"
    }
  },
  "cells": [
    {
      "cell_type": "code",
      "metadata": {
        "colab": {
          "base_uri": "https://localhost:8080/"
        },
        "id": "1gt0CDx_5fpj",
        "outputId": "3cddf488-c192-42ab-8035-93bf326c494b"
      },
      "source": [
        "# 1) binomial distribution@1\n",
        "\n",
        "import math\n",
        "\n",
        "def bi_dist(x, n, p):\n",
        "    ncr = (math.factorial(n)/(math.factorial(x)*math.factorial(n-x)))\n",
        "    b = ncr*(p**x)*((1-p)**(n-x))\n",
        "    return(b)\n",
        "\n",
        "boys = float(input())\n",
        "girls = float(input())\n",
        "total = boys+girls\n",
        "\n",
        "p, n = boys/total, 6\n",
        "print(round(sum([bi_dist(i,n,p) for i in range(3,7)]),3))"
      ],
      "execution_count": null,
      "outputs": [
        {
          "output_type": "stream",
          "text": [
            "1.09\n",
            "1\n",
            "0.696\n"
          ],
          "name": "stdout"
        }
      ]
    },
    {
      "cell_type": "code",
      "metadata": {
        "colab": {
          "base_uri": "https://localhost:8080/"
        },
        "id": "slCivOjd6fcJ",
        "outputId": "48d5287c-ce25-4b2c-b135-4e3cf55ce6f1"
      },
      "source": [
        "# 2) binomial distribution@2\n",
        "\n",
        "import math\n",
        "\n",
        "def bin_dist(x, n, p):\n",
        "    ncr = (math.factorial(n)/(math.factorial(x)*math.factorial(n-x)))\n",
        "    b = ncr*(p**x)*((1-p)**(n-x))\n",
        "    return(b)\n",
        "\n",
        "per,n=list(map(float,input().split()))\n",
        "p = per/100\n",
        "\n",
        "\n",
        "print(round(sum([bin_dist(i,10,p) for i in range(0,3)]),3))\n",
        "print(round(sum([bin_dist(i,10,p) for i in range(2,11)]),3))\n"
      ],
      "execution_count": null,
      "outputs": [
        {
          "output_type": "stream",
          "text": [
            "12 10\n",
            "0.891\n",
            "0.342\n"
          ],
          "name": "stdout"
        }
      ]
    },
    {
      "cell_type": "code",
      "metadata": {
        "id": "EdZNOM22J0YF",
        "colab": {
          "base_uri": "https://localhost:8080/"
        },
        "outputId": "e655fbb7-c6b0-4157-c2d9-b3e27b26566b"
      },
      "source": [
        "# 3) Normal Distribution@1\n",
        "\n",
        "from scipy.stats import norm\n",
        "mean, std = list(map(int,input().split()))\n",
        "p1 = float(input())\n",
        "p2,p3 = list(map(int,input().split()))\n",
        "dist = norm(mean, std)\n",
        "print(round(dist.cdf(p1), 3))\n",
        "print(round((dist.cdf(p3) - dist.cdf(p2)), 3))\n",
        " "
      ],
      "execution_count": null,
      "outputs": [
        {
          "output_type": "stream",
          "text": [
            "20 2\n",
            "19.5\n",
            "20 22\n",
            "0.401\n",
            "0.341\n"
          ],
          "name": "stdout"
        }
      ]
    },
    {
      "cell_type": "code",
      "metadata": {
        "id": "WhXhio8sX69e",
        "colab": {
          "base_uri": "https://localhost:8080/"
        },
        "outputId": "70a4f1b6-9f5a-46f0-ff3c-d61ce865293b"
      },
      "source": [
        "# 4) Normal Distribution@2\n",
        "\n",
        "import math\n",
        "mean, std = list(map(int,input().split()))\n",
        "p1 = int(input())\n",
        "p2 = int(input())\n",
        "\n",
        "def cdf(x,mean,std):\n",
        "    return 0.5*(1+ math.erf((x-mean)/(std*(2**0.5))))\n",
        "\n",
        "gr_80=1-cdf(p1,mean,std)\n",
        "gr_60=1-cdf(p2,mean,std)\n",
        "bel_60=cdf(p2,mean,std)\n",
        "print(round(gr_80*100,2))\n",
        "print(round(gr_60*100,2))\n",
        "print(round(bel_60*100,2))\n",
        "\n"
      ],
      "execution_count": null,
      "outputs": [
        {
          "output_type": "stream",
          "text": [
            "70 10\n",
            "80\n",
            "60\n",
            "15.87\n",
            "84.13\n",
            "15.87\n"
          ],
          "name": "stdout"
        }
      ]
    },
    {
      "cell_type": "code",
      "metadata": {
        "id": "BXnr9KW_eGob",
        "colab": {
          "base_uri": "https://localhost:8080/"
        },
        "outputId": "b522099d-df0a-49a7-879c-4af9c392af7c"
      },
      "source": [
        "# 5) Central limit theorem@1\n",
        "\n",
        "import math\n",
        "\n",
        "def cdf(x,mean,std):\n",
        "    return 0.5*(1+ math.erf((x-mean)/(std*math.sqrt(2))))\n",
        "\n",
        "tot_weight = int(input())\n",
        "cargos = int(input())\n",
        "mean = int(input())\n",
        "std = int(input())\n",
        "samp_mean = cargos*mean\n",
        "samp_std = math.sqrt(cargos)*std\n",
        "prob = cdf(tot_weight,samp_mean,samp_std)\n",
        "print(round(prob,4))\n"
      ],
      "execution_count": 1,
      "outputs": [
        {
          "output_type": "stream",
          "text": [
            "9800\n",
            "49\n",
            "205\n",
            "15\n",
            "0.0098\n"
          ],
          "name": "stdout"
        }
      ]
    },
    {
      "cell_type": "code",
      "metadata": {
        "colab": {
          "base_uri": "https://localhost:8080/"
        },
        "id": "Ftt7kuQ8nGcw",
        "outputId": "c0c6fc1e-db76-409e-d235-22523439db5f"
      },
      "source": [
        "# Central limit theorem@2\n",
        "\n",
        "import math\n",
        "\n",
        "def cdf(x,mean,std):\n",
        "    return 0.5*(1+ math.erf((x-mean)/(std*math.sqrt(2))))\n",
        "\n",
        "ava_tick = int(input())\n",
        "tick_need = int(input())\n",
        "mean = float(input())\n",
        "std = float(input())\n",
        "samp_mean = tick_need*mean\n",
        "samp_std = math.sqrt(tick_need)*std\n",
        "prob = cdf(ava_tick,samp_mean,samp_std)\n",
        "print(round(prob,4))"
      ],
      "execution_count": 2,
      "outputs": [
        {
          "output_type": "stream",
          "text": [
            "250\n",
            "100\n",
            "2.4\n",
            "2.0\n",
            "0.6915\n"
          ],
          "name": "stdout"
        }
      ]
    },
    {
      "cell_type": "code",
      "metadata": {
        "colab": {
          "base_uri": "https://localhost:8080/"
        },
        "id": "KtNHn3zXojrg",
        "outputId": "30afe088-87bb-4237-b98c-83946ff12309"
      },
      "source": [
        "# Central limit theorem@3\n",
        "\n",
        "import math\n",
        "\n",
        "sam_size = int(input())\n",
        "mean = int(input())\n",
        "std = int(input())\n",
        "per = float(input())\n",
        "z_score = float(input())\n",
        "new_mean = sam_size*mean\n",
        "new_std = math.sqrt(sam_size)*std\n",
        "c1 = (mean-(z_score*std/math.sqrt(sam_size)))\n",
        "c2 = (mean+(z_score*std/math.sqrt(sam_size)))\n",
        "print(round(c1,2))\n",
        "print(round(c2,2))"
      ],
      "execution_count": 3,
      "outputs": [
        {
          "output_type": "stream",
          "text": [
            "100\n",
            "500\n",
            "80\n",
            "0.95\n",
            "1.96\n",
            "484.32\n",
            "515.68\n"
          ],
          "name": "stdout"
        }
      ]
    }
  ]
}