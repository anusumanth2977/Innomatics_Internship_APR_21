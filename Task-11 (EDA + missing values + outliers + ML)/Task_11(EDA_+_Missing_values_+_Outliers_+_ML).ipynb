{
  "nbformat": 4,
  "nbformat_minor": 0,
  "metadata": {
    "colab": {
      "name": "Task-11(EDA + Missing values + Outliers + ML).ipynb",
      "provenance": [],
      "collapsed_sections": []
    },
    "kernelspec": {
      "name": "python3",
      "display_name": "Python 3"
    },
    "language_info": {
      "name": "python"
    }
  },
  "cells": [
    {
      "cell_type": "code",
      "metadata": {
        "id": "19NJMaqYxn4G"
      },
      "source": [
        "import numpy as np\n",
        "import pandas as pd \n",
        "import seaborn as sns\n",
        "import matplotlib.pyplot as plt\n",
        "from scipy import stats\n",
        "from scipy.stats import norm"
      ],
      "execution_count": 110,
      "outputs": []
    },
    {
      "cell_type": "code",
      "metadata": {
        "id": "tbBH3Rqr09R8"
      },
      "source": [
        "df = pd.read_csv('/adult.csv')"
      ],
      "execution_count": 2,
      "outputs": []
    },
    {
      "cell_type": "code",
      "metadata": {
        "colab": {
          "base_uri": "https://localhost:8080/"
        },
        "id": "_MkgsgbR1TRz",
        "outputId": "67f84d35-465f-492b-e836-06f5f14ccabb"
      },
      "source": [
        "df.info()"
      ],
      "execution_count": null,
      "outputs": [
        {
          "output_type": "stream",
          "text": [
            "<class 'pandas.core.frame.DataFrame'>\n",
            "RangeIndex: 48842 entries, 0 to 48841\n",
            "Data columns (total 15 columns):\n",
            " #   Column           Non-Null Count  Dtype \n",
            "---  ------           --------------  ----- \n",
            " 0   age              48842 non-null  int64 \n",
            " 1   workclass        48842 non-null  object\n",
            " 2   fnlwgt           48842 non-null  int64 \n",
            " 3   education        48842 non-null  object\n",
            " 4   educational-num  48842 non-null  int64 \n",
            " 5   marital-status   48842 non-null  object\n",
            " 6   occupation       48842 non-null  object\n",
            " 7   relationship     48842 non-null  object\n",
            " 8   race             48842 non-null  object\n",
            " 9   gender           48842 non-null  object\n",
            " 10  capital-gain     48842 non-null  int64 \n",
            " 11  capital-loss     48842 non-null  int64 \n",
            " 12  hours-per-week   48842 non-null  int64 \n",
            " 13  native-country   48842 non-null  object\n",
            " 14  income           48842 non-null  object\n",
            "dtypes: int64(6), object(9)\n",
            "memory usage: 5.6+ MB\n"
          ],
          "name": "stdout"
        }
      ]
    },
    {
      "cell_type": "code",
      "metadata": {
        "colab": {
          "base_uri": "https://localhost:8080/",
          "height": 323
        },
        "id": "etC1z7wa1LFv",
        "outputId": "3d686e77-817e-4cd2-a437-df11bebec6d7"
      },
      "source": [
        "df.head()"
      ],
      "execution_count": null,
      "outputs": [
        {
          "output_type": "execute_result",
          "data": {
            "text/html": [
              "<div>\n",
              "<style scoped>\n",
              "    .dataframe tbody tr th:only-of-type {\n",
              "        vertical-align: middle;\n",
              "    }\n",
              "\n",
              "    .dataframe tbody tr th {\n",
              "        vertical-align: top;\n",
              "    }\n",
              "\n",
              "    .dataframe thead th {\n",
              "        text-align: right;\n",
              "    }\n",
              "</style>\n",
              "<table border=\"1\" class=\"dataframe\">\n",
              "  <thead>\n",
              "    <tr style=\"text-align: right;\">\n",
              "      <th></th>\n",
              "      <th>age</th>\n",
              "      <th>workclass</th>\n",
              "      <th>fnlwgt</th>\n",
              "      <th>education</th>\n",
              "      <th>educational-num</th>\n",
              "      <th>marital-status</th>\n",
              "      <th>occupation</th>\n",
              "      <th>relationship</th>\n",
              "      <th>race</th>\n",
              "      <th>gender</th>\n",
              "      <th>capital-gain</th>\n",
              "      <th>capital-loss</th>\n",
              "      <th>hours-per-week</th>\n",
              "      <th>native-country</th>\n",
              "      <th>income</th>\n",
              "    </tr>\n",
              "  </thead>\n",
              "  <tbody>\n",
              "    <tr>\n",
              "      <th>0</th>\n",
              "      <td>25</td>\n",
              "      <td>Private</td>\n",
              "      <td>226802</td>\n",
              "      <td>11th</td>\n",
              "      <td>7</td>\n",
              "      <td>Never-married</td>\n",
              "      <td>Machine-op-inspct</td>\n",
              "      <td>Own-child</td>\n",
              "      <td>Black</td>\n",
              "      <td>Male</td>\n",
              "      <td>0</td>\n",
              "      <td>0</td>\n",
              "      <td>40</td>\n",
              "      <td>United-States</td>\n",
              "      <td>&lt;=50K</td>\n",
              "    </tr>\n",
              "    <tr>\n",
              "      <th>1</th>\n",
              "      <td>38</td>\n",
              "      <td>Private</td>\n",
              "      <td>89814</td>\n",
              "      <td>HS-grad</td>\n",
              "      <td>9</td>\n",
              "      <td>Married-civ-spouse</td>\n",
              "      <td>Farming-fishing</td>\n",
              "      <td>Husband</td>\n",
              "      <td>White</td>\n",
              "      <td>Male</td>\n",
              "      <td>0</td>\n",
              "      <td>0</td>\n",
              "      <td>50</td>\n",
              "      <td>United-States</td>\n",
              "      <td>&lt;=50K</td>\n",
              "    </tr>\n",
              "    <tr>\n",
              "      <th>2</th>\n",
              "      <td>28</td>\n",
              "      <td>Local-gov</td>\n",
              "      <td>336951</td>\n",
              "      <td>Assoc-acdm</td>\n",
              "      <td>12</td>\n",
              "      <td>Married-civ-spouse</td>\n",
              "      <td>Protective-serv</td>\n",
              "      <td>Husband</td>\n",
              "      <td>White</td>\n",
              "      <td>Male</td>\n",
              "      <td>0</td>\n",
              "      <td>0</td>\n",
              "      <td>40</td>\n",
              "      <td>United-States</td>\n",
              "      <td>&gt;50K</td>\n",
              "    </tr>\n",
              "    <tr>\n",
              "      <th>3</th>\n",
              "      <td>44</td>\n",
              "      <td>Private</td>\n",
              "      <td>160323</td>\n",
              "      <td>Some-college</td>\n",
              "      <td>10</td>\n",
              "      <td>Married-civ-spouse</td>\n",
              "      <td>Machine-op-inspct</td>\n",
              "      <td>Husband</td>\n",
              "      <td>Black</td>\n",
              "      <td>Male</td>\n",
              "      <td>7688</td>\n",
              "      <td>0</td>\n",
              "      <td>40</td>\n",
              "      <td>United-States</td>\n",
              "      <td>&gt;50K</td>\n",
              "    </tr>\n",
              "    <tr>\n",
              "      <th>4</th>\n",
              "      <td>18</td>\n",
              "      <td>?</td>\n",
              "      <td>103497</td>\n",
              "      <td>Some-college</td>\n",
              "      <td>10</td>\n",
              "      <td>Never-married</td>\n",
              "      <td>?</td>\n",
              "      <td>Own-child</td>\n",
              "      <td>White</td>\n",
              "      <td>Female</td>\n",
              "      <td>0</td>\n",
              "      <td>0</td>\n",
              "      <td>30</td>\n",
              "      <td>United-States</td>\n",
              "      <td>&lt;=50K</td>\n",
              "    </tr>\n",
              "  </tbody>\n",
              "</table>\n",
              "</div>"
            ],
            "text/plain": [
              "   age  workclass  fnlwgt  ... hours-per-week  native-country income\n",
              "0   25    Private  226802  ...             40   United-States  <=50K\n",
              "1   38    Private   89814  ...             50   United-States  <=50K\n",
              "2   28  Local-gov  336951  ...             40   United-States   >50K\n",
              "3   44    Private  160323  ...             40   United-States   >50K\n",
              "4   18          ?  103497  ...             30   United-States  <=50K\n",
              "\n",
              "[5 rows x 15 columns]"
            ]
          },
          "metadata": {
            "tags": []
          },
          "execution_count": 12
        }
      ]
    },
    {
      "cell_type": "code",
      "metadata": {
        "colab": {
          "base_uri": "https://localhost:8080/"
        },
        "id": "t-KneFzZ1bVl",
        "outputId": "d712d378-c2b0-4908-83af-970766d5fb5f"
      },
      "source": [
        "df.shape"
      ],
      "execution_count": null,
      "outputs": [
        {
          "output_type": "execute_result",
          "data": {
            "text/plain": [
              "(48842, 15)"
            ]
          },
          "metadata": {
            "tags": []
          },
          "execution_count": 14
        }
      ]
    },
    {
      "cell_type": "code",
      "metadata": {
        "id": "XMkGoPwA9pth"
      },
      "source": [
        "# removing unwanted columns\n",
        "df.drop(['fnlwgt','educational-num','relationship','capital-gain','capital-loss'], axis = 1, inplace = True)"
      ],
      "execution_count": 3,
      "outputs": []
    },
    {
      "cell_type": "code",
      "metadata": {
        "colab": {
          "base_uri": "https://localhost:8080/",
          "height": 295
        },
        "id": "7yBej6NH-sJM",
        "outputId": "a3875767-2797-48bd-d6f5-0fbf9b64c40d"
      },
      "source": [
        "df.describe()"
      ],
      "execution_count": 6,
      "outputs": [
        {
          "output_type": "execute_result",
          "data": {
            "text/html": [
              "<div>\n",
              "<style scoped>\n",
              "    .dataframe tbody tr th:only-of-type {\n",
              "        vertical-align: middle;\n",
              "    }\n",
              "\n",
              "    .dataframe tbody tr th {\n",
              "        vertical-align: top;\n",
              "    }\n",
              "\n",
              "    .dataframe thead th {\n",
              "        text-align: right;\n",
              "    }\n",
              "</style>\n",
              "<table border=\"1\" class=\"dataframe\">\n",
              "  <thead>\n",
              "    <tr style=\"text-align: right;\">\n",
              "      <th></th>\n",
              "      <th>age</th>\n",
              "      <th>hours-per-week</th>\n",
              "    </tr>\n",
              "  </thead>\n",
              "  <tbody>\n",
              "    <tr>\n",
              "      <th>count</th>\n",
              "      <td>48842.000000</td>\n",
              "      <td>48842.000000</td>\n",
              "    </tr>\n",
              "    <tr>\n",
              "      <th>mean</th>\n",
              "      <td>38.643585</td>\n",
              "      <td>40.422382</td>\n",
              "    </tr>\n",
              "    <tr>\n",
              "      <th>std</th>\n",
              "      <td>13.710510</td>\n",
              "      <td>12.391444</td>\n",
              "    </tr>\n",
              "    <tr>\n",
              "      <th>min</th>\n",
              "      <td>17.000000</td>\n",
              "      <td>1.000000</td>\n",
              "    </tr>\n",
              "    <tr>\n",
              "      <th>25%</th>\n",
              "      <td>28.000000</td>\n",
              "      <td>40.000000</td>\n",
              "    </tr>\n",
              "    <tr>\n",
              "      <th>50%</th>\n",
              "      <td>37.000000</td>\n",
              "      <td>40.000000</td>\n",
              "    </tr>\n",
              "    <tr>\n",
              "      <th>75%</th>\n",
              "      <td>48.000000</td>\n",
              "      <td>45.000000</td>\n",
              "    </tr>\n",
              "    <tr>\n",
              "      <th>max</th>\n",
              "      <td>90.000000</td>\n",
              "      <td>99.000000</td>\n",
              "    </tr>\n",
              "  </tbody>\n",
              "</table>\n",
              "</div>"
            ],
            "text/plain": [
              "                age  hours-per-week\n",
              "count  48842.000000    48842.000000\n",
              "mean      38.643585       40.422382\n",
              "std       13.710510       12.391444\n",
              "min       17.000000        1.000000\n",
              "25%       28.000000       40.000000\n",
              "50%       37.000000       40.000000\n",
              "75%       48.000000       45.000000\n",
              "max       90.000000       99.000000"
            ]
          },
          "metadata": {
            "tags": []
          },
          "execution_count": 6
        }
      ]
    },
    {
      "cell_type": "code",
      "metadata": {
        "colab": {
          "base_uri": "https://localhost:8080/",
          "height": 203
        },
        "id": "kOlBXNtY-eLb",
        "outputId": "6814e895-f9d0-45ec-ce32-a604e7771872"
      },
      "source": [
        "df.head()"
      ],
      "execution_count": 7,
      "outputs": [
        {
          "output_type": "execute_result",
          "data": {
            "text/html": [
              "<div>\n",
              "<style scoped>\n",
              "    .dataframe tbody tr th:only-of-type {\n",
              "        vertical-align: middle;\n",
              "    }\n",
              "\n",
              "    .dataframe tbody tr th {\n",
              "        vertical-align: top;\n",
              "    }\n",
              "\n",
              "    .dataframe thead th {\n",
              "        text-align: right;\n",
              "    }\n",
              "</style>\n",
              "<table border=\"1\" class=\"dataframe\">\n",
              "  <thead>\n",
              "    <tr style=\"text-align: right;\">\n",
              "      <th></th>\n",
              "      <th>age</th>\n",
              "      <th>workclass</th>\n",
              "      <th>education</th>\n",
              "      <th>marital-status</th>\n",
              "      <th>occupation</th>\n",
              "      <th>race</th>\n",
              "      <th>gender</th>\n",
              "      <th>hours-per-week</th>\n",
              "      <th>native-country</th>\n",
              "      <th>income</th>\n",
              "    </tr>\n",
              "  </thead>\n",
              "  <tbody>\n",
              "    <tr>\n",
              "      <th>0</th>\n",
              "      <td>25</td>\n",
              "      <td>Private</td>\n",
              "      <td>11th</td>\n",
              "      <td>Never-married</td>\n",
              "      <td>Machine-op-inspct</td>\n",
              "      <td>Black</td>\n",
              "      <td>Male</td>\n",
              "      <td>40</td>\n",
              "      <td>United-States</td>\n",
              "      <td>&lt;=50K</td>\n",
              "    </tr>\n",
              "    <tr>\n",
              "      <th>1</th>\n",
              "      <td>38</td>\n",
              "      <td>Private</td>\n",
              "      <td>HS-grad</td>\n",
              "      <td>Married-civ-spouse</td>\n",
              "      <td>Farming-fishing</td>\n",
              "      <td>White</td>\n",
              "      <td>Male</td>\n",
              "      <td>50</td>\n",
              "      <td>United-States</td>\n",
              "      <td>&lt;=50K</td>\n",
              "    </tr>\n",
              "    <tr>\n",
              "      <th>2</th>\n",
              "      <td>28</td>\n",
              "      <td>Local-gov</td>\n",
              "      <td>Assoc-acdm</td>\n",
              "      <td>Married-civ-spouse</td>\n",
              "      <td>Protective-serv</td>\n",
              "      <td>White</td>\n",
              "      <td>Male</td>\n",
              "      <td>40</td>\n",
              "      <td>United-States</td>\n",
              "      <td>&gt;50K</td>\n",
              "    </tr>\n",
              "    <tr>\n",
              "      <th>3</th>\n",
              "      <td>44</td>\n",
              "      <td>Private</td>\n",
              "      <td>Some-college</td>\n",
              "      <td>Married-civ-spouse</td>\n",
              "      <td>Machine-op-inspct</td>\n",
              "      <td>Black</td>\n",
              "      <td>Male</td>\n",
              "      <td>40</td>\n",
              "      <td>United-States</td>\n",
              "      <td>&gt;50K</td>\n",
              "    </tr>\n",
              "    <tr>\n",
              "      <th>4</th>\n",
              "      <td>18</td>\n",
              "      <td>?</td>\n",
              "      <td>Some-college</td>\n",
              "      <td>Never-married</td>\n",
              "      <td>?</td>\n",
              "      <td>White</td>\n",
              "      <td>Female</td>\n",
              "      <td>30</td>\n",
              "      <td>United-States</td>\n",
              "      <td>&lt;=50K</td>\n",
              "    </tr>\n",
              "  </tbody>\n",
              "</table>\n",
              "</div>"
            ],
            "text/plain": [
              "   age  workclass     education  ... hours-per-week native-country income\n",
              "0   25    Private          11th  ...             40  United-States  <=50K\n",
              "1   38    Private       HS-grad  ...             50  United-States  <=50K\n",
              "2   28  Local-gov    Assoc-acdm  ...             40  United-States   >50K\n",
              "3   44    Private  Some-college  ...             40  United-States   >50K\n",
              "4   18          ?  Some-college  ...             30  United-States  <=50K\n",
              "\n",
              "[5 rows x 10 columns]"
            ]
          },
          "metadata": {
            "tags": []
          },
          "execution_count": 7
        }
      ]
    },
    {
      "cell_type": "code",
      "metadata": {
        "colab": {
          "base_uri": "https://localhost:8080/",
          "height": 203
        },
        "id": "X2_7VZMi_AZc",
        "outputId": "7ccebdf0-cb51-4cd1-fe83-578ef6cc83e6"
      },
      "source": [
        "df.tail()"
      ],
      "execution_count": 8,
      "outputs": [
        {
          "output_type": "execute_result",
          "data": {
            "text/html": [
              "<div>\n",
              "<style scoped>\n",
              "    .dataframe tbody tr th:only-of-type {\n",
              "        vertical-align: middle;\n",
              "    }\n",
              "\n",
              "    .dataframe tbody tr th {\n",
              "        vertical-align: top;\n",
              "    }\n",
              "\n",
              "    .dataframe thead th {\n",
              "        text-align: right;\n",
              "    }\n",
              "</style>\n",
              "<table border=\"1\" class=\"dataframe\">\n",
              "  <thead>\n",
              "    <tr style=\"text-align: right;\">\n",
              "      <th></th>\n",
              "      <th>age</th>\n",
              "      <th>workclass</th>\n",
              "      <th>education</th>\n",
              "      <th>marital-status</th>\n",
              "      <th>occupation</th>\n",
              "      <th>race</th>\n",
              "      <th>gender</th>\n",
              "      <th>hours-per-week</th>\n",
              "      <th>native-country</th>\n",
              "      <th>income</th>\n",
              "    </tr>\n",
              "  </thead>\n",
              "  <tbody>\n",
              "    <tr>\n",
              "      <th>48837</th>\n",
              "      <td>27</td>\n",
              "      <td>Private</td>\n",
              "      <td>Assoc-acdm</td>\n",
              "      <td>Married-civ-spouse</td>\n",
              "      <td>Tech-support</td>\n",
              "      <td>White</td>\n",
              "      <td>Female</td>\n",
              "      <td>38</td>\n",
              "      <td>United-States</td>\n",
              "      <td>&lt;=50K</td>\n",
              "    </tr>\n",
              "    <tr>\n",
              "      <th>48838</th>\n",
              "      <td>40</td>\n",
              "      <td>Private</td>\n",
              "      <td>HS-grad</td>\n",
              "      <td>Married-civ-spouse</td>\n",
              "      <td>Machine-op-inspct</td>\n",
              "      <td>White</td>\n",
              "      <td>Male</td>\n",
              "      <td>40</td>\n",
              "      <td>United-States</td>\n",
              "      <td>&gt;50K</td>\n",
              "    </tr>\n",
              "    <tr>\n",
              "      <th>48839</th>\n",
              "      <td>58</td>\n",
              "      <td>Private</td>\n",
              "      <td>HS-grad</td>\n",
              "      <td>Widowed</td>\n",
              "      <td>Adm-clerical</td>\n",
              "      <td>White</td>\n",
              "      <td>Female</td>\n",
              "      <td>40</td>\n",
              "      <td>United-States</td>\n",
              "      <td>&lt;=50K</td>\n",
              "    </tr>\n",
              "    <tr>\n",
              "      <th>48840</th>\n",
              "      <td>22</td>\n",
              "      <td>Private</td>\n",
              "      <td>HS-grad</td>\n",
              "      <td>Never-married</td>\n",
              "      <td>Adm-clerical</td>\n",
              "      <td>White</td>\n",
              "      <td>Male</td>\n",
              "      <td>20</td>\n",
              "      <td>United-States</td>\n",
              "      <td>&lt;=50K</td>\n",
              "    </tr>\n",
              "    <tr>\n",
              "      <th>48841</th>\n",
              "      <td>52</td>\n",
              "      <td>Self-emp-inc</td>\n",
              "      <td>HS-grad</td>\n",
              "      <td>Married-civ-spouse</td>\n",
              "      <td>Exec-managerial</td>\n",
              "      <td>White</td>\n",
              "      <td>Female</td>\n",
              "      <td>40</td>\n",
              "      <td>United-States</td>\n",
              "      <td>&gt;50K</td>\n",
              "    </tr>\n",
              "  </tbody>\n",
              "</table>\n",
              "</div>"
            ],
            "text/plain": [
              "       age     workclass   education  ... hours-per-week native-country income\n",
              "48837   27       Private  Assoc-acdm  ...             38  United-States  <=50K\n",
              "48838   40       Private     HS-grad  ...             40  United-States   >50K\n",
              "48839   58       Private     HS-grad  ...             40  United-States  <=50K\n",
              "48840   22       Private     HS-grad  ...             20  United-States  <=50K\n",
              "48841   52  Self-emp-inc     HS-grad  ...             40  United-States   >50K\n",
              "\n",
              "[5 rows x 10 columns]"
            ]
          },
          "metadata": {
            "tags": []
          },
          "execution_count": 8
        }
      ]
    },
    {
      "cell_type": "code",
      "metadata": {
        "colab": {
          "base_uri": "https://localhost:8080/"
        },
        "id": "42KsH0sr-2Bj",
        "outputId": "c6415282-982f-4b19-a5ca-101a53d704d5"
      },
      "source": [
        "df.shape"
      ],
      "execution_count": 9,
      "outputs": [
        {
          "output_type": "execute_result",
          "data": {
            "text/plain": [
              "(48842, 10)"
            ]
          },
          "metadata": {
            "tags": []
          },
          "execution_count": 9
        }
      ]
    },
    {
      "cell_type": "markdown",
      "metadata": {
        "id": "RCRPoa3Ep4CX"
      },
      "source": [
        "# **Univariate Analysis**"
      ]
    },
    {
      "cell_type": "markdown",
      "metadata": {
        "id": "bV0hKDPxpq4r"
      },
      "source": [
        "## **Analysis of AGE column**"
      ]
    },
    {
      "cell_type": "code",
      "metadata": {
        "colab": {
          "base_uri": "https://localhost:8080/"
        },
        "id": "qB06oAqapwch",
        "outputId": "9d3fd6b9-65bb-499c-b1a7-08c9e31e4e4c"
      },
      "source": [
        "df['age'].describe()"
      ],
      "execution_count": 10,
      "outputs": [
        {
          "output_type": "execute_result",
          "data": {
            "text/plain": [
              "count    48842.000000\n",
              "mean        38.643585\n",
              "std         13.710510\n",
              "min         17.000000\n",
              "25%         28.000000\n",
              "50%         37.000000\n",
              "75%         48.000000\n",
              "max         90.000000\n",
              "Name: age, dtype: float64"
            ]
          },
          "metadata": {
            "tags": []
          },
          "execution_count": 10
        }
      ]
    },
    {
      "cell_type": "code",
      "metadata": {
        "id": "ki5CRQW91r4D",
        "colab": {
          "base_uri": "https://localhost:8080/"
        },
        "outputId": "4bc48c7f-325e-4597-d16a-b712d7a9c604"
      },
      "source": [
        "df['age'].unique()"
      ],
      "execution_count": 11,
      "outputs": [
        {
          "output_type": "execute_result",
          "data": {
            "text/plain": [
              "array([25, 38, 28, 44, 18, 34, 29, 63, 24, 55, 65, 36, 26, 58, 48, 43, 20,\n",
              "       37, 40, 72, 45, 22, 23, 54, 32, 46, 56, 17, 39, 52, 21, 42, 33, 30,\n",
              "       47, 41, 19, 69, 50, 31, 59, 49, 51, 27, 57, 61, 64, 79, 73, 53, 77,\n",
              "       80, 62, 35, 68, 66, 75, 60, 67, 71, 70, 90, 81, 74, 78, 82, 83, 85,\n",
              "       76, 84, 89, 88, 87, 86])"
            ]
          },
          "metadata": {
            "tags": []
          },
          "execution_count": 11
        }
      ]
    },
    {
      "cell_type": "code",
      "metadata": {
        "colab": {
          "base_uri": "https://localhost:8080/"
        },
        "id": "CnmcYefKq5Rg",
        "outputId": "c48fcf83-f5b1-4efa-a3de-e05ea97ea8e0"
      },
      "source": [
        "df['age'].unique().shape"
      ],
      "execution_count": 12,
      "outputs": [
        {
          "output_type": "execute_result",
          "data": {
            "text/plain": [
              "(74,)"
            ]
          },
          "metadata": {
            "tags": []
          },
          "execution_count": 12
        }
      ]
    },
    {
      "cell_type": "code",
      "metadata": {
        "colab": {
          "base_uri": "https://localhost:8080/"
        },
        "id": "SFMqCILKq5E9",
        "outputId": "9a8d0248-cc25-43d2-8bd5-321c9afffabe"
      },
      "source": [
        "df['age'].value_counts()"
      ],
      "execution_count": 13,
      "outputs": [
        {
          "output_type": "execute_result",
          "data": {
            "text/plain": [
              "36    1348\n",
              "35    1337\n",
              "33    1335\n",
              "23    1329\n",
              "31    1325\n",
              "      ... \n",
              "88       6\n",
              "85       5\n",
              "87       3\n",
              "89       2\n",
              "86       1\n",
              "Name: age, Length: 74, dtype: int64"
            ]
          },
          "metadata": {
            "tags": []
          },
          "execution_count": 13
        }
      ]
    },
    {
      "cell_type": "code",
      "metadata": {
        "colab": {
          "base_uri": "https://localhost:8080/"
        },
        "id": "fUN5XD_2q43X",
        "outputId": "14561b6d-a6c4-4161-a802-d9f72562fb5b"
      },
      "source": [
        "df['age'].isnull().sum()"
      ],
      "execution_count": 14,
      "outputs": [
        {
          "output_type": "execute_result",
          "data": {
            "text/plain": [
              "0"
            ]
          },
          "metadata": {
            "tags": []
          },
          "execution_count": 14
        }
      ]
    },
    {
      "cell_type": "code",
      "metadata": {
        "colab": {
          "base_uri": "https://localhost:8080/",
          "height": 500
        },
        "id": "jyDPtWUyq4o3",
        "outputId": "a27717fb-1efb-4920-ef85-eb3f951d6f8e"
      },
      "source": [
        "plt.figure(figsize=(18,8))\n",
        "sns.countplot(x=df['age'],order=df['age'].value_counts().iloc[:].index)\n",
        "plt.xticks(rotation=90)\n",
        "plt.show()"
      ],
      "execution_count": 16,
      "outputs": [
        {
          "output_type": "display_data",
          "data": {
            "image/png": "[encoded data removed]",
            "text/plain": [
              "<Figure size 1296x576 with 1 Axes>"
            ]
          },
          "metadata": {
            "tags": [],
            "needs_background": "light"
          }
        }
      ]
    },
    {
      "cell_type": "markdown",
      "metadata": {
        "id": "pJ9GUoiIswlH"
      },
      "source": [
        "people with age 36 are in maximum number.\n",
        "\n",
        "people with age 86 are in minimum number. "
      ]
    },
    {
      "cell_type": "code",
      "metadata": {
        "id": "8Cv_gAoDsZ5c"
      },
      "source": [
        "# To find outliers we are using IQR\n",
        "\n",
        "def iqr(df):\n",
        "    outliers=[]\n",
        "    q1 = df.quantile(0.25)\n",
        "    q3 = df.quantile(0.75)\n",
        "    iqr = q3-q1\n",
        "    Lower_tail = q1 - 1.5 * iqr\n",
        "    Upper_tail = q3 + 1.5 * iqr\n",
        "    print(\"Lower limit is: \",Lower_tail)\n",
        "    print(\"Upper limit is: \",Upper_tail)\n",
        "    for i in df:\n",
        "        if i > Upper_tail or i < Lower_tail:\n",
        "            outliers.append(i)\n",
        "    return outliers"
      ],
      "execution_count": 17,
      "outputs": []
    },
    {
      "cell_type": "code",
      "metadata": {
        "colab": {
          "base_uri": "https://localhost:8080/",
          "height": 402
        },
        "id": "qa46Aznu7g1u",
        "outputId": "5e3ebb06-3af7-4f49-9f76-d7535824959a"
      },
      "source": [
        "#Plotting the displot to see that the data is normally distributed or not\n",
        "\n",
        "plt.figure(figsize=(8,8))\n",
        "sns.displot(x=df['age'],kind='kde')"
      ],
      "execution_count": 18,
      "outputs": [
        {
          "output_type": "execute_result",
          "data": {
            "text/plain": [
              "<seaborn.axisgrid.FacetGrid at 0x7f848f46f190>"
            ]
          },
          "metadata": {
            "tags": []
          },
          "execution_count": 18
        },
        {
          "output_type": "display_data",
          "data": {
            "text/plain": [
              "<Figure size 576x576 with 0 Axes>"
            ]
          },
          "metadata": {
            "tags": []
          }
        },
        {
          "output_type": "display_data",
          "data": {
            "image/png": "[encoded data removed]",
            "text/plain": [
              "<Figure size 360x360 with 1 Axes>"
            ]
          },
          "metadata": {
            "tags": [],
            "needs_background": "light"
          }
        }
      ]
    },
    {
      "cell_type": "markdown",
      "metadata": {
        "id": "bqER7WyAxVG-"
      },
      "source": [
        "the data seems to be symmetric with some outliers"
      ]
    },
    {
      "cell_type": "code",
      "metadata": {
        "colab": {
          "base_uri": "https://localhost:8080/",
          "height": 486
        },
        "id": "LoM92e5HtA51",
        "outputId": "029a2284-c7da-4ee1-fd6b-19521adfd83b"
      },
      "source": [
        "\n",
        "#plotting box plot to find outliers\n",
        "\n",
        "plt.figure(figsize=(8,8))\n",
        "sns.boxplot(y=df['age'])"
      ],
      "execution_count": 19,
      "outputs": [
        {
          "output_type": "execute_result",
          "data": {
            "text/plain": [
              "<matplotlib.axes._subplots.AxesSubplot at 0x7f848f46f950>"
            ]
          },
          "metadata": {
            "tags": []
          },
          "execution_count": 19
        },
        {
          "output_type": "display_data",
          "data": {
            "image/png": "[encoded data removed]",
            "text/plain": [
              "<Figure size 576x576 with 1 Axes>"
            ]
          },
          "metadata": {
            "tags": [],
            "needs_background": "light"
          }
        }
      ]
    },
    {
      "cell_type": "code",
      "metadata": {
        "colab": {
          "base_uri": "https://localhost:8080/"
        },
        "id": "2Z9ne1sytNw5",
        "outputId": "a007cb88-1dd4-467b-d180-a91ed733745b"
      },
      "source": [
        "# Finding outliers in the data\n",
        "\n",
        "age_outliers=iqr(df['age'])\n",
        "print(len(age_outliers))\n",
        "print(age_outliers)\n",
        "print(min(age_outliers))"
      ],
      "execution_count": 20,
      "outputs": [
        {
          "output_type": "stream",
          "text": [
            "Lower limit is:  -2.0\n",
            "Upper limit is:  78.0\n",
            "216\n",
            "[79, 80, 90, 79, 80, 81, 82, 83, 81, 85, 80, 90, 81, 84, 81, 89, 81, 83, 81, 82, 80, 90, 81, 83, 80, 90, 90, 84, 80, 80, 80, 81, 90, 85, 90, 81, 81, 80, 80, 79, 81, 80, 88, 87, 90, 79, 83, 79, 80, 90, 79, 79, 81, 81, 90, 82, 90, 87, 81, 88, 80, 81, 80, 81, 90, 88, 89, 84, 80, 80, 83, 79, 81, 79, 90, 80, 81, 90, 88, 90, 90, 80, 90, 81, 82, 79, 81, 80, 83, 90, 90, 79, 81, 90, 90, 80, 90, 90, 79, 79, 84, 90, 80, 90, 81, 83, 84, 81, 79, 85, 82, 79, 80, 90, 90, 90, 84, 80, 90, 90, 79, 84, 90, 79, 90, 90, 90, 82, 81, 90, 84, 79, 81, 82, 81, 80, 90, 80, 84, 82, 79, 90, 84, 90, 83, 79, 81, 80, 79, 80, 79, 80, 90, 90, 80, 90, 90, 81, 83, 82, 90, 90, 81, 80, 80, 90, 79, 80, 82, 85, 80, 79, 90, 81, 79, 80, 79, 81, 82, 88, 90, 82, 88, 84, 83, 79, 86, 90, 90, 82, 83, 81, 79, 90, 80, 81, 79, 84, 84, 79, 90, 80, 81, 81, 81, 90, 87, 90, 80, 80, 82, 90, 90, 85, 82, 81]\n",
            "79\n"
          ],
          "name": "stdout"
        }
      ]
    },
    {
      "cell_type": "code",
      "metadata": {
        "id": "DOxIq3vvtZZN"
      },
      "source": [
        "#removing outliers in the data\n",
        "df['age']=df[df['age']<80]"
      ],
      "execution_count": 21,
      "outputs": []
    },
    {
      "cell_type": "code",
      "metadata": {
        "colab": {
          "base_uri": "https://localhost:8080/",
          "height": 486
        },
        "id": "oNereROCtq6u",
        "outputId": "36159ef7-8dfc-4c69-8b48-90d35d1c574c"
      },
      "source": [
        "#Plotting box plot to see outliers\n",
        "\n",
        "plt.figure(figsize=(8,8))\n",
        "sns.boxplot(y=df['age'])"
      ],
      "execution_count": 22,
      "outputs": [
        {
          "output_type": "execute_result",
          "data": {
            "text/plain": [
              "<matplotlib.axes._subplots.AxesSubplot at 0x7f849dfa2cd0>"
            ]
          },
          "metadata": {
            "tags": []
          },
          "execution_count": 22
        },
        {
          "output_type": "display_data",
          "data": {
            "image/png": "[encoded data removed]",
            "text/plain": [
              "<Figure size 576x576 with 1 Axes>"
            ]
          },
          "metadata": {
            "tags": [],
            "needs_background": "light"
          }
        }
      ]
    },
    {
      "cell_type": "markdown",
      "metadata": {
        "id": "zXJRBlABu1jT"
      },
      "source": [
        "we have removed maximum outliers from the data"
      ]
    },
    {
      "cell_type": "code",
      "metadata": {
        "colab": {
          "base_uri": "https://localhost:8080/"
        },
        "id": "468j4NqEtq1R",
        "outputId": "eb59acab-4b5d-4dbc-c35a-ef26f43bd5f7"
      },
      "source": [
        "#To see how many null values are there in the data\n",
        "\n",
        "df['age'].isnull().sum()"
      ],
      "execution_count": 23,
      "outputs": [
        {
          "output_type": "execute_result",
          "data": {
            "text/plain": [
              "186"
            ]
          },
          "metadata": {
            "tags": []
          },
          "execution_count": 23
        }
      ]
    },
    {
      "cell_type": "code",
      "metadata": {
        "id": "1B0wUwlrvJ4i"
      },
      "source": [
        "# Filling null values with median\n",
        "\n",
        "df['age']=df['age'].fillna(df['age'].median())"
      ],
      "execution_count": 24,
      "outputs": []
    },
    {
      "cell_type": "code",
      "metadata": {
        "id": "OlVcx6JYvSb7",
        "colab": {
          "base_uri": "https://localhost:8080/"
        },
        "outputId": "9179ee2d-d158-4cb0-df62-10db2da6d16f"
      },
      "source": [
        "df['age'].isnull().sum()"
      ],
      "execution_count": 25,
      "outputs": [
        {
          "output_type": "execute_result",
          "data": {
            "text/plain": [
              "0"
            ]
          },
          "metadata": {
            "tags": []
          },
          "execution_count": 25
        }
      ]
    },
    {
      "cell_type": "code",
      "metadata": {
        "colab": {
          "base_uri": "https://localhost:8080/",
          "height": 402
        },
        "id": "YPOJANTh8p21",
        "outputId": "edf95960-7f12-44e7-9353-e68a7061f035"
      },
      "source": [
        "plt.figure(figsize=(10,10))\n",
        "sns.displot(x = df['age'], kind='kde')"
      ],
      "execution_count": 26,
      "outputs": [
        {
          "output_type": "execute_result",
          "data": {
            "text/plain": [
              "<seaborn.axisgrid.FacetGrid at 0x7f848416ce10>"
            ]
          },
          "metadata": {
            "tags": []
          },
          "execution_count": 26
        },
        {
          "output_type": "display_data",
          "data": {
            "text/plain": [
              "<Figure size 720x720 with 0 Axes>"
            ]
          },
          "metadata": {
            "tags": []
          }
        },
        {
          "output_type": "display_data",
          "data": {
            "image/png": "[encoded data removed]",
            "text/plain": [
              "<Figure size 360x360 with 1 Axes>"
            ]
          },
          "metadata": {
            "tags": [],
            "needs_background": "light"
          }
        }
      ]
    },
    {
      "cell_type": "markdown",
      "metadata": {
        "id": "-ExV-OFXxrZE"
      },
      "source": [
        "1)We can see that after removing the outliers and inputing nan values with median our symmetry of data has improved a lot.\n",
        "\n",
        "2)Our distribution also looks preety much normally distribured."
      ]
    },
    {
      "cell_type": "markdown",
      "metadata": {
        "id": "QYr2_6_10IjD"
      },
      "source": [
        "## Analysing workclass"
      ]
    },
    {
      "cell_type": "code",
      "metadata": {
        "colab": {
          "base_uri": "https://localhost:8080/"
        },
        "id": "HUlNWYZGx_H3",
        "outputId": "d70de1bd-894e-4db0-ead9-7d190a5f54fc"
      },
      "source": [
        "df['workclass'].describe()"
      ],
      "execution_count": 27,
      "outputs": [
        {
          "output_type": "execute_result",
          "data": {
            "text/plain": [
              "count       48842\n",
              "unique          9\n",
              "top       Private\n",
              "freq        33906\n",
              "Name: workclass, dtype: object"
            ]
          },
          "metadata": {
            "tags": []
          },
          "execution_count": 27
        }
      ]
    },
    {
      "cell_type": "code",
      "metadata": {
        "colab": {
          "base_uri": "https://localhost:8080/"
        },
        "id": "NQwlF8vZ0Xv8",
        "outputId": "12c3e38d-54bb-450f-9119-74a7c052d95e"
      },
      "source": [
        "df['workclass'].value_counts()"
      ],
      "execution_count": 28,
      "outputs": [
        {
          "output_type": "execute_result",
          "data": {
            "text/plain": [
              "Private             33906\n",
              "Self-emp-not-inc     3862\n",
              "Local-gov            3136\n",
              "?                    2799\n",
              "State-gov            1981\n",
              "Self-emp-inc         1695\n",
              "Federal-gov          1432\n",
              "Without-pay            21\n",
              "Never-worked           10\n",
              "Name: workclass, dtype: int64"
            ]
          },
          "metadata": {
            "tags": []
          },
          "execution_count": 28
        }
      ]
    },
    {
      "cell_type": "code",
      "metadata": {
        "colab": {
          "base_uri": "https://localhost:8080/"
        },
        "id": "KUDqx2L60Xsl",
        "outputId": "0c09923e-2c7a-45c3-acde-6cfd7b83bc1b"
      },
      "source": [
        "df['workclass'].isnull().sum()"
      ],
      "execution_count": 29,
      "outputs": [
        {
          "output_type": "execute_result",
          "data": {
            "text/plain": [
              "0"
            ]
          },
          "metadata": {
            "tags": []
          },
          "execution_count": 29
        }
      ]
    },
    {
      "cell_type": "code",
      "metadata": {
        "colab": {
          "base_uri": "https://localhost:8080/",
          "height": 569
        },
        "id": "VPzU7L-10XqO",
        "outputId": "932e533e-0825-4911-e854-677f1944ec5a"
      },
      "source": [
        "plt.figure(figsize=(18,8))\n",
        "sns.countplot(x = df['workclass'])\n",
        "plt.xticks(rotation = 90)\n",
        "plt.show()"
      ],
      "execution_count": 30,
      "outputs": [
        {
          "output_type": "display_data",
          "data": {
            "image/png": "[encoded data removed]",
            "text/plain": [
              "<Figure size 1296x576 with 1 Axes>"
            ]
          },
          "metadata": {
            "tags": [],
            "needs_background": "light"
          }
        }
      ]
    },
    {
      "cell_type": "markdown",
      "metadata": {
        "id": "jiqsrj1f1pAF"
      },
      "source": [
        "most of the people from the private sector\n",
        "\n",
        "there are also some missing values \"?\""
      ]
    },
    {
      "cell_type": "code",
      "metadata": {
        "id": "HO3dTAJ00Xed"
      },
      "source": [
        "df['workclass'] = df['workclass'].replace('?',np.nan)"
      ],
      "execution_count": 31,
      "outputs": []
    },
    {
      "cell_type": "code",
      "metadata": {
        "colab": {
          "base_uri": "https://localhost:8080/"
        },
        "id": "QugnvlIM0XIq",
        "outputId": "e45e63cc-a82b-4983-8bca-a252873caaa2"
      },
      "source": [
        "df['workclass'].value_counts()"
      ],
      "execution_count": 32,
      "outputs": [
        {
          "output_type": "execute_result",
          "data": {
            "text/plain": [
              "Private             33906\n",
              "Self-emp-not-inc     3862\n",
              "Local-gov            3136\n",
              "State-gov            1981\n",
              "Self-emp-inc         1695\n",
              "Federal-gov          1432\n",
              "Without-pay            21\n",
              "Never-worked           10\n",
              "Name: workclass, dtype: int64"
            ]
          },
          "metadata": {
            "tags": []
          },
          "execution_count": 32
        }
      ]
    },
    {
      "cell_type": "code",
      "metadata": {
        "colab": {
          "base_uri": "https://localhost:8080/"
        },
        "id": "XPecfV6l2eYh",
        "outputId": "7ef5a6ae-22cd-435a-cbc1-e7615bef85d9"
      },
      "source": [
        "df['workclass'].isnull().sum()"
      ],
      "execution_count": 33,
      "outputs": [
        {
          "output_type": "execute_result",
          "data": {
            "text/plain": [
              "2799"
            ]
          },
          "metadata": {
            "tags": []
          },
          "execution_count": 33
        }
      ]
    },
    {
      "cell_type": "code",
      "metadata": {
        "colab": {
          "base_uri": "https://localhost:8080/"
        },
        "id": "cg3WqP5w2eVE",
        "outputId": "5639d25c-d71a-4bce-d77f-e7ef14363d89"
      },
      "source": [
        "df['workclass'].mode()"
      ],
      "execution_count": 34,
      "outputs": [
        {
          "output_type": "execute_result",
          "data": {
            "text/plain": [
              "0    Private\n",
              "dtype: object"
            ]
          },
          "metadata": {
            "tags": []
          },
          "execution_count": 34
        }
      ]
    },
    {
      "cell_type": "code",
      "metadata": {
        "id": "LluC5NVr43df"
      },
      "source": [
        "mode = df['workclass'].mode()[0]"
      ],
      "execution_count": 35,
      "outputs": []
    },
    {
      "cell_type": "code",
      "metadata": {
        "id": "uxBj5itn3-54"
      },
      "source": [
        "#filling missing values with mode\n",
        "df['workclass'].replace(np.nan,'Private',inplace=True)"
      ],
      "execution_count": 36,
      "outputs": []
    },
    {
      "cell_type": "code",
      "metadata": {
        "colab": {
          "base_uri": "https://localhost:8080/"
        },
        "id": "s2z5oA5g3-we",
        "outputId": "400047b3-24a1-41b9-ab83-882ae86c67e7"
      },
      "source": [
        "df['workclass'].isnull().sum()"
      ],
      "execution_count": 37,
      "outputs": [
        {
          "output_type": "execute_result",
          "data": {
            "text/plain": [
              "0"
            ]
          },
          "metadata": {
            "tags": []
          },
          "execution_count": 37
        }
      ]
    },
    {
      "cell_type": "code",
      "metadata": {
        "colab": {
          "base_uri": "https://localhost:8080/",
          "height": 569
        },
        "id": "uZ3s1V7-221r",
        "outputId": "f1e49060-5bb2-4f4c-e781-048027f4548d"
      },
      "source": [
        "plt.figure(figsize=(18,8))\n",
        "sns.countplot(x = df['workclass'])\n",
        "plt.xticks(rotation = 90)\n",
        "plt.show()"
      ],
      "execution_count": 38,
      "outputs": [
        {
          "output_type": "display_data",
          "data": {
            "image/png": "[encoded data removed]",
            "text/plain": [
              "<Figure size 1296x576 with 1 Axes>"
            ]
          },
          "metadata": {
            "tags": [],
            "needs_background": "light"
          }
        }
      ]
    },
    {
      "cell_type": "markdown",
      "metadata": {
        "id": "DkLAUg_AuT4v"
      },
      "source": [
        "## Analysis of education"
      ]
    },
    {
      "cell_type": "code",
      "metadata": {
        "colab": {
          "base_uri": "https://localhost:8080/"
        },
        "id": "3mK6Mpl0udIx",
        "outputId": "ad5dfc79-f606-48cf-9c89-effa9524b300"
      },
      "source": [
        "df['education'].describe()"
      ],
      "execution_count": 39,
      "outputs": [
        {
          "output_type": "execute_result",
          "data": {
            "text/plain": [
              "count       48842\n",
              "unique         16\n",
              "top       HS-grad\n",
              "freq        15784\n",
              "Name: education, dtype: object"
            ]
          },
          "metadata": {
            "tags": []
          },
          "execution_count": 39
        }
      ]
    },
    {
      "cell_type": "code",
      "metadata": {
        "colab": {
          "base_uri": "https://localhost:8080/"
        },
        "id": "IxMvYnq9udFl",
        "outputId": "e539ffe0-7124-4149-91b2-62e7a55ee6d2"
      },
      "source": [
        "df['education'].value_counts()"
      ],
      "execution_count": 40,
      "outputs": [
        {
          "output_type": "execute_result",
          "data": {
            "text/plain": [
              "HS-grad         15784\n",
              "Some-college    10878\n",
              "Bachelors        8025\n",
              "Masters          2657\n",
              "Assoc-voc        2061\n",
              "11th             1812\n",
              "Assoc-acdm       1601\n",
              "10th             1389\n",
              "7th-8th           955\n",
              "Prof-school       834\n",
              "9th               756\n",
              "12th              657\n",
              "Doctorate         594\n",
              "5th-6th           509\n",
              "1st-4th           247\n",
              "Preschool          83\n",
              "Name: education, dtype: int64"
            ]
          },
          "metadata": {
            "tags": []
          },
          "execution_count": 40
        }
      ]
    },
    {
      "cell_type": "code",
      "metadata": {
        "colab": {
          "base_uri": "https://localhost:8080/"
        },
        "id": "uo3X1nSUudCz",
        "outputId": "ca4c7db2-f02c-48a1-a62f-4fe14e21cc2c"
      },
      "source": [
        "df['education'].isnull().sum()"
      ],
      "execution_count": 41,
      "outputs": [
        {
          "output_type": "execute_result",
          "data": {
            "text/plain": [
              "0"
            ]
          },
          "metadata": {
            "tags": []
          },
          "execution_count": 41
        }
      ]
    },
    {
      "cell_type": "code",
      "metadata": {
        "colab": {
          "base_uri": "https://localhost:8080/",
          "height": 554
        },
        "id": "4iVNdPViuc_L",
        "outputId": "145d5e13-6fd9-44f3-d91c-065c39c5ac3a"
      },
      "source": [
        "plt.figure(figsize=(8,8))\n",
        "sns.countplot(x=df['education'],palette='rainbow')\n",
        "plt.xticks(rotation=90)\n",
        "plt.show()"
      ],
      "execution_count": 42,
      "outputs": [
        {
          "output_type": "display_data",
          "data": {
            "image/png": "[encoded data removed]",
            "text/plain": [
              "<Figure size 576x576 with 1 Axes>"
            ]
          },
          "metadata": {
            "tags": [],
            "needs_background": "light"
          }
        }
      ]
    },
    {
      "cell_type": "markdown",
      "metadata": {
        "id": "BTRi-U0rBhEL"
      },
      "source": [
        " Most of the people have completed HS-grad."
      ]
    },
    {
      "cell_type": "markdown",
      "metadata": {
        "id": "8GHygA2iBlDi"
      },
      "source": [
        "## Analysing Occupation"
      ]
    },
    {
      "cell_type": "code",
      "metadata": {
        "colab": {
          "base_uri": "https://localhost:8080/"
        },
        "id": "LSqnjmWduczh",
        "outputId": "5a45d081-39aa-4995-96f2-c2e1990cee9b"
      },
      "source": [
        "df['occupation'].describe()"
      ],
      "execution_count": 43,
      "outputs": [
        {
          "output_type": "execute_result",
          "data": {
            "text/plain": [
              "count              48842\n",
              "unique                15\n",
              "top       Prof-specialty\n",
              "freq                6172\n",
              "Name: occupation, dtype: object"
            ]
          },
          "metadata": {
            "tags": []
          },
          "execution_count": 43
        }
      ]
    },
    {
      "cell_type": "code",
      "metadata": {
        "colab": {
          "base_uri": "https://localhost:8080/"
        },
        "id": "624FM6jDN9_L",
        "outputId": "73fdc69d-b771-4bff-a294-b41989be928d"
      },
      "source": [
        "df['occupation'].value_counts()"
      ],
      "execution_count": 44,
      "outputs": [
        {
          "output_type": "execute_result",
          "data": {
            "text/plain": [
              "Prof-specialty       6172\n",
              "Craft-repair         6112\n",
              "Exec-managerial      6086\n",
              "Adm-clerical         5611\n",
              "Sales                5504\n",
              "Other-service        4923\n",
              "Machine-op-inspct    3022\n",
              "?                    2809\n",
              "Transport-moving     2355\n",
              "Handlers-cleaners    2072\n",
              "Farming-fishing      1490\n",
              "Tech-support         1446\n",
              "Protective-serv       983\n",
              "Priv-house-serv       242\n",
              "Armed-Forces           15\n",
              "Name: occupation, dtype: int64"
            ]
          },
          "metadata": {
            "tags": []
          },
          "execution_count": 44
        }
      ]
    },
    {
      "cell_type": "code",
      "metadata": {
        "colab": {
          "base_uri": "https://localhost:8080/",
          "height": 579
        },
        "id": "grVTP85mN968",
        "outputId": "d6351447-4f61-413c-ccad-9938a9082ce0"
      },
      "source": [
        "plt.figure(figsize=(10,8))\n",
        "sns.countplot(x = df['occupation'])\n",
        "plt.xticks(rotation=90)\n",
        "plt.show()"
      ],
      "execution_count": 45,
      "outputs": [
        {
          "output_type": "display_data",
          "data": {
            "image/png": "[encoded data removed]",
            "text/plain": [
              "<Figure size 720x576 with 1 Axes>"
            ]
          },
          "metadata": {
            "tags": [],
            "needs_background": "light"
          }
        }
      ]
    },
    {
      "cell_type": "markdown",
      "metadata": {
        "id": "JKMjyxphObm1"
      },
      "source": [
        "most of the people are from prof-speciality,craft-repair and exec-managerial\n",
        "\n",
        "we can see that there is also some missing values '?'\n"
      ]
    },
    {
      "cell_type": "code",
      "metadata": {
        "colab": {
          "base_uri": "https://localhost:8080/",
          "height": 35
        },
        "id": "LO4VeiRMN94K",
        "outputId": "a2596133-c1b4-4de4-df14-a90c764a1ee3"
      },
      "source": [
        "df['occupation'].mode()[0]\n"
      ],
      "execution_count": 46,
      "outputs": [
        {
          "output_type": "execute_result",
          "data": {
            "application/vnd.google.colaboratory.intrinsic+json": {
              "type": "string"
            },
            "text/plain": [
              "'Prof-specialty'"
            ]
          },
          "metadata": {
            "tags": []
          },
          "execution_count": 46
        }
      ]
    },
    {
      "cell_type": "code",
      "metadata": {
        "id": "0FhaVM82PBmd"
      },
      "source": [
        "df['occupation'].replace('?','Prof-specialty',inplace=True)"
      ],
      "execution_count": 47,
      "outputs": []
    },
    {
      "cell_type": "code",
      "metadata": {
        "colab": {
          "base_uri": "https://localhost:8080/",
          "height": 687
        },
        "id": "aaRMC_H3PBi3",
        "outputId": "83596fef-7777-4769-87df-6e882dbf8914"
      },
      "source": [
        "plt.figure(figsize=(18,10))\n",
        "sns.countplot(x=df['occupation'])\n",
        "plt.xticks(rotation=90)\n",
        "plt.show()"
      ],
      "execution_count": 51,
      "outputs": [
        {
          "output_type": "display_data",
          "data": {
            "image/png": "[encoded data removed]",
            "text/plain": [
              "<Figure size 1296x720 with 1 Axes>"
            ]
          },
          "metadata": {
            "tags": [],
            "needs_background": "light"
          }
        }
      ]
    },
    {
      "cell_type": "markdown",
      "metadata": {
        "id": "0OoehsIyDoBC"
      },
      "source": [
        "we have removed all the missing values"
      ]
    },
    {
      "cell_type": "markdown",
      "metadata": {
        "id": "yNm7giG-Sy5y"
      },
      "source": [
        "## Analysing Relationship"
      ]
    },
    {
      "cell_type": "code",
      "metadata": {
        "colab": {
          "base_uri": "https://localhost:8080/"
        },
        "id": "PFhF7lAYS6Cx",
        "outputId": "eee9bb94-a6a0-46c3-cd20-fd95c32e33bf"
      },
      "source": [
        "df['race'].describe()"
      ],
      "execution_count": 52,
      "outputs": [
        {
          "output_type": "execute_result",
          "data": {
            "text/plain": [
              "count     48842\n",
              "unique        5\n",
              "top       White\n",
              "freq      41762\n",
              "Name: race, dtype: object"
            ]
          },
          "metadata": {
            "tags": []
          },
          "execution_count": 52
        }
      ]
    },
    {
      "cell_type": "code",
      "metadata": {
        "colab": {
          "base_uri": "https://localhost:8080/"
        },
        "id": "0h64FrH1S-OK",
        "outputId": "ee052ab9-8fb1-45b7-9481-d28387ad7afb"
      },
      "source": [
        "df['race'].value_counts()"
      ],
      "execution_count": 53,
      "outputs": [
        {
          "output_type": "execute_result",
          "data": {
            "text/plain": [
              "White                 41762\n",
              "Black                  4685\n",
              "Asian-Pac-Islander     1519\n",
              "Amer-Indian-Eskimo      470\n",
              "Other                   406\n",
              "Name: race, dtype: int64"
            ]
          },
          "metadata": {
            "tags": []
          },
          "execution_count": 53
        }
      ]
    },
    {
      "cell_type": "code",
      "metadata": {
        "colab": {
          "base_uri": "https://localhost:8080/",
          "height": 497
        },
        "id": "4U2e8IV0S-Kp",
        "outputId": "7ab533eb-0efa-4470-bee0-51cdde004edc"
      },
      "source": [
        "#Plotting the countplot\n",
        "\n",
        "plt.figure(figsize=(10,8))\n",
        "sns.countplot(x=df['race'])\n",
        "plt.show()"
      ],
      "execution_count": 54,
      "outputs": [
        {
          "output_type": "display_data",
          "data": {
            "image/png": "[encoded data removed]",
            "text/plain": [
              "<Figure size 720x576 with 1 Axes>"
            ]
          },
          "metadata": {
            "tags": [],
            "needs_background": "light"
          }
        }
      ]
    },
    {
      "cell_type": "markdown",
      "metadata": {
        "id": "BrnfkshcTn5m"
      },
      "source": [
        "## Analysing Gender"
      ]
    },
    {
      "cell_type": "code",
      "metadata": {
        "colab": {
          "base_uri": "https://localhost:8080/"
        },
        "id": "Ki3IwvvgS-IU",
        "outputId": "15f2f10b-e81e-417f-faba-141ef47d9c70"
      },
      "source": [
        "df['gender'].describe()"
      ],
      "execution_count": 55,
      "outputs": [
        {
          "output_type": "execute_result",
          "data": {
            "text/plain": [
              "count     48842\n",
              "unique        2\n",
              "top        Male\n",
              "freq      32650\n",
              "Name: gender, dtype: object"
            ]
          },
          "metadata": {
            "tags": []
          },
          "execution_count": 55
        }
      ]
    },
    {
      "cell_type": "code",
      "metadata": {
        "colab": {
          "base_uri": "https://localhost:8080/"
        },
        "id": "qb6YxGrzS-GC",
        "outputId": "aaf84e5d-fc49-4b7c-a8f3-e8798da74aeb"
      },
      "source": [
        "df['gender'].value_counts()"
      ],
      "execution_count": 56,
      "outputs": [
        {
          "output_type": "execute_result",
          "data": {
            "text/plain": [
              "Male      32650\n",
              "Female    16192\n",
              "Name: gender, dtype: int64"
            ]
          },
          "metadata": {
            "tags": []
          },
          "execution_count": 56
        }
      ]
    },
    {
      "cell_type": "code",
      "metadata": {
        "colab": {
          "base_uri": "https://localhost:8080/",
          "height": 497
        },
        "id": "xmwEIQWyT4ZO",
        "outputId": "4fe733a6-d117-4813-98ab-edb7b7e2d360"
      },
      "source": [
        "#countplot\n",
        "plt.figure(figsize=(10,8))\n",
        "sns.countplot(x = df['gender'])\n",
        "plt.show()"
      ],
      "execution_count": 57,
      "outputs": [
        {
          "output_type": "display_data",
          "data": {
            "image/png": "[encoded data removed]",
            "text/plain": [
              "<Figure size 720x576 with 1 Axes>"
            ]
          },
          "metadata": {
            "tags": [],
            "needs_background": "light"
          }
        }
      ]
    },
    {
      "cell_type": "markdown",
      "metadata": {
        "id": "TLN_sBWNU0kh"
      },
      "source": [
        "## Analysing hours per week"
      ]
    },
    {
      "cell_type": "code",
      "metadata": {
        "id": "eLy6C5usU4Qo",
        "colab": {
          "base_uri": "https://localhost:8080/"
        },
        "outputId": "3be3bbec-1e68-4e85-f1a3-03a40f5bd8ce"
      },
      "source": [
        "df['hours-per-week'].describe()"
      ],
      "execution_count": 62,
      "outputs": [
        {
          "output_type": "execute_result",
          "data": {
            "text/plain": [
              "count    48842.000000\n",
              "mean        40.422382\n",
              "std         12.391444\n",
              "min          1.000000\n",
              "25%         40.000000\n",
              "50%         40.000000\n",
              "75%         45.000000\n",
              "max         99.000000\n",
              "Name: hours-per-week, dtype: float64"
            ]
          },
          "metadata": {
            "tags": []
          },
          "execution_count": 62
        }
      ]
    },
    {
      "cell_type": "code",
      "metadata": {
        "id": "NKYCeQTpU4qG",
        "colab": {
          "base_uri": "https://localhost:8080/"
        },
        "outputId": "d32b92c9-6aad-47ae-d3e3-4978a6e08b4d"
      },
      "source": [
        "df['hours-per-week'].value_counts()"
      ],
      "execution_count": 63,
      "outputs": [
        {
          "output_type": "execute_result",
          "data": {
            "text/plain": [
              "40    22803\n",
              "50     4246\n",
              "45     2717\n",
              "60     2177\n",
              "35     1937\n",
              "      ...  \n",
              "69        1\n",
              "94        1\n",
              "79        1\n",
              "82        1\n",
              "87        1\n",
              "Name: hours-per-week, Length: 96, dtype: int64"
            ]
          },
          "metadata": {
            "tags": []
          },
          "execution_count": 63
        }
      ]
    },
    {
      "cell_type": "code",
      "metadata": {
        "id": "yjmsxb4mU4lq",
        "colab": {
          "base_uri": "https://localhost:8080/",
          "height": 500
        },
        "outputId": "f1ab6474-61ff-4196-b5b7-00d62b9e3712"
      },
      "source": [
        "plt.figure(figsize=(18,8))\n",
        "sns.countplot(x=df['hours-per-week'])\n",
        "plt.xticks(rotation=90)\n",
        "plt.show()"
      ],
      "execution_count": 67,
      "outputs": [
        {
          "output_type": "display_data",
          "data": {
            "image/png": "[encoded data removed]",
            "text/plain": [
              "<Figure size 1296x576 with 1 Axes>"
            ]
          },
          "metadata": {
            "tags": [],
            "needs_background": "light"
          }
        }
      ]
    },
    {
      "cell_type": "markdown",
      "metadata": {
        "id": "aYf6ICQtEyPb"
      },
      "source": [
        "we can clearly see that maximum people work 40 hours/week"
      ]
    },
    {
      "cell_type": "code",
      "metadata": {
        "id": "leAhMDPHU4jq",
        "colab": {
          "base_uri": "https://localhost:8080/",
          "height": 369
        },
        "outputId": "6bca9761-67bf-4ddf-be92-559f1d621f7d"
      },
      "source": [
        "sns.displot(x = df['hours-per-week'],kind='kde')\n",
        "plt.show()"
      ],
      "execution_count": 70,
      "outputs": [
        {
          "output_type": "display_data",
          "data": {
            "image/png": "[encoded data removed]",
            "text/plain": [
              "<Figure size 360x360 with 1 Axes>"
            ]
          },
          "metadata": {
            "tags": [],
            "needs_background": "light"
          }
        }
      ]
    },
    {
      "cell_type": "code",
      "metadata": {
        "colab": {
          "base_uri": "https://localhost:8080/",
          "height": 486
        },
        "id": "JQSYRJocFt8m",
        "outputId": "28d9b32f-49d5-4283-b46a-a17e729c1731"
      },
      "source": [
        "#Plotting box-plot to see the outliers\n",
        "\n",
        "plt.figure(figsize=(10,8))\n",
        "sns.boxplot(y=df['hours-per-week'])"
      ],
      "execution_count": 71,
      "outputs": [
        {
          "output_type": "execute_result",
          "data": {
            "text/plain": [
              "<matplotlib.axes._subplots.AxesSubplot at 0x7f847d4e1ed0>"
            ]
          },
          "metadata": {
            "tags": []
          },
          "execution_count": 71
        },
        {
          "output_type": "display_data",
          "data": {
            "image/png": "[encoded data removed]",
            "text/plain": [
              "<Figure size 720x576 with 1 Axes>"
            ]
          },
          "metadata": {
            "tags": [],
            "needs_background": "light"
          }
        }
      ]
    },
    {
      "cell_type": "code",
      "metadata": {
        "colab": {
          "base_uri": "https://localhost:8080/"
        },
        "id": "YaY1MX4QF0e0",
        "outputId": "c9cfb00b-9382-4c69-9d6a-c3d22beb452d"
      },
      "source": [
        "hours_outliers=iqr(df['hours-per-week'])\n",
        "print(hours_outliers)"
      ],
      "execution_count": 72,
      "outputs": [
        {
          "output_type": "stream",
          "text": [
            "Lower limit is:  32.5\n",
            "Upper limit is:  52.5\n",
            "[30, 30, 32, 10, 25, 30, 20, 6, 90, 20, 54, 60, 32, 18, 20, 24, 60, 54, 60, 20, 30, 10, 56, 10, 25, 20, 10, 18, 28, 16, 28, 20, 24, 60, 25, 30, 25, 60, 60, 22, 55, 30, 30, 30, 30, 14, 32, 20, 25, 30, 16, 25, 60, 55, 8, 55, 54, 20, 55, 12, 32, 32, 30, 60, 28, 60, 12, 32, 20, 70, 15, 20, 25, 30, 20, 75, 24, 60, 25, 55, 55, 32, 60, 16, 60, 84, 60, 25, 15, 60, 20, 55, 80, 30, 12, 84, 80, 60, 25, 25, 70, 60, 8, 68, 10, 15, 99, 55, 60, 16, 20, 25, 65, 55, 24, 70, 25, 30, 20, 20, 55, 5, 60, 60, 20, 55, 65, 60, 20, 10, 75, 20, 32, 28, 17, 30, 28, 60, 60, 55, 60, 10, 10, 65, 18, 60, 72, 12, 60, 30, 60, 20, 60, 60, 25, 60, 25, 8, 60, 54, 65, 30, 80, 30, 20, 28, 55, 55, 60, 56, 30, 30, 53, 10, 60, 30, 10, 25, 25, 20, 20, 20, 25, 55, 20, 32, 10, 29, 32, 75, 24, 20, 20, 70, 55, 55, 30, 25, 10, 80, 60, 16, 25, 65, 60, 60, 96, 25, 20, 55, 30, 28, 60, 55, 28, 21, 8, 60, 60, 15, 20, 10, 30, 25, 90, 15, 5, 16, 25, 60, 25, 25, 55, 10, 30, 8, 18, 3, 16, 20, 30, 60, 30, 25, 55, 1, 55, 60, 30, 55, 60, 30, 99, 60, 60, 80, 55, 30, 30, 23, 55, 70, 12, 32, 60, 55, 16, 56, 55, 60, 80, 67, 60, 60, 20, 25, 20, 15, 15, 25, 25, 20, 10, 24, 56, 18, 20, 60, 60, 30, 65, 20, 25, 12, 84, 60, 70, 16, 60, 30, 54, 76, 65, 99, 21, 20, 24, 55, 60, 20, 30, 7, 55, 99, 60, 70, 20, 10, 16, 30, 25, 25, 30, 60, 17, 55, 20, 24, 60, 30, 8, 60, 20, 24, 56, 32, 23, 56, 30, 56, 60, 30, 16, 2, 25, 58, 12, 25, 70, 25, 30, 55, 60, 55, 26, 15, 20, 20, 12, 25, 30, 8, 60, 60, 12, 60, 15, 30, 15, 60, 60, 4, 7, 20, 30, 60, 30, 20, 10, 15, 60, 15, 60, 2, 60, 30, 30, 17, 60, 55, 30, 23, 24, 17, 24, 15, 25, 60, 55, 78, 30, 60, 20, 10, 80, 70, 63, 28, 72, 25, 60, 25, 28, 20, 10, 60, 32, 55, 22, 15, 25, 32, 60, 6, 55, 60, 55, 30, 25, 25, 20, 60, 60, 20, 60, 30, 5, 20, 23, 20, 16, 55, 20, 30, 10, 30, 60, 30, 30, 99, 15, 20, 70, 84, 65, 30, 70, 58, 15, 10, 70, 60, 18, 30, 60, 60, 60, 20, 60, 30, 70, 15, 28, 25, 80, 70, 60, 55, 5, 25, 55, 60, 65, 60, 55, 20, 20, 14, 60, 55, 25, 20, 25, 60, 30, 3, 5, 32, 30, 16, 21, 8, 15, 20, 60, 55, 80, 55, 20, 20, 70, 15, 60, 24, 15, 30, 28, 20, 30, 20, 23, 30, 56, 60, 72, 32, 60, 25, 60, 56, 25, 60, 60, 80, 32, 25, 30, 65, 31, 60, 16, 65, 12, 80, 70, 10, 20, 20, 70, 56, 30, 24, 70, 65, 20, 30, 55, 15, 20, 72, 15, 8, 25, 55, 99, 32, 20, 20, 30, 25, 60, 60, 92, 20, 10, 20, 8, 25, 10, 30, 24, 30, 25, 8, 18, 8, 15, 60, 20, 20, 20, 30, 30, 31, 12, 3, 18, 60, 80, 25, 60, 60, 84, 21, 55, 15, 20, 25, 30, 60, 20, 55, 65, 60, 30, 55, 6, 25, 60, 30, 20, 60, 55, 60, 70, 12, 70, 30, 10, 55, 60, 20, 30, 25, 20, 55, 60, 15, 7, 30, 30, 8, 77, 99, 20, 27, 10, 20, 32, 25, 60, 8, 53, 60, 20, 24, 30, 10, 60, 60, 30, 29, 5, 20, 25, 70, 55, 80, 60, 25, 60, 60, 32, 5, 32, 10, 55, 30, 20, 30, 70, 16, 10, 60, 15, 25, 12, 60, 18, 20, 12, 15, 20, 20, 32, 32, 60, 60, 56, 60, 32, 55, 55, 84, 30, 12, 20, 25, 32, 24, 28, 85, 60, 20, 60, 53, 75, 8, 60, 16, 20, 1, 60, 30, 20, 4, 20, 20, 60, 6, 99, 55, 24, 60, 8, 60, 30, 25, 30, 60, 55, 23, 5, 8, 20, 20, 30, 32, 60, 30, 10, 30, 20, 15, 72, 21, 65, 60, 25, 60, 60, 20, 30, 70, 4, 25, 75, 60, 25, 30, 25, 60, 55, 25, 30, 2, 25, 20, 30, 10, 20, 20, 30, 20, 60, 30, 60, 65, 60, 20, 55, 32, 70, 7, 18, 20, 13, 70, 24, 10, 65, 60, 15, 29, 60, 10, 20, 25, 30, 84, 24, 15, 30, 20, 32, 32, 26, 30, 14, 10, 56, 20, 55, 30, 5, 20, 30, 80, 8, 32, 99, 16, 30, 75, 25, 60, 15, 6, 20, 25, 20, 25, 19, 70, 98, 30, 55, 20, 8, 20, 60, 20, 55, 60, 10, 15, 60, 30, 55, 25, 18, 80, 20, 55, 10, 55, 84, 20, 30, 55, 6, 55, 10, 65, 60, 15, 60, 55, 60, 20, 77, 10, 32, 70, 20, 20, 25, 75, 30, 62, 16, 5, 55, 18, 20, 30, 24, 96, 32, 30, 60, 60, 8, 99, 20, 30, 16, 70, 18, 60, 20, 30, 16, 10, 15, 72, 25, 65, 20, 20, 65, 60, 30, 30, 23, 20, 15, 24, 65, 60, 32, 20, 25, 60, 70, 75, 70, 70, 4, 80, 30, 30, 30, 30, 55, 25, 60, 90, 20, 60, 20, 60, 20, 55, 4, 60, 15, 72, 20, 20, 78, 60, 23, 20, 70, 55, 30, 60, 25, 30, 30, 8, 84, 66, 8, 20, 10, 55, 30, 16, 57, 60, 14, 60, 18, 30, 30, 30, 70, 60, 15, 21, 20, 60, 60, 25, 65, 15, 22, 30, 30, 30, 60, 65, 30, 30, 60, 25, 80, 25, 90, 8, 55, 28, 60, 15, 70, 25, 32, 32, 60, 12, 20, 30, 25, 20, 15, 30, 25, 80, 25, 25, 30, 8, 21, 11, 25, 20, 86, 26, 65, 30, 60, 30, 30, 55, 80, 60, 18, 15, 4, 75, 32, 25, 25, 15, 30, 72, 20, 60, 10, 65, 20, 60, 60, 8, 55, 55, 55, 70, 12, 60, 24, 20, 11, 15, 30, 56, 30, 22, 59, 60, 4, 25, 25, 60, 18, 20, 32, 60, 20, 60, 10, 55, 10, 16, 14, 65, 30, 30, 9, 20, 60, 25, 60, 72, 30, 16, 60, 30, 30, 55, 84, 5, 30, 30, 55, 80, 25, 18, 25, 60, 10, 30, 60, 15, 55, 70, 99, 70, 20, 27, 16, 70, 25, 28, 30, 65, 60, 60, 20, 20, 25, 20, 30, 24, 70, 30, 72, 8, 16, 65, 25, 16, 20, 5, 30, 30, 16, 10, 70, 26, 20, 14, 53, 60, 55, 20, 60, 60, 70, 32, 30, 60, 20, 20, 60, 55, 28, 15, 18, 32, 20, 30, 8, 55, 15, 18, 30, 28, 66, 8, 25, 14, 80, 30, 16, 20, 55, 56, 75, 10, 30, 60, 25, 30, 10, 6, 55, 32, 66, 20, 20, 20, 60, 20, 12, 60, 20, 5, 10, 15, 24, 18, 24, 32, 58, 25, 60, 12, 25, 30, 20, 9, 15, 85, 30, 24, 6, 55, 55, 32, 55, 20, 18, 15, 20, 25, 24, 24, 60, 15, 20, 53, 12, 15, 23, 20, 4, 16, 65, 55, 30, 70, 32, 70, 56, 24, 30, 60, 20, 29, 12, 56, 20, 32, 20, 80, 25, 20, 60, 10, 8, 60, 29, 30, 60, 12, 16, 30, 80, 20, 60, 16, 30, 25, 24, 25, 30, 65, 30, 25, 60, 32, 60, 60, 6, 20, 25, 55, 25, 20, 30, 20, 16, 20, 8, 20, 30, 14, 55, 60, 8, 10, 60, 20, 25, 60, 24, 70, 8, 65, 20, 75, 15, 20, 10, 30, 30, 25, 60, 60, 15, 5, 65, 18, 15, 55, 80, 25, 10, 20, 55, 28, 15, 80, 22, 55, 60, 63, 30, 55, 60, 55, 20, 27, 25, 3, 55, 60, 20, 55, 2, 20, 20, 32, 30, 10, 6, 20, 30, 60, 70, 32, 4, 32, 60, 8, 60, 60, 60, 30, 60, 64, 60, 32, 55, 70, 80, 55, 55, 20, 32, 60, 20, 15, 20, 12, 73, 30, 60, 55, 58, 84, 70, 55, 15, 15, 15, 60, 60, 60, 99, 75, 10, 65, 30, 4, 15, 11, 20, 80, 30, 56, 60, 15, 60, 84, 20, 14, 2, 15, 70, 20, 25, 60, 4, 20, 20, 24, 16, 21, 20, 30, 20, 30, 20, 22, 10, 75, 10, 56, 60, 30, 60, 60, 60, 55, 99, 60, 32, 12, 55, 32, 25, 17, 20, 56, 16, 20, 4, 20, 60, 60, 60, 32, 55, 32, 30, 55, 30, 24, 28, 20, 12, 12, 20, 55, 30, 30, 25, 55, 20, 24, 27, 32, 15, 30, 99, 20, 60, 30, 20, 16, 15, 20, 32, 20, 20, 99, 15, 20, 70, 25, 60, 60, 12, 30, 60, 30, 15, 55, 32, 20, 55, 70, 30, 60, 20, 10, 15, 20, 55, 55, 32, 60, 30, 60, 60, 10, 15, 20, 60, 8, 65, 99, 60, 55, 30, 20, 90, 61, 60, 25, 25, 60, 20, 30, 30, 60, 60, 10, 10, 20, 24, 30, 15, 20, 8, 5, 55, 60, 30, 30, 10, 56, 30, 32, 70, 8, 55, 25, 25, 60, 55, 30, 55, 15, 60, 60, 80, 20, 20, 16, 30, 20, 55, 54, 55, 10, 75, 60, 55, 20, 30, 20, 27, 20, 80, 96, 70, 2, 70, 55, 60, 30, 20, 27, 60, 30, 84, 32, 55, 60, 25, 30, 55, 20, 25, 15, 16, 70, 60, 20, 25, 58, 60, 16, 99, 25, 18, 60, 25, 75, 10, 11, 8, 24, 15, 72, 99, 90, 8, 30, 60, 8, 60, 18, 70, 31, 55, 16, 5, 60, 25, 16, 20, 65, 60, 25, 60, 60, 18, 60, 60, 15, 60, 25, 55, 10, 64, 12, 25, 30, 15, 15, 30, 25, 65, 20, 20, 30, 60, 20, 55, 55, 20, 20, 72, 15, 60, 75, 30, 60, 60, 55, 30, 55, 25, 70, 30, 60, 60, 24, 20, 99, 72, 80, 70, 55, 55, 55, 30, 24, 20, 88, 55, 20, 30, 24, 60, 70, 30, 55, 20, 60, 27, 15, 55, 12, 30, 30, 32, 8, 60, 55, 54, 10, 60, 30, 60, 10, 30, 20, 10, 60, 16, 24, 30, 25, 5, 24, 28, 55, 10, 55, 30, 20, 25, 20, 30, 12, 20, 30, 8, 2, 66, 55, 80, 80, 30, 90, 60, 5, 60, 30, 32, 55, 20, 55, 15, 25, 15, 25, 6, 12, 72, 32, 10, 30, 56, 20, 20, 20, 12, 60, 65, 79, 32, 32, 30, 65, 5, 60, 72, 20, 25, 60, 20, 4, 4, 20, 60, 60, 60, 60, 78, 20, 55, 20, 10, 20, 25, 60, 65, 60, 30, 60, 30, 10, 25, 23, 84, 55, 20, 60, 2, 64, 30, 20, 60, 70, 18, 30, 20, 24, 65, 60, 20, 60, 8, 18, 55, 8, 30, 53, 20, 55, 6, 55, 31, 75, 60, 20, 70, 75, 10, 25, 80, 30, 65, 24, 65, 80, 60, 30, 60, 10, 60, 24, 12, 12, 60, 30, 70, 84, 18, 32, 20, 30, 32, 30, 70, 60, 21, 20, 60, 24, 20, 16, 55, 60, 55, 3, 15, 10, 60, 16, 75, 60, 60, 20, 4, 55, 28, 24, 60, 58, 28, 20, 4, 24, 25, 24, 1, 17, 60, 10, 70, 30, 15, 60, 20, 30, 5, 55, 60, 55, 20, 23, 24, 84, 12, 55, 30, 15, 55, 55, 99, 30, 31, 65, 56, 60, 53, 60, 25, 55, 60, 72, 65, 20, 30, 8, 89, 25, 60, 60, 70, 10, 98, 32, 30, 30, 20, 56, 5, 80, 55, 21, 60, 15, 60, 32, 80, 20, 60, 90, 55, 56, 56, 55, 60, 20, 55, 60, 60, 60, 32, 18, 30, 60, 60, 25, 20, 15, 12, 72, 60, 65, 18, 20, 32, 30, 60, 60, 28, 22, 20, 25, 30, 55, 30, 15, 20, 55, 55, 24, 32, 30, 60, 18, 55, 60, 60, 60, 30, 30, 70, 3, 24, 15, 20, 4, 18, 30, 70, 20, 80, 20, 99, 80, 25, 32, 55, 25, 24, 54, 25, 20, 5, 12, 53, 60, 15, 30, 13, 72, 15, 15, 55, 20, 32, 28, 12, 55, 55, 70, 20, 20, 20, 30, 24, 30, 5, 60, 20, 30, 55, 53, 60, 60, 21, 28, 60, 15, 15, 25, 30, 9, 24, 55, 60, 12, 60, 55, 20, 20, 25, 20, 27, 70, 60, 25, 65, 78, 60, 55, 60, 30, 20, 25, 56, 60, 20, 20, 16, 30, 60, 30, 15, 20, 20, 20, 20, 10, 32, 8, 14, 20, 20, 7, 28, 20, 60, 30, 25, 20, 20, 2, 20, 70, 60, 20, 10, 30, 55, 20, 32, 15, 60, 25, 30, 30, 70, 30, 10, 55, 12, 60, 60, 99, 30, 60, 99, 25, 60, 60, 30, 60, 32, 60, 20, 70, 70, 20, 32, 55, 56, 12, 13, 60, 16, 15, 63, 66, 20, 80, 20, 20, 70, 24, 30, 25, 65, 16, 30, 10, 24, 20, 60, 80, 20, 20, 60, 72, 60, 30, 20, 55, 12, 15, 30, 8, 20, 32, 70, 30, 20, 4, 15, 30, 20, 30, 60, 30, 32, 30, 2, 80, 20, 15, 65, 55, 12, 65, 60, 20, 55, 80, 32, 60, 30, 60, 11, 15, 55, 10, 15, 30, 60, 20, 25, 25, 20, 20, 30, 55, 18, 60, 12, 23, 60, 20, 99, 72, 60, 60, 21, 60, 70, 57, 30, 30, 80, 20, 30, 32, 20, 60, 25, 60, 16, 60, 60, 30, 55, 20, 20, 12, 6, 60, 16, 15, 30, 30, 25, 65, 28, 55, 55, 20, 70, 15, 70, 32, 60, 32, 60, 60, 20, 20, 55, 16, 20, 60, 60, 20, 60, 60, 55, 99, 60, 20, 23, 55, 99, 20, 20, 55, 32, 18, 55, 60, 55, 15, 60, 55, 10, 32, 70, 60, 20, 65, 20, 60, 20, 25, 55, 60, 30, 25, 53, 65, 20, 55, 55, 80, 20, 20, 55, 80, 22, 30, 30, 60, 20, 70, 90, 20, 30, 20, 55, 30, 25, 15, 20, 54, 8, 60, 25, 60, 8, 60, 80, 30, 28, 78, 56, 60, 30, 55, 20, 30, 60, 60, 30, 20, 30, 20, 84, 70, 3, 22, 5, 60, 15, 60, 20, 25, 55, 6, 80, 60, 60, 21, 60, 20, 55, 15, 20, 30, 20, 16, 32, 30, 28, 80, 28, 32, 70, 25, 60, 60, 20, 20, 60, 32, 32, 30, 30, 18, 30, 30, 1, 70, 14, 20, 20, 10, 30, 55, 16, 60, 60, 60, 20, 70, 25, 20, 32, 32, 80, 23, 10, 25, 25, 30, 20, 60, 60, 60, 99, 15, 55, 20, 20, 55, 70, 65, 24, 30, 30, 25, 22, 30, 60, 12, 30, 6, 60, 30, 30, 60, 28, 30, 54, 24, 60, 99, 30, 99, 80, 25, 8, 60, 60, 55, 55, 15, 60, 14, 20, 54, 55, 30, 60, 19, 12, 10, 24, 15, 20, 25, 25, 60, 60, 62, 19, 75, 30, 15, 75, 20, 20, 20, 60, 55, 70, 30, 65, 24, 23, 30, 60, 60, 12, 65, 55, 55, 15, 65, 60, 30, 20, 60, 8, 18, 56, 55, 20, 99, 10, 16, 25, 10, 70, 65, 60, 55, 60, 20, 20, 60, 80, 55, 30, 30, 55, 20, 11, 88, 20, 25, 32, 20, 60, 20, 15, 15, 20, 13, 25, 56, 55, 30, 60, 20, 55, 10, 28, 30, 15, 5, 55, 20, 15, 32, 65, 70, 30, 30, 25, 10, 25, 60, 60, 65, 30, 24, 25, 15, 15, 32, 20, 8, 55, 30, 70, 15, 70, 6, 55, 32, 30, 20, 16, 20, 30, 20, 20, 20, 60, 30, 20, 20, 20, 20, 3, 30, 60, 15, 24, 72, 60, 54, 17, 60, 55, 30, 8, 60, 72, 30, 25, 4, 60, 90, 55, 30, 3, 80, 32, 20, 85, 75, 16, 20, 30, 25, 20, 20, 20, 12, 20, 30, 7, 16, 7, 16, 20, 84, 68, 12, 70, 32, 20, 70, 15, 20, 20, 60, 30, 7, 60, 20, 4, 20, 30, 20, 12, 55, 18, 55, 55, 30, 60, 15, 28, 3, 55, 6, 60, 60, 60, 70, 5, 10, 72, 65, 55, 8, 20, 60, 10, 98, 19, 15, 80, 99, 10, 24, 16, 84, 20, 25, 65, 65, 5, 60, 55, 16, 12, 60, 20, 16, 25, 22, 60, 2, 80, 4, 60, 30, 30, 20, 10, 99, 20, 30, 20, 32, 55, 30, 72, 20, 32, 15, 24, 24, 18, 18, 16, 20, 16, 70, 10, 55, 60, 32, 16, 26, 8, 16, 30, 20, 60, 60, 32, 70, 15, 56, 15, 20, 55, 15, 30, 20, 99, 20, 12, 25, 20, 1, 60, 20, 14, 30, 12, 30, 18, 15, 30, 60, 4, 20, 15, 32, 30, 18, 55, 55, 30, 55, 28, 30, 60, 15, 10, 25, 14, 20, 30, 24, 60, 10, 25, 32, 30, 21, 60, 20, 30, 55, 24, 25, 55, 32, 20, 20, 55, 20, 11, 22, 25, 25, 65, 15, 65, 20, 55, 30, 8, 25, 60, 65, 15, 20, 30, 30, 2, 55, 70, 24, 61, 30, 60, 25, 16, 60, 30, 9, 8, 8, 60, 60, 30, 55, 20, 18, 32, 25, 55, 20, 99, 60, 25, 60, 15, 30, 55, 29, 20, 20, 60, 15, 55, 96, 20, 55, 60, 30, 10, 60, 30, 20, 12, 28, 84, 15, 65, 60, 55, 55, 65, 28, 12, 65, 60, 60, 20, 15, 20, 55, 20, 30, 60, 30, 30, 60, 70, 30, 70, 70, 15, 55, 25, 70, 22, 99, 6, 60, 20, 18, 65, 30, 60, 30, 32, 60, 55, 28, 16, 30, 12, 16, 60, 25, 60, 20, 15, 25, 60, 60, 60, 30, 25, 10, 60, 32, 6, 32, 60, 20, 30, 25, 20, 16, 60, 8, 15, 55, 60, 32, 66, 26, 10, 24, 25, 55, 24, 55, 60, 20, 20, 60, 60, 60, 55, 20, 20, 80, 24, 60, 60, 24, 11, 1, 30, 70, 53, 60, 28, 77, 10, 99, 72, 65, 70, 25, 32, 20, 60, 65, 60, 20, 60, 55, 20, 15, 70, 60, 60, 30, 6, 25, 16, 55, 16, 60, 12, 25, 30, 30, 15, 6, 20, 32, 18, 20, 60, 23, 30, 55, 32, 30, 60, 25, 55, 60, 70, 60, 60, 30, 60, 55, 32, 30, 10, 30, 30, 55, 25, 60, 18, 21, 7, 20, 65, 20, 15, 15, 75, 30, 25, 56, 30, 10, 20, 12, 30, 70, 70, 25, 55, 24, 99, 25, 16, 10, 20, 30, 32, 12, 60, 10, 17, 55, 20, 32, 20, 2, 60, 99, 10, 12, 20, 25, 25, 60, 30, 60, 20, 30, 20, 16, 60, 55, 30, 65, 20, 20, 60, 60, 30, 55, 30, 32, 55, 20, 16, 32, 60, 21, 25, 20, 30, 5, 55, 24, 20, 17, 32, 55, 65, 25, 20, 20, 30, 16, 20, 70, 25, 30, 28, 60, 20, 5, 27, 55, 60, 60, 60, 32, 16, 65, 10, 75, 30, 30, 5, 60, 60, 60, 60, 55, 53, 25, 55, 60, 60, 1, 25, 60, 20, 20, 60, 20, 60, 60, 60, 65, 20, 30, 63, 55, 60, 20, 60, 24, 60, 23, 30, 7, 60, 20, 6, 30, 25, 15, 20, 20, 55, 20, 10, 84, 20, 54, 55, 25, 15, 80, 20, 10, 20, 55, 60, 90, 5, 20, 30, 30, 20, 60, 10, 30, 55, 70, 20, 30, 55, 3, 60, 10, 16, 18, 54, 30, 26, 30, 30, 15, 30, 15, 65, 20, 5, 20, 20, 30, 2, 60, 20, 24, 20, 65, 60, 72, 32, 24, 54, 22, 99, 60, 55, 55, 56, 55, 99, 32, 15, 60, 25, 60, 65, 27, 15, 32, 20, 70, 20, 20, 75, 15, 3, 15, 30, 30, 20, 27, 25, 10, 20, 60, 15, 24, 30, 55, 60, 30, 10, 60, 30, 60, 20, 85, 65, 70, 15, 30, 30, 15, 99, 65, 20, 30, 28, 60, 65, 64, 15, 65, 30, 55, 55, 30, 25, 55, 60, 60, 15, 54, 60, 20, 20, 21, 15, 30, 25, 15, 8, 32, 60, 30, 20, 30, 60, 20, 60, 56, 75, 30, 30, 5, 20, 30, 55, 20, 30, 20, 7, 55, 23, 60, 30, 3, 60, 55, 3, 32, 25, 12, 28, 15, 25, 60, 60, 30, 30, 55, 56, 65, 25, 65, 99, 24, 60, 20, 25, 15, 30, 10, 70, 60, 60, 60, 65, 60, 8, 60, 10, 55, 20, 60, 3, 32, 64, 20, 60, 15, 20, 20, 30, 18, 25, 14, 7, 20, 10, 22, 60, 23, 80, 30, 20, 30, 80, 8, 20, 28, 15, 56, 28, 20, 12, 55, 55, 20, 30, 55, 55, 99, 55, 15, 25, 25, 20, 7, 12, 30, 20, 30, 56, 10, 30, 70, 15, 55, 60, 55, 30, 20, 32, 10, 30, 32, 20, 72, 9, 20, 30, 2, 15, 60, 30, 60, 20, 30, 30, 20, 16, 15, 20, 30, 72, 25, 15, 30, 30, 75, 30, 10, 20, 14, 99, 30, 55, 30, 20, 30, 10, 60, 24, 99, 60, 60, 80, 70, 60, 64, 55, 20, 25, 30, 12, 20, 20, 74, 20, 20, 55, 24, 7, 30, 60, 12, 20, 60, 15, 58, 20, 20, 30, 22, 26, 20, 13, 55, 4, 10, 15, 55, 70, 72, 20, 20, 55, 4, 20, 28, 27, 25, 60, 24, 55, 65, 65, 70, 21, 55, 30, 20, 55, 20, 6, 4, 30, 24, 80, 30, 30, 55, 60, 60, 60, 8, 60, 55, 60, 75, 60, 7, 8, 20, 55, 15, 60, 15, 20, 60, 15, 58, 10, 20, 70, 12, 12, 72, 60, 20, 60, 70, 30, 65, 18, 30, 60, 30, 65, 18, 24, 20, 10, 99, 15, 25, 24, 24, 30, 25, 65, 55, 60, 99, 30, 30, 25, 15, 2, 20, 17, 75, 20, 55, 20, 70, 60, 20, 30, 10, 80, 20, 25, 20, 30, 25, 55, 60, 30, 25, 60, 25, 30, 24, 56, 60, 20, 12, 30, 16, 16, 10, 25, 30, 55, 30, 20, 15, 2, 80, 86, 60, 24, 20, 60, 20, 20, 10, 30, 80, 24, 60, 60, 30, 20, 14, 55, 32, 56, 65, 60, 24, 30, 60, 16, 16, 6, 20, 60, 60, 25, 60, 31, 7, 16, 20, 11, 60, 60, 3, 20, 60, 62, 60, 10, 20, 30, 65, 60, 30, 55, 30, 20, 60, 60, 55, 25, 60, 12, 4, 30, 55, 70, 20, 70, 30, 55, 56, 32, 60, 65, 25, 80, 20, 20, 15, 25, 18, 20, 32, 55, 60, 60, 20, 30, 20, 15, 55, 25, 28, 2, 30, 28, 10, 28, 25, 30, 64, 10, 60, 30, 30, 55, 15, 10, 70, 20, 70, 55, 65, 25, 30, 60, 32, 65, 60, 73, 25, 84, 3, 60, 20, 30, 20, 30, 80, 30, 55, 25, 72, 55, 60, 20, 60, 68, 15, 25, 60, 25, 55, 16, 63, 80, 60, 25, 70, 15, 20, 18, 25, 70, 15, 10, 60, 65, 25, 24, 20, 16, 53, 3, 75, 5, 30, 20, 60, 30, 18, 60, 30, 60, 30, 70, 60, 6, 75, 65, 30, 28, 25, 60, 15, 12, 8, 25, 70, 70, 55, 60, 30, 60, 70, 25, 21, 60, 55, 15, 60, 30, 62, 32, 20, 60, 60, 14, 60, 60, 32, 60, 10, 15, 15, 20, 70, 24, 30, 20, 60, 26, 68, 19, 8, 70, 60, 20, 55, 60, 25, 32, 60, 15, 20, 55, 84, 65, 55, 60, 60, 16, 60, 32, 24, 16, 20, 15, 99, 20, 20, 21, 30, 80, 60, 60, 60, 60, 55, 65, 30, 15, 55, 99, 15, 32, 30, 15, 20, 10, 60, 32, 30, 17, 20, 60, 30, 70, 16, 30, 20, 20, 80, 15, 30, 30, 10, 30, 55, 17, 60, 30, 15, 20, 20, 32, 60, 60, 4, 30, 30, 30, 8, 20, 30, 20, 30, 60, 10, 22, 55, 20, 30, 16, 75, 24, 84, 30, 15, 4, 30, 56, 30, 53, 30, 20, 16, 30, 24, 4, 58, 24, 72, 58, 20, 21, 99, 60, 25, 28, 60, 28, 7, 20, 15, 30, 20, 2, 32, 25, 9, 15, 55, 72, 60, 60, 30, 30, 6, 8, 70, 31, 15, 10, 25, 25, 30, 22, 20, 80, 15, 20, 10, 25, 30, 3, 30, 65, 60, 20, 60, 20, 60, 20, 55, 6, 29, 20, 60, 67, 80, 55, 20, 7, 59, 60, 24, 55, 60, 25, 9, 20, 60, 30, 20, 70, 2, 32, 56, 70, 10, 15, 60, 70, 32, 70, 30, 70, 18, 20, 25, 80, 20, 10, 75, 8, 30, 60, 55, 60, 72, 30, 20, 70, 20, 16, 30, 12, 60, 70, 60, 25, 54, 20, 30, 55, 15, 32, 99, 54, 9, 26, 2, 10, 32, 10, 60, 25, 30, 20, 30, 30, 60, 32, 20, 55, 60, 30, 28, 70, 32, 32, 9, 55, 20, 20, 65, 80, 8, 14, 30, 30, 55, 65, 15, 12, 75, 24, 65, 90, 25, 25, 25, 30, 20, 20, 16, 20, 60, 30, 20, 70, 65, 4, 6, 72, 20, 75, 20, 25, 84, 32, 55, 30, 65, 25, 20, 60, 65, 25, 20, 30, 30, 30, 20, 55, 70, 5, 60, 15, 15, 55, 30, 20, 20, 20, 29, 16, 25, 60, 20, 15, 70, 15, 55, 20, 74, 25, 32, 55, 15, 55, 25, 27, 92, 30, 55, 15, 75, 20, 60, 60, 60, 15, 65, 24, 30, 30, 30, 10, 70, 80, 28, 30, 28, 20, 20, 15, 17, 32, 30, 20, 30, 30, 60, 32, 80, 25, 30, 16, 55, 60, 60, 24, 16, 60, 54, 64, 30, 54, 55, 20, 55, 15, 20, 32, 15, 70, 20, 60, 24, 60, 21, 75, 56, 7, 10, 30, 20, 75, 60, 25, 70, 20, 25, 20, 60, 60, 28, 8, 60, 30, 15, 55, 16, 69, 20, 15, 10, 55, 16, 55, 20, 20, 15, 18, 15, 99, 80, 10, 25, 30, 25, 14, 32, 20, 15, 60, 60, 20, 32, 30, 20, 10, 20, 30, 20, 56, 25, 32, 15, 70, 20, 20, 16, 25, 15, 25, 3, 60, 30, 55, 12, 24, 60, 25, 84, 20, 8, 10, 60, 60, 65, 84, 60, 55, 55, 20, 60, 20, 15, 60, 80, 75, 55, 16, 20, 20, 60, 60, 14, 20, 8, 72, 65, 20, 54, 62, 15, 90, 60, 65, 20, 20, 15, 60, 65, 30, 10, 60, 30, 20, 60, 15, 20, 60, 20, 16, 20, 80, 30, 25, 60, 60, 20, 20, 8, 55, 32, 32, 60, 13, 16, 80, 30, 60, 20, 60, 80, 15, 25, 30, 60, 55, 60, 58, 32, 70, 20, 2, 22, 30, 25, 60, 60, 32, 25, 56, 60, 28, 60, 60, 20, 30, 30, 24, 24, 2, 60, 20, 16, 20, 25, 12, 65, 1, 28, 24, 55, 60, 12, 60, 55, 20, 10, 20, 55, 70, 20, 20, 60, 30, 20, 30, 60, 12, 75, 24, 24, 98, 15, 60, 56, 16, 60, 80, 25, 54, 25, 15, 24, 10, 15, 55, 60, 30, 20, 8, 25, 25, 30, 24, 55, 15, 15, 10, 10, 30, 25, 6, 16, 55, 64, 65, 25, 24, 60, 19, 30, 18, 60, 72, 24, 25, 60, 28, 5, 55, 60, 20, 60, 16, 60, 24, 6, 30, 20, 20, 20, 60, 60, 25, 20, 20, 8, 30, 20, 24, 80, 58, 9, 30, 8, 20, 32, 55, 60, 12, 70, 25, 30, 24, 60, 80, 25, 28, 21, 60, 20, 60, 32, 55, 20, 20, 24, 55, 60, 64, 26, 60, 60, 14, 60, 60, 55, 15, 20, 32, 15, 60, 25, 20, 10, 16, 5, 4, 55, 30, 20, 20, 60, 20, 30, 65, 25, 15, 60, 20, 59, 24, 15, 20, 25, 72, 20, 20, 18, 70, 55, 30, 32, 55, 24, 56, 60, 55, 30, 16, 60, 20, 30, 20, 20, 30, 20, 75, 60, 60, 24, 25, 15, 24, 6, 20, 18, 55, 56, 20, 70, 15, 28, 25, 60, 7, 30, 70, 60, 15, 28, 60, 30, 65, 55, 55, 20, 15, 10, 30, 60, 30, 20, 25, 5, 60, 55, 10, 99, 25, 30, 20, 30, 70, 70, 20, 60, 20, 20, 70, 20, 30, 55, 58, 65, 60, 16, 25, 32, 30, 30, 55, 20, 2, 1, 75, 30, 8, 60, 55, 20, 55, 75, 32, 80, 80, 60, 20, 15, 20, 60, 28, 60, 20, 25, 8, 60, 25, 25, 55, 70, 60, 53, 20, 60, 60, 30, 54, 54, 28, 60, 20, 8, 99, 30, 30, 30, 65, 60, 25, 60, 55, 80, 30, 60, 62, 20, 16, 72, 60, 60, 30, 24, 30, 25, 59, 12, 20, 60, 60, 1, 80, 7, 10, 30, 65, 57, 60, 25, 55, 30, 24, 20, 20, 60, 16, 16, 30, 60, 60, 55, 24, 6, 30, 55, 60, 70, 5, 30, 60, 25, 32, 78, 60, 20, 90, 15, 60, 16, 60, 66, 30, 60, 2, 60, 75, 60, 5, 11, 24, 25, 25, 60, 65, 55, 80, 55, 14, 65, 58, 30, 9, 55, 15, 12, 30, 70, 30, 24, 30, 65, 8, 6, 16, 16, 30, 8, 20, 16, 10, 60, 60, 60, 20, 30, 30, 60, 70, 60, 21, 70, 24, 60, 10, 20, 55, 20, 30, 16, 18, 60, 60, 20, 12, 60, 60, 80, 20, 60, 15, 15, 70, 30, 90, 16, 72, 32, 30, 60, 55, 60, 60, 70, 10, 20, 20, 20, 30, 10, 60, 56, 84, 30, 55, 10, 24, 30, 30, 60, 8, 24, 54, 15, 20, 25, 65, 10, 60, 99, 15, 16, 55, 55, 60, 70, 18, 55, 80, 25, 60, 25, 6, 20, 30, 55, 20, 3, 70, 60, 55, 30, 70, 20, 80, 60, 10, 16, 60, 70, 10, 30, 20, 20, 30, 32, 30, 60, 17, 60, 16, 4, 55, 60, 10, 55, 30, 5, 53, 16, 15, 70, 60, 25, 28, 55, 30, 70, 65, 55, 17, 55, 8, 15, 30, 5, 75, 68, 65, 30, 18, 70, 60, 60, 12, 60, 30, 30, 8, 22, 55, 18, 55, 25, 60, 21, 10, 10, 70, 20, 27, 55, 25, 24, 15, 15, 20, 60, 60, 60, 20, 60, 60, 55, 20, 60, 90, 65, 20, 25, 25, 25, 60, 30, 30, 25, 3, 70, 60, 30, 10, 30, 65, 55, 54, 30, 25, 65, 25, 30, 60, 84, 25, 24, 20, 3, 25, 25, 30, 20, 8, 55, 54, 60, 30, 10, 5, 8, 20, 25, 60, 60, 55, 25, 6, 60, 60, 30, 56, 25, 25, 65, 8, 70, 60, 21, 15, 20, 20, 30, 13, 65, 30, 65, 25, 60, 20, 3, 24, 55, 27, 55, 25, 30, 20, 20, 60, 70, 60, 20, 60, 30, 15, 25, 55, 24, 60, 56, 70, 75, 25, 24, 28, 15, 58, 5, 70, 55, 15, 20, 25, 30, 20, 55, 25, 20, 30, 32, 10, 55, 11, 20, 65, 30, 60, 25, 84, 30, 55, 18, 60, 70, 60, 60, 30, 60, 55, 60, 25, 60, 20, 10, 30, 30, 20, 20, 24, 30, 30, 55, 60, 55, 60, 20, 15, 60, 60, 20, 30, 58, 55, 25, 30, 60, 10, 16, 27, 30, 75, 5, 8, 30, 60, 98, 60, 70, 5, 2, 25, 20, 16, 10, 55, 22, 30, 80, 10, 85, 20, 56, 30, 30, 30, 25, 60, 30, 32, 30, 8, 60, 25, 30, 60, 65, 32, 60, 75, 25, 60, 60, 6, 55, 60, 9, 15, 56, 30, 30, 55, 56, 60, 20, 15, 30, 30, 60, 15, 60, 30, 10, 56, 25, 84, 70, 65, 20, 20, 56, 30, 55, 60, 20, 55, 30, 65, 15, 25, 70, 60, 60, 60, 30, 60, 60, 30, 65, 18, 5, 55, 17, 55, 60, 70, 65, 80, 25, 55, 20, 55, 60, 30, 10, 25, 20, 25, 72, 2, 60, 28, 3, 30, 55, 30, 60, 54, 16, 60, 30, 62, 84, 26, 25, 20, 32, 25, 70, 60, 54, 60, 20, 60, 20, 30, 60, 18, 30, 60, 25, 32, 20, 59, 60, 15, 32, 55, 12, 20, 25, 20, 55, 20, 55, 20, 60, 20, 30, 16, 15, 60, 20, 25, 65, 20, 55, 24, 28, 25, 20, 60, 16, 60, 20, 16, 60, 32, 55, 12, 60, 20, 99, 25, 65, 32, 12, 32, 30, 20, 20, 25, 20, 16, 20, 15, 27, 56, 27, 60, 60, 20, 12, 32, 60, 60, 30, 60, 60, 75, 30, 60, 20, 30, 30, 5, 30, 60, 20, 20, 60, 20, 22, 55, 60, 5, 28, 30, 8, 30, 30, 30, 30, 80, 20, 30, 55, 30, 30, 30, 20, 56, 3, 60, 20, 66, 32, 60, 75, 20, 60, 10, 30, 18, 10, 30, 20, 16, 24, 30, 60, 66, 70, 24, 30, 20, 72, 20, 60, 60, 30, 31, 25, 60, 25, 24, 24, 20, 55, 20, 84, 30, 14, 60, 60, 30, 20, 10, 30, 60, 21, 62, 10, 24, 20, 55, 20, 8, 56, 60, 60, 20, 30, 25, 14, 15, 55, 30, 15, 20, 6, 60, 12, 60, 70, 15, 20, 60, 55, 20, 60, 22, 20, 60, 16, 24, 99, 60, 30, 84, 54, 78, 20, 10, 30, 20, 15, 20, 60, 20, 12, 20, 60, 55, 30, 30, 28, 60, 20, 20, 20, 65, 18, 60, 30, 20, 10, 70, 56, 25, 72, 10, 10, 5, 25, 30, 20, 25, 25, 60, 30, 3, 30, 30, 75, 70, 24, 55, 25, 16, 20, 60, 30, 20, 20, 85, 15, 30, 56, 99, 12, 25, 80, 20, 53, 27, 16, 30, 80, 20, 60, 84, 65, 12, 60, 20, 10, 20, 70, 20, 55, 20, 20, 10, 12, 25, 12, 28, 30, 10, 65, 18, 32, 30, 30, 30, 55, 99, 70, 55, 56, 30, 60, 65, 30, 20, 60, 20, 4, 24, 25, 55, 60, 12, 60, 70, 60, 60, 60, 30, 10, 30, 26, 55, 60, 30, 30, 70, 24, 60, 30, 55, 16, 3, 27, 21, 60, 30, 60, 10, 60, 12, 20, 25, 60, 25, 16, 55, 24, 24, 20, 30, 60, 12, 60, 15, 25, 60, 30, 8, 10, 60, 20, 55, 20, 15, 30, 12, 20, 15, 70, 15, 20, 20, 13, 30, 25, 24, 8, 65, 77, 20, 84, 28, 55, 32, 60, 6, 12, 60, 60, 10, 8, 60, 20, 84, 60, 16, 30, 20, 20, 70, 70, 20, 60, 30, 16, 9, 54, 32, 20, 32, 60, 70, 60, 24, 20, 60, 90, 20, 65, 60, 30, 75, 30, 20, 8, 24, 18, 15, 60, 25, 20, 15, 60, 60, 60, 8, 20, 20, 16, 60, 10, 20, 30, 60, 60, 60, 60, 55, 13, 30, 25, 20, 60, 15, 30, 30, 24, 30, 25, 10, 30, 60, 15, 20, 32, 16, 60, 98, 55, 10, 58, 25, 60, 65, 60, 60, 20, 18, 55, 60, 55, 24, 30, 30, 20, 30, 55, 70, 60, 55, 30, 8, 30, 30, 55, 2, 20, 26, 20, 15, 60, 16, 20, 30, 20, 25, 20, 20, 56, 75, 12, 25, 30, 20, 60, 20, 60, 80, 25, 12, 20, 20, 20, 15, 30, 12, 60, 55, 20, 32, 60, 55, 10, 8, 60, 25, 55, 25, 60, 55, 25, 20, 60, 20, 60, 30, 56, 20, 30, 25, 30, 56, 24, 53, 30, 30, 20, 70, 20, 60, 60, 99, 20, 30, 12, 21, 55, 25, 64, 10, 25, 28, 60, 60, 30, 30, 70, 20, 63, 99, 30, 4, 32, 60, 25, 16, 12, 55, 55, 60, 80, 25, 65, 10, 25, 20, 18, 32, 80, 75, 25, 80, 10, 16, 25, 12, 30, 72, 60, 30, 75, 30, 60, 55, 56, 60, 30, 20, 20, 72, 30, 30, 30, 20, 70, 55, 60, 60, 1, 3, 55, 24, 75, 25, 25, 25, 60, 1, 20, 30, 60, 30, 15, 27, 32, 16, 30, 10, 80, 30, 60, 30, 60, 56, 20, 30, 72, 65, 30, 12, 60, 10, 60, 25, 55, 32, 60, 25, 55, 30, 22, 1, 20, 15, 20, 55, 60, 20, 10, 18, 1, 20, 60, 60, 70, 70, 12, 16, 15, 55, 30, 60, 24, 60, 6, 8, 24, 11, 25, 20, 30, 53, 60, 60, 20, 85, 30, 20, 20, 30, 15, 30, 20, 24, 55, 25, 16, 3, 20, 60, 30, 55, 32, 16, 55, 30, 55, 60, 20, 20, 28, 70, 60, 16, 24, 25, 60, 60, 7, 30, 15, 60, 60, 60, 30, 60, 20, 75, 60, 20, 68, 30, 55, 5, 10, 24, 16, 32, 55, 70, 98, 8, 60, 55, 60, 30, 60, 70, 30, 80, 10, 18, 23, 30, 24, 30, 70, 55, 60, 32, 70, 20, 60, 60, 20, 70, 55, 16, 24, 60, 32, 55, 60, 15, 25, 5, 2, 60, 9, 30, 15, 20, 60, 60, 20, 60, 55, 20, 60, 55, 24, 60, 60, 55, 25, 60, 10, 65, 30, 4, 30, 20, 30, 20, 60, 30, 56, 25, 20, 30, 10, 60, 20, 30, 28, 23, 12, 60, 55, 25, 15, 55, 20, 55, 8, 25, 30, 70, 30, 25, 55, 30, 24, 20, 25, 55, 30, 16, 20, 60, 87, 65, 60, 54, 30, 88, 16, 8, 73, 70, 8, 60, 17, 32, 25, 18, 70, 15, 24, 25, 10, 24, 30, 24, 60, 32, 60, 30, 20, 17, 20, 65, 60, 20, 90, 55, 60, 75, 10, 30, 30, 13, 55, 80, 55, 10, 55, 20, 8, 15, 55, 30, 20, 30, 30, 60, 63, 25, 60, 60, 25, 55, 20, 6, 30, 55, 25, 60, 10, 99, 30, 60, 25, 15, 75, 18, 55, 65, 6, 25, 70, 32, 65, 20, 30, 60, 16, 25, 16, 66, 25, 14, 60, 14, 90, 25, 65, 60, 20, 20, 20, 16, 60, 60, 55, 72, 20, 25, 25, 90, 80, 15, 24, 15, 65, 20, 60, 60, 10, 10, 55, 10, 70, 13, 20, 7, 25, 5, 20, 15, 55, 60, 26, 20, 80, 60, 70, 20, 12, 30, 2, 8, 72, 60, 72, 12, 24, 60, 20, 60, 18, 10, 32, 60, 32, 60, 20, 25, 99, 70, 32, 70, 60, 30, 30, 75, 25, 60, 30, 63, 30, 60, 75, 55, 60, 60, 65, 60, 10, 30, 20, 20, 15, 12, 60, 21, 55, 24, 2, 60, 60, 55, 20, 53, 20, 20, 32, 20, 25, 20, 30, 30, 20, 25, 65, 20, 70, 65, 30, 60, 20, 80, 56, 28, 60, 55, 25, 20, 6, 10, 25, 15, 30, 20, 32, 13, 89, 60, 25, 30, 60, 30, 60, 32, 60, 10, 30, 8, 15, 60, 55, 60, 75, 30, 55, 20, 30, 32, 55, 60, 60, 30, 20, 20, 20, 30, 30, 12, 72, 20, 60, 60, 60, 32, 60, 55, 55, 30, 20, 30, 60, 8, 20, 15, 20, 30, 25, 20, 70, 60, 55, 25, 30, 15, 55, 60, 24, 55, 12, 10, 32, 25, 58, 24, 57, 25, 60, 30, 22, 60, 20, 30, 30, 55, 25, 23, 15, 10, 20, 30, 30, 30, 20, 60, 60, 60, 30, 8, 20, 20, 20, 60, 25, 55, 15, 25, 60, 70, 60, 70, 32, 24, 20, 60, 27, 8, 80, 60, 25, 20, 30, 20, 25, 30, 60, 15, 25, 30, 80, 20, 25, 20, 55, 30, 24, 15, 55, 80, 32, 20, 28, 15, 20, 70, 65, 24, 65, 10, 60, 10, 25, 60, 20, 15, 60, 30, 75, 56, 24, 97, 32, 55, 70, 70, 60, 12, 25, 58, 25, 60, 55, 25, 24, 66, 60, 20, 6, 24, 21, 24, 30, 60, 30, 60, 8, 56, 30, 8, 16, 60, 30, 20, 55, 32, 8, 15, 55, 25, 60, 20, 20, 30, 30, 60, 54, 85, 78, 58, 20, 60, 12, 30, 30, 80, 55, 60, 55, 56, 16, 60, 20, 60, 60, 10, 58, 20, 8, 60, 60, 22, 30, 26, 20, 20, 16, 32, 10, 32, 30, 20, 30, 20, 60, 55, 10, 60, 30, 32, 20, 60, 15, 30, 65, 55, 20, 32, 55, 55, 32, 24, 60, 90, 60, 60, 30, 26, 90, 27, 24, 30, 60, 63, 84, 24, 15, 99, 20, 20, 30, 18, 25, 65, 28, 10, 4, 30, 30, 75, 60, 60, 65, 20, 55, 30, 15, 16, 12, 84, 60, 60, 60, 32, 80, 20, 24, 18, 65, 24, 65, 60, 25, 55, 20, 8, 20, 10, 59, 80, 30, 15, 32, 8, 20, 60, 60, 60, 72, 30, 70, 65, 20, 12, 18, 60, 4, 20, 30, 30, 70, 15, 30, 55, 20, 28, 25, 30, 60, 70, 30, 55, 80, 72, 30, 30, 20, 99, 28, 80, 60, 55, 30, 30, 18, 65, 24, 55, 16, 25, 2, 32, 20, 32, 1, 10, 60, 12, 20, 30, 6, 70, 10, 60, 30, 55, 15, 22, 60, 9, 32, 32, 24, 6, 60, 55, 16, 55, 80, 20, 30, 30, 60, 10, 10, 25, 80, 30, 20, 60, 30, 60, 15, 65, 65, 20, 21, 10, 5, 84, 80, 30, 60, 65, 32, 99, 30, 25, 60, 15, 84, 60, 70, 20, 30, 20, 10, 80, 60, 15, 25, 65, 80, 20, 16, 27, 30, 31, 60, 60, 80, 20, 65, 16, 60, 60, 32, 60, 80, 15, 60, 20, 99, 16, 12, 72, 60, 19, 30, 60, 9, 90, 75, 20, 60, 30, 16, 30, 6, 6, 15, 12, 60, 10, 55, 55, 11, 75, 60, 20, 20, 70, 25, 60, 28, 20, 55, 30, 60, 20, 30, 55, 15, 20, 10, 58, 30, 58, 30, 55, 72, 30, 30, 25, 15, 60, 65, 65, 60, 60, 20, 25, 18, 20, 55, 30, 60, 8, 15, 65, 30, 25, 22, 32, 55, 8, 80, 60, 60, 20, 60, 60, 60, 24, 20, 16, 10, 94, 55, 30, 60, 20, 26, 15, 6, 55, 1, 30, 20, 30, 30, 55, 60, 70, 15, 6, 20, 10, 15, 60, 30, 75, 24, 30, 15, 55, 60, 55, 18, 30, 16, 25, 20, 60, 12, 10, 60, 28, 32, 55, 60, 70, 24, 8, 20, 60, 30, 60, 60, 3, 30, 25, 30, 12, 30, 4, 10, 60, 60, 14, 60, 15, 24, 20, 20, 54, 65, 25, 19, 55, 80, 56, 25, 60, 16, 32, 30, 20, 32, 55, 30, 60, 55, 30, 10, 25, 30, 30, 24, 8, 25, 20, 65, 70, 15, 12, 20, 15, 25, 60, 17, 20, 30, 60, 72, 25, 70, 20, 54, 30, 12, 60, 30, 60, 20, 66, 30, 30, 60, 60, 30, 32, 25, 56, 28, 80, 32, 26, 12, 60, 28, 60, 55, 30, 29, 30, 20, 60, 30, 25, 55, 20, 25, 66, 30, 8, 65, 20, 20, 10, 12, 30, 65, 25, 65, 60, 25, 30, 20, 8, 18, 28, 85, 53, 20, 20, 24, 80, 55, 20, 15, 60, 29, 56, 20, 25, 60, 32, 15, 21, 60, 65, 60, 55, 55, 30, 6, 25, 25, 99, 4, 60, 56, 99, 27, 30, 30, 70, 28, 30, 60, 32, 15, 25, 11, 64, 80, 55, 55, 24, 24, 24, 65, 16, 15, 60, 70, 16, 8, 20, 55, 25, 60, 56, 10, 17, 20, 55, 60, 24, 60, 60, 20, 20, 55, 25, 15, 75, 60, 8, 53, 70, 55, 25, 20, 25, 55, 19, 25, 30, 25, 28, 32, 25, 25, 77, 24, 55, 60, 85, 72, 12, 30, 60, 15, 60, 20, 60, 72, 70, 32, 70, 20, 20, 21, 20, 60, 30, 64, 65, 30, 60, 84, 12, 16, 80, 20, 65, 99, 30, 20, 60, 20, 25, 30, 30, 30, 60, 70, 9, 26, 15, 7, 60, 30, 16, 55, 30, 20, 72, 30, 25, 32, 17, 60, 30, 60, 20, 19, 70, 26, 30, 55, 32, 32, 60, 85, 56, 99, 60, 20, 60, 20, 18, 72, 26, 25, 20, 7, 30, 6, 15, 30, 25, 70, 25, 30, 63, 8, 70, 20, 14, 15, 60, 20, 60, 30, 30, 26, 15, 60, 25, 60, 30, 70, 96, 20, 4, 66, 20, 16, 30, 20, 30, 11, 20, 24, 15, 30, 24, 65, 12, 25, 20, 60, 8, 99, 65, 15, 25, 20, 60, 20, 15, 24, 55, 20, 67, 60, 55, 70, 20, 20, 25, 57, 20, 25, 24, 25, 60, 56, 60, 55, 30, 20, 56, 77, 25, 20, 30, 60, 60, 60, 60, 60, 75, 25, 25, 6, 24, 65, 60, 15, 16, 60, 25, 14, 4, 25, 16, 30, 15, 8, 20, 30, 56, 55, 55, 30, 8, 25, 4, 16, 30, 20, 55, 20, 82, 20, 70, 60, 20, 70, 20, 20, 72, 60, 30, 30, 20, 25, 10, 20, 25, 70, 60, 30, 25, 28, 20, 60, 15, 2, 30, 20, 80, 24, 60, 58, 55, 72, 10, 20, 30, 60, 80, 55, 70, 30, 25, 55, 54, 60, 90, 3, 12, 25, 70, 20, 25, 55, 55, 30, 30, 25, 55, 25, 25, 55, 30, 99, 24, 25, 25, 60, 60, 57, 4, 60, 60, 30, 20, 60, 55, 60, 60, 72, 8, 20, 3, 55, 21, 20, 60, 15, 65, 20, 30, 20, 60, 60, 25, 20, 60, 70, 60, 60, 30, 60, 80, 55, 30, 10, 10, 55, 30, 80, 24, 30, 25, 70, 55, 30, 60, 25, 60, 25, 30, 32, 20, 60, 72, 24, 10, 20, 20, 20, 15, 60, 70, 70, 60, 10, 20, 20, 30, 55, 15, 72, 5, 20, 30, 60, 30, 20, 70, 20, 15, 60, 8, 9, 30, 6, 20, 60, 20, 30, 30, 24, 25, 16, 15, 16, 72, 30, 32, 65, 20, 30, 19, 55, 6, 20, 15, 20, 30, 15, 25, 20, 60, 60, 25, 55, 18, 30, 62, 1, 25, 80, 16, 60, 27, 20, 65, 20, 60, 65, 58, 66, 60, 10, 25, 28, 60, 97, 6, 30, 60, 24, 60, 20, 30, 30, 60, 20, 20, 10, 20, 60, 55, 20, 25, 20, 10, 72, 72, 15, 60, 20, 25, 12, 20, 65, 22, 55, 12, 15, 32, 30, 55, 20, 32, 60, 55, 25, 60, 8, 60, 16, 16, 60, 60, 55, 15, 20, 6, 60, 10, 26, 15, 55, 25, 12, 60, 24, 60, 30, 72, 20, 60, 60, 60, 30, 60, 60, 10, 20, 20, 30, 30, 12, 60, 4, 30, 20, 15, 60, 25, 20, 15, 60, 30, 60, 2, 30, 60, 60, 32, 72, 7, 20, 60, 30, 60, 20, 20, 99, 84, 20, 60, 60, 30, 60, 30, 32, 72, 20, 20, 30, 56, 30, 54, 30, 54, 55, 15, 60, 60, 20, 60, 60, 20, 30, 20, 70, 22, 8, 20, 12, 55, 12, 60, 55, 60, 80, 20, 30, 30, 15, 30, 30, 30, 55, 55, 20, 60, 4, 20, 60, 26, 30, 30, 20, 25, 20, 30, 30, 55, 12, 30, 60, 20, 25, 15, 60, 30, 12, 25, 60, 55, 5, 20, 30, 30, 25, 56, 12, 30, 30, 30, 60, 60, 55, 30, 65, 16, 60, 55, 99, 10, 60, 20, 20, 8, 20, 60, 60, 20, 60, 20, 55, 20, 15, 16, 10, 60, 30, 25, 20, 32, 70, 70, 10, 30, 16, 8, 75, 30, 20, 85, 80, 30, 24, 20, 25, 62, 25, 20, 25, 12, 25, 60, 60, 54, 20, 70, 30, 17, 28, 8, 28, 60, 60, 32, 20, 20, 60, 10, 60, 10, 55, 16, 60, 60, 65, 30, 60, 32, 55, 65, 15, 3, 55, 5, 23, 60, 16, 80, 60, 20, 20, 65, 30, 30, 60, 30, 60, 30, 10, 32, 60, 65, 20, 65, 25, 10, 80, 30, 70, 99, 30, 55, 60, 60, 20, 4, 20, 25, 55, 15, 30, 30, 25, 20, 30, 55, 15, 60, 24, 24, 75, 30, 60, 30, 30, 65, 21, 60, 18, 60, 20, 25, 25, 20, 60, 60, 25, 30, 55, 15, 99, 55, 24, 12, 32, 30, 20, 15, 6, 60, 30, 7, 24, 70, 55, 6, 55, 25, 60, 25, 60, 80, 14, 30, 62, 60, 16, 60, 32, 60, 55, 24, 20, 65, 25, 20, 2, 90, 24, 65, 55, 20, 60, 8, 25, 65, 28, 63, 28, 16, 60, 20, 3, 80, 8, 20, 60, 25, 25, 24, 80, 10, 25, 32, 30, 60, 25, 15, 2, 30, 60, 10, 25, 30, 60, 15, 25, 7, 20, 20, 20, 20, 25, 4, 20, 55, 57, 28, 24, 70, 23, 72, 29, 64, 20, 25, 9, 56, 25, 26, 16, 20, 30, 20, 20, 20, 70, 15, 20, 58, 60, 32, 60, 27, 55, 20, 60, 60, 72, 20, 30, 70, 25, 28, 21, 20, 55, 60, 30, 25, 25, 10, 30, 4, 60, 60, 55, 60, 60, 15, 21, 54, 55, 60, 10, 60, 15, 30, 25, 60, 30, 20, 25, 30, 60, 12, 86, 80, 55, 23, 15, 20, 25, 24, 55, 60, 2, 20, 8, 70, 60, 55, 60, 30, 60, 25, 24, 20, 60, 20, 30, 75, 20, 25, 25, 20, 55, 32, 20, 60, 20, 15, 55, 20, 20, 60, 16, 20, 30, 60, 8, 60, 60, 18, 20, 30, 55, 24, 30, 55, 65, 60, 32, 15, 55, 20, 30, 99, 60, 28, 70, 60, 55, 20, 99, 60, 25, 60, 60, 23, 56, 12, 75, 30, 12, 99, 10, 60, 80, 30, 20, 65, 24, 10, 55, 17, 70, 26, 65, 70, 70, 6, 55, 60, 3, 55, 84, 75, 25, 75, 30, 15, 72, 60, 55, 55, 70, 30, 20, 15, 10, 8, 20, 60, 60, 25, 25, 25, 15, 55, 15, 60, 20, 55, 55, 56, 30, 58, 15, 25, 12, 5, 20, 10, 4, 55, 25, 60, 99, 60, 16, 12, 72, 25, 60, 8, 25, 24, 60, 60, 20, 20, 20, 60, 24, 55, 25, 30, 20, 26, 3, 55, 25, 84, 20, 60, 25, 22, 30, 56, 15, 12, 25, 20, 30, 55, 55, 15, 65, 20, 30, 30, 55, 55, 13, 2, 30, 17, 60, 28, 25, 56, 30, 28, 13, 24, 60, 25, 6, 10, 22, 20, 65, 30, 55, 58, 25, 10, 28, 30, 15, 8, 12, 60, 30, 55, 20, 15, 24, 32, 24, 65, 60, 13, 30, 60, 10, 30, 65, 20, 20, 20, 20, 32, 20, 20, 5, 30, 3, 25, 30, 30, 55, 20, 12, 16, 55, 60, 30, 60, 30, 32, 18, 30, 60, 60, 7, 60, 70, 58, 60, 25, 25, 15, 70, 30, 20, 60, 25, 20, 20, 70, 16, 70, 5, 20, 20, 25, 65, 70, 8, 60, 65, 62, 30, 20, 84, 15, 70, 20, 27, 30, 26, 30, 55, 30, 60, 70, 60, 60, 70, 60, 9, 23, 20, 25, 10, 16, 70, 30, 25, 30, 20, 32, 10, 20, 17, 55, 30, 30, 60, 20, 20, 65, 60, 30, 24, 80, 30, 84, 60, 60, 20, 32, 25, 12, 70, 15, 16, 4, 58, 30, 30, 55, 55, 20, 60, 60, 10, 24, 56, 24, 20, 80, 15, 60, 20, 55, 11, 16, 30, 6, 20, 99, 64, 60, 20, 25, 6, 25, 25, 54, 20, 60, 20, 91, 70, 2, 60, 60, 60, 8, 25, 25, 60, 25, 25, 24, 20, 60, 14, 60, 55, 55, 20, 27, 65, 60, 72, 25, 30, 25, 20, 32, 5, 20, 18, 60, 32, 56, 81, 30, 70, 28, 15, 20, 8, 28, 15, 12, 70, 30, 30, 15, 6, 55, 32, 20, 15, 28, 55, 30, 30, 60, 25, 7, 60, 15, 20, 25, 17, 16, 30, 60, 20, 32, 20, 19, 60, 20, 55, 60, 15, 20, 65, 32, 15, 72, 60, 55, 65, 55, 12, 32, 60, 60, 60, 25, 84, 70, 60, 15, 53, 60, 60, 96, 20, 20, 99, 20, 60, 20, 16, 70, 60, 16, 56, 20, 30, 32, 30, 60, 10, 25, 12, 30, 32, 60, 55, 14, 15, 30, 30, 30, 60, 18, 20, 30, 20, 20, 55, 20, 25, 24, 55, 20, 99, 24, 25, 55, 60, 30, 4, 25, 20, 24, 60, 20, 30, 20, 8, 62, 70, 55, 15, 20, 30, 70, 10, 60, 11, 20, 15, 65, 30, 20, 30, 20, 25, 8, 30, 60, 22, 55, 55, 60, 27, 30, 65, 76, 20, 17, 99, 65, 18, 60, 18, 80, 60, 16, 78, 60, 55, 30, 12, 72, 60, 3, 20, 30, 60, 15, 55, 30, 24, 60, 75, 60, 20, 15, 99, 16, 60, 16, 16, 10, 24, 80, 20, 20, 30, 55, 20, 25, 99, 15, 30, 25, 30, 56, 32, 60, 20, 60, 20, 60, 32, 20, 22, 18, 32, 30, 75, 4, 20, 60, 80, 55, 10, 30, 30, 60, 4, 60, 20, 70, 30, 4, 65, 55, 20, 72, 28, 65, 13, 10, 8, 6, 24, 7, 55, 60, 60, 84, 20, 14, 20, 55, 55, 20, 55, 18, 55, 60, 30, 4, 55, 70, 24, 70, 25, 84, 30, 25, 25, 55, 10, 72, 32, 25, 15, 24, 55, 12, 27, 32, 60, 23, 20, 98, 30, 75, 21, 60, 20, 53, 55, 30, 80, 10, 28, 25, 60, 53, 25, 25, 20, 15, 20, 65, 70, 30, 27, 25, 20, 24, 60, 30, 8, 55, 30, 15, 30, 15, 80, 65, 60, 20, 75, 80, 25, 32, 60, 16, 65, 55, 60, 30, 25, 5, 20, 16, 60, 60, 22, 30, 16, 8, 60, 8, 20, 60, 30, 20, 20, 32, 54, 10, 20, 32, 20, 25, 6, 20, 3, 20, 66, 32, 20, 30, 32, 55, 15, 10, 30, 15, 20, 15, 30, 55, 20, 10, 15, 10, 15, 20, 72, 25, 60, 30, 16, 60, 60, 21, 60, 70, 30, 80, 65, 12, 25, 20, 8, 60, 25, 20, 60, 15, 26, 80, 60, 20, 60, 10, 8, 60, 15, 20, 7, 24, 27, 32, 30, 15, 30, 56, 30, 15, 75, 20, 25, 30, 80, 32, 15, 70, 25, 60, 30, 25, 15, 15, 20, 20, 60, 20, 15, 30, 60, 25, 70, 19, 10, 8, 16, 32, 60, 30, 30, 20, 56, 24, 30, 60, 20, 8, 24, 70, 15, 60, 25, 20, 55, 55, 20, 15, 56, 20, 60, 60, 20, 20, 25, 99, 10, 60, 6, 65, 65, 60, 60, 65, 25, 22, 25, 20, 30, 55, 65, 55, 30, 54, 24, 30, 56, 20, 60, 32, 20, 15, 55, 55, 30, 30, 32, 15, 8, 70, 60, 20, 60, 20, 18, 30, 32, 20, 24, 30, 25, 18, 15, 15, 15, 55, 30, 60, 70, 10, 28, 25, 60, 22, 20, 25, 16, 56, 20, 15, 55, 32, 20, 20, 60, 60, 25, 25, 99, 65, 15, 20, 26, 25, 25, 28, 60, 80, 10, 60, 70, 28, 15, 60, 88, 15, 9, 20, 20, 98, 10, 56, 53, 8, 20, 68, 60, 13, 14, 99, 30, 20, 20, 55, 60, 8, 30, 30, 7, 60, 20, 32, 10, 70, 65, 25, 25, 20, 30, 20, 20, 20, 20, 55, 25, 60, 32, 60, 60, 15, 60, 70, 30, 25, 20, 60, 29, 25, 80, 30, 15, 30, 10, 20, 25, 12, 10, 55, 16, 30, 30, 20, 60, 65, 70, 60, 56, 25, 10, 55, 98, 60, 12, 60, 20, 25, 20, 80, 25, 30, 30, 16, 20, 30, 24, 15, 14, 60, 55, 7, 30, 80, 60, 75, 25, 7, 60, 16, 15, 60, 60, 55, 30, 70, 12, 30, 20, 4, 65, 20, 16, 60, 4, 55, 28, 7, 60, 60, 30, 28, 10, 84, 21, 20, 25, 14, 60, 16, 12, 30, 30, 23, 25, 20, 8, 20, 25, 25, 60, 3, 30, 16, 56, 20, 24, 20, 60, 60, 20, 60, 13, 57, 55, 14, 60, 25, 30, 20, 55, 60, 65, 8, 60, 72, 99, 60, 81, 60, 20, 20, 30, 60, 55, 5, 2, 20, 30, 60, 30, 15, 24, 15, 65, 20, 26, 90, 30, 57, 60, 30, 70, 20, 25, 32, 15, 60, 15, 18, 25, 12, 60, 70, 60, 55, 55, 20, 30, 24, 55, 24, 25, 60, 32, 14, 16, 16, 60, 25, 55, 20, 25, 60, 65, 25, 84, 29, 60, 8, 60, 20, 25, 60, 60, 70, 15, 60, 32, 12, 8, 24, 20, 20, 30, 60, 60, 16, 15, 16, 20, 18, 30, 60, 16, 32, 20, 60, 17, 18, 30, 25, 65, 20, 16, 30, 18, 15, 26, 20, 55, 15, 20, 30, 18, 30, 25, 30, 70, 20, 32, 60, 70, 55, 16, 15, 17, 60, 12, 30, 20, 30, 28, 30, 32, 20, 30, 20, 60, 20, 20, 60, 55, 30, 25, 65, 60, 60, 20, 60, 30, 60, 25, 6, 25, 25, 30, 65, 60, 12, 20, 20, 32, 6, 60, 32, 20, 65, 70, 58, 4, 24, 25, 4, 70, 55, 60, 20, 30, 24, 60, 27, 15, 30, 60, 20, 65, 30, 53, 32, 20, 65, 60, 20, 15, 20, 8, 60, 70, 20, 24, 55, 30, 3, 15, 70, 56, 70, 30, 70, 55, 25, 5, 30, 30, 60, 98, 30, 10, 55, 10, 53, 30, 24, 60, 60, 25, 55, 55, 60, 13, 60, 70, 25, 60, 14, 30, 10, 60, 20, 10, 20, 60, 20, 30, 30, 60, 60, 25, 32, 20, 25, 55, 9, 60, 56, 20, 55, 54, 30, 30, 30, 70, 20, 8, 20, 30, 60, 15, 20, 55, 55, 30, 25, 68, 16, 99, 25, 25, 55, 32, 20, 30, 55, 25, 30, 25, 4, 25, 32, 15, 55, 10, 84, 60, 64, 60, 20, 32, 8, 60, 25, 60, 65, 60, 6, 20, 30, 15, 55, 84, 60, 55, 20, 30, 75, 60, 20, 60, 60, 15, 16, 25, 60, 60, 30, 20, 20, 30, 15, 30, 30, 55, 60, 30, 25, 84, 55, 60, 4, 30, 60, 20, 65, 55, 32, 20, 32, 55, 30, 60, 20, 99, 60, 20, 55, 10, 32, 10, 25, 25, 18, 60, 20, 10, 60, 32, 60, 60, 20, 13, 30, 25, 65, 24, 20, 15, 3, 30, 20, 55, 30, 80, 25, 20, 30, 32, 60, 55, 56, 55, 10, 21, 20, 20, 5, 55, 10, 8, 25, 20, 99, 30, 32, 24, 15, 25, 30, 60, 8, 30, 55, 24, 25, 7, 20, 30, 12, 25, 15, 20, 28, 20, 16, 18, 15, 55, 60, 24, 70, 76, 99, 15, 53, 60, 92, 60, 15, 18, 20, 20, 60, 25, 54, 20, 15, 15, 16, 15, 24, 25, 32, 15, 32, 54, 30, 32, 18, 30, 30, 24, 8, 20, 25, 20, 10, 60, 20, 28, 30, 55, 60, 30, 3, 60, 25, 20, 60, 20, 75, 55, 1, 30, 30, 2, 60, 25, 60, 60, 55, 15, 68, 24, 55, 15, 30, 22, 70, 99, 20, 58, 30, 30, 60, 24, 80, 15, 55, 2, 55, 60, 10, 90, 55, 12, 12, 16, 30, 55, 30, 10, 25, 30, 20, 56, 56, 30, 30, 30, 28, 12, 24, 30, 60, 55, 60, 20, 32, 20, 99, 32, 55, 30, 20, 15, 25, 30, 5, 60, 55, 57, 25, 25, 67, 56, 70, 30, 32, 20, 30, 32, 60, 8, 60, 10, 60, 30, 16, 60, 60, 24, 60, 65, 75, 20, 12, 57, 65, 30, 32, 60, 25, 60, 25, 8, 60, 10, 20, 15, 25, 20, 70, 60, 16, 10, 65, 55, 60, 30, 55, 99, 56, 20, 65, 25, 60, 10, 12, 1, 55, 30, 20, 20, 10, 15, 3, 55, 25, 18, 8, 56, 55, 30, 30, 30, 60, 80, 70, 60, 30, 30, 30, 30, 60, 24, 65, 70, 30, 60, 70, 15, 55, 10, 60, 20, 24, 20, 60, 54, 32, 25, 60, 30, 60, 30, 60, 7, 25, 25, 30, 80, 10, 25, 16, 60, 30, 5, 80, 20, 56, 20, 20, 70, 60, 30, 22, 55, 25, 80, 99, 20, 30, 65, 15, 55, 15, 20, 55, 25, 20, 65, 99, 28, 75, 80, 24, 60, 16, 12, 1, 20, 10, 60, 30, 25, 55, 10, 25, 30, 18, 6, 55, 15, 70, 68, 28, 30, 60, 25, 25, 15, 24, 20, 60, 60, 60, 25, 30, 25, 30, 57, 20, 60, 25, 20, 65, 75, 32, 70, 20, 20, 55, 55, 15, 70, 8, 60, 24, 20, 32, 13, 30, 8, 8, 30, 30, 25, 80, 20, 8, 30, 16, 16, 25, 15, 25, 55, 60, 32, 28, 8, 25, 10, 30, 60, 60, 30, 30, 56, 60, 30, 30, 55, 60, 32, 60, 60, 55, 60, 20, 20, 20, 84, 24, 30, 24, 25, 30, 55, 60, 20, 60, 20, 65, 25, 10, 20, 65, 10, 14, 67, 55, 20, 15, 65, 55, 16, 25, 60, 60, 55, 60, 20, 60, 30, 55, 77, 53, 70, 60, 55, 32, 30, 55, 70, 70, 25, 65, 15, 70, 15, 60, 30, 60, 21, 2, 20, 20, 70, 84, 65, 25, 30, 14, 19, 80, 80, 12, 25, 60, 10, 2, 30, 15, 65, 13, 60, 22, 60, 54, 30, 60, 55, 25, 56, 25, 60, 17, 8, 30, 30, 80, 20, 10, 20, 60, 15, 20, 65, 30, 62, 15, 14, 24, 60, 55, 20, 65, 55, 20, 30, 75, 60, 55, 75, 6, 24, 20, 20, 30, 24, 60, 20, 60, 12, 20, 20, 64, 60, 57, 75, 25, 5, 56, 24, 72, 55, 24, 60, 24, 90, 30, 20, 60, 60, 15, 28, 65, 10, 55, 1, 20, 65, 20, 55, 30, 30, 10, 24, 20, 20, 65, 15, 8, 25, 30, 32, 32, 60, 30, 70, 30, 60, 70, 20, 10, 60, 55, 24, 65, 60, 15, 60, 55, 60, 70, 5, 22, 20, 99, 60, 30, 14, 65, 24, 30, 20, 15, 56, 30, 20, 55, 16, 20, 25, 30, 15, 56, 32, 30, 24, 20, 60, 99, 10, 25, 28, 55, 17, 12, 32, 28, 16, 8, 10, 60, 14, 16, 60, 20, 60, 60, 30, 27, 60, 65, 30, 84, 65, 20, 10, 25, 10, 7, 12, 60, 6, 16, 20, 23, 20, 30, 10, 55, 70, 60, 15, 20, 32, 25, 60, 61, 60, 62, 15, 65, 3, 15, 6, 55, 60, 55, 20, 30, 25, 25, 15, 80, 70, 30, 30, 30, 60, 10, 70, 20, 30, 28, 60, 25, 20, 60, 20, 24, 65, 10, 60, 55, 70, 20, 32, 65, 20, 55, 60, 60, 55, 25, 55, 65, 60, 20, 55, 10, 30, 8, 30, 26, 60, 20, 25, 60, 30, 20, 60, 20, 65, 25, 25, 60, 60, 10, 70, 20, 65, 55, 55, 60, 65, 32, 65, 15, 60, 80, 20, 65, 55, 20, 24, 56, 30, 55, 20, 70, 55, 17, 20, 60, 65, 20, 72, 20, 55, 30, 60, 17, 15, 55, 25, 75, 22, 70, 7, 60, 30, 20, 30, 60, 25, 20, 19, 55, 55, 28, 12, 12, 60, 12, 32, 7, 14, 60, 10, 24, 30, 60, 60, 60, 30, 12, 30, 25, 30, 8, 15, 20, 30, 60, 60, 55, 65, 60, 85, 20, 55, 60, 60, 30, 15, 91, 85, 30, 22, 60, 55, 30, 28, 65, 55, 20, 80, 20, 30, 25, 18, 32, 56, 55, 16, 30, 72, 20, 25, 20, 5, 27, 20, 30, 15, 30, 30, 60, 10, 30, 28, 20, 55, 80, 20, 25, 21, 20, 27, 60, 20, 60, 60, 60, 25, 20, 55, 60, 60, 25, 25, 65, 18, 70, 24, 60, 54, 30, 15, 25, 63, 28, 60, 60, 30, 10, 24, 32, 60, 24, 20, 65, 60, 2, 25, 70, 55, 65, 30, 10, 30, 30, 12, 60, 15, 12, 23, 12, 80, 12, 60, 26, 20, 6, 15, 10, 99, 72, 70, 30, 70, 15, 20, 60, 84, 15, 32, 30, 25, 30, 16, 20, 32, 55, 60, 15, 30, 60, 30, 30, 55, 30, 70, 60, 25, 25, 30, 60, 99, 16, 24, 60, 20, 60, 60, 60, 10, 22, 55, 27, 32, 55, 24, 60, 75, 70, 25, 20, 55, 2, 60, 84, 12, 55, 32, 20, 27, 30, 55, 70, 8, 15, 55, 55, 60, 16, 15, 60, 30, 63, 60, 55, 25, 13, 20, 32, 22, 20, 9, 30, 60, 22, 15, 60, 25, 55, 60, 25, 8, 99, 24, 55, 4, 30, 32, 72, 16, 60, 20, 30, 60, 70, 55, 16, 10, 30, 60, 16, 20, 30, 32, 10, 60, 55, 15, 32, 20, 20, 21, 30, 15, 15, 65, 10, 64, 60, 10, 99, 15, 16, 4, 15, 30, 53, 20, 60, 30, 60, 20, 15, 70, 8, 62, 29, 60, 55, 20, 60, 20, 22, 25, 70, 70, 30, 20, 55, 10, 20, 24, 20, 10, 20, 20, 30, 12, 20, 15, 60, 25, 60, 20, 63, 15, 20, 55, 60, 25, 20, 60, 4, 14, 30, 15, 30, 15, 10, 3, 90, 20, 20, 4, 1, 60, 75, 70, 20, 65, 20, 30, 23, 55, 60, 55, 20, 60, 20, 60, 55, 10, 60, 70, 60, 20, 12, 28, 10, 32, 60, 30, 4, 60, 57, 80, 30, 55, 20, 24, 98, 28, 25, 60, 12, 16, 32, 30, 12, 20, 24, 60, 20, 30, 27, 60, 25, 12, 15, 10, 10, 16, 20, 99, 55, 20, 60, 25, 60, 65, 55, 32, 55, 30, 28, 60, 32, 30, 3, 12, 24, 99, 30, 15, 20, 53, 12, 2, 20, 80, 55, 30, 20, 25, 15, 32, 20, 28, 25, 60, 20, 55, 30, 25, 8, 60, 60, 65, 65, 60, 25, 32, 25, 10, 23, 24, 15, 30, 60, 30, 25, 30, 30, 20, 30, 55, 55, 10, 20, 55, 60, 30, 65, 15, 25, 84, 57, 99, 70, 25, 20, 55, 15, 70, 60, 32, 20, 65, 55, 56, 60, 70, 15, 25, 20, 32, 20, 80, 24, 72, 80, 53, 60, 60, 30, 30, 60, 16, 20, 32, 55, 62, 6, 96, 25, 65, 25, 30, 30, 1, 60, 55, 10, 6, 55, 60, 30, 55, 15, 60, 10, 16, 25, 30, 80, 25, 65, 20, 24, 15, 25, 60, 20, 20, 32, 60, 74, 10, 4, 15, 25, 99, 55, 30, 60, 30, 55, 90, 30, 12, 20, 25, 25, 60, 20, 55, 30, 30, 20, 15, 12, 5, 54, 65, 20, 20, 30, 65, 20, 30, 90, 12, 15, 30, 20, 20, 60, 30, 30, 60, 66, 20, 25, 16, 30, 30, 22, 70, 60, 32, 70, 12, 65, 15, 55, 99, 10, 32, 70, 10, 60, 55, 20, 20, 25, 20, 20, 80, 60, 30, 60, 9, 20, 20, 90, 24, 60, 55, 30, 60, 55, 12, 18, 32, 30, 20, 60, 20, 28, 56, 12, 60, 16, 60, 60, 55, 25, 32, 20, 90, 20, 30, 28, 24, 60, 20, 22, 18, 60, 60, 60, 65, 70, 55, 12, 25, 60, 30, 20, 20, 65, 20, 30, 55, 30, 60, 30, 30, 60, 70, 10, 20, 60, 30, 20, 24, 65, 60, 65, 20, 20, 60, 30, 60, 60, 65, 10, 60, 60, 20, 65, 55, 56, 15, 30, 60, 8, 20, 70, 15, 65, 3, 25, 15, 12, 60, 78, 8, 12, 26, 60, 30, 25, 58, 32, 1, 16, 60, 70, 30, 6, 60, 20, 60, 55, 60, 20, 25, 7, 21, 60, 24, 70, 10, 55, 20, 60, 20, 15, 30, 19, 20, 60, 16, 20, 30, 80, 60, 60, 25, 60, 55, 60, 17, 10, 16, 24, 20, 22, 32, 60, 65, 60, 15, 60, 25, 28, 99, 25, 20, 55, 10, 30, 55, 30, 20, 8, 25, 30, 60, 15, 55, 65, 30, 55, 55, 60, 24, 60, 30, 15, 20, 30, 95, 25, 20, 20, 15, 25, 64, 16, 60, 32, 25, 56, 60, 15, 15, 65, 24, 65, 25, 55, 20, 30, 65, 20, 77, 30, 60, 67, 25, 56, 20, 20, 60, 25, 20, 72, 30, 20, 30, 60, 25, 85, 25, 20, 24, 55, 20, 10, 60, 12, 24, 18, 60, 25, 30, 24, 60, 68, 32, 30, 30, 60, 30, 20, 20, 10, 30, 16, 20, 25, 20, 60, 60, 60, 10, 28, 15, 30, 18, 86, 54, 10, 6, 56, 55, 12, 70, 30, 30, 60, 72, 20, 65, 23, 60, 55, 18, 18, 18, 20, 20, 16, 16, 25, 16, 25, 62, 55, 60, 20, 75, 55, 55, 60, 32, 20, 20, 60, 20, 72, 17, 55, 20, 20, 30, 20, 6, 60, 56, 20, 5, 1, 60, 60, 60, 70, 25, 20, 30, 55, 70, 12, 15, 16, 15, 80, 20, 20, 16, 55, 80, 25, 60, 55, 20, 15, 30, 30, 20, 20, 32, 80, 30, 30, 30, 6, 24, 60, 20, 30, 15, 65, 60, 30, 70, 55, 60, 70, 4, 28, 63, 10, 20, 80, 20, 10, 55, 15, 55, 20, 60, 9, 60, 20, 20, 30, 85, 60, 84, 10, 60, 30, 65, 25, 99, 60, 25, 80, 60, 55, 60, 30, 20, 30, 13, 70, 60, 55, 15, 25, 25, 32, 30, 60, 24, 20, 25, 30, 25, 32, 12, 66, 12, 60, 53, 32, 60, 20, 15, 25, 23, 25, 8, 32, 60, 65, 15, 30, 25, 24, 30, 55, 72, 30, 5, 25, 24, 20, 60, 12, 15, 15, 30, 13, 10, 10, 30, 12, 60, 20, 70, 24, 30, 60, 30, 80, 25, 60, 25, 32, 70, 55, 25, 54, 25, 60, 25, 8, 25, 14, 72, 80, 4, 55, 32, 55, 20, 24, 20, 99, 90, 60, 20, 54, 16, 70, 60, 55, 30, 72, 10, 32, 20, 30, 30, 25, 25, 25, 6, 24, 30, 15, 55, 72, 20, 20, 20, 99, 55, 28, 72, 60, 60, 99, 25, 30, 60, 15, 25, 6, 24, 30, 30, 20, 30, 32, 55, 70, 10, 14, 55, 70, 30, 25, 16, 8, 70, 70, 70, 60, 20, 70, 65, 61, 20, 30, 8, 60, 30, 55, 60, 54, 15, 55, 84, 31, 12, 30, 20, 60, 24, 99, 16, 30, 4, 25, 30, 23, 60, 30, 20, 15, 30, 30, 15, 25, 24, 10, 30, 30, 25, 30, 55, 20, 28, 8, 55, 15, 15, 25, 15, 60, 30, 60, 70, 16, 80, 32, 60, 30, 80, 60, 55, 20, 80, 24, 30, 10, 30, 55, 20, 19, 18, 32, 22, 60, 55, 60, 60, 15, 12, 15, 60, 25, 30, 25, 30, 20, 20, 60, 20, 5, 99, 60, 60, 55, 60, 15, 55, 55, 12, 20, 32, 6, 30, 20, 60, 16, 3, 60, 20, 60, 70, 15, 70, 32, 55, 20, 20, 30, 20, 60, 20, 84, 55, 60, 55, 12, 60, 30, 55, 84, 30, 20, 30, 25, 30, 60, 32, 30, 24, 65, 6, 30, 55, 30, 15, 16, 6, 60, 4, 20, 20, 75, 12, 32, 32, 70, 70, 60, 70, 25, 30, 20, 60, 20, 12, 32, 60, 99, 60, 22, 8, 60, 16, 65, 20, 20, 10, 99, 16, 10, 60, 25, 30, 55, 20, 20, 4, 20, 15, 55, 60, 60, 30, 22, 30, 10, 20, 20, 12, 20, 55, 60, 16, 60, 20, 58, 8, 90, 20, 20, 30, 60, 56, 16, 8, 90, 60, 30, 55, 55, 60, 20, 25, 8, 25, 20, 60, 70, 54, 60, 60, 62, 55, 99, 30, 5, 32, 14, 60, 80, 32, 20, 26, 20, 8, 20, 31, 60, 30, 15, 30, 30, 10, 55, 30, 12, 17, 60, 10, 16, 16, 32, 20, 20, 20, 70, 30, 60, 20, 60, 57, 30, 12, 25, 25, 55, 65, 30, 60, 60, 65, 20, 55, 55, 60, 20, 56, 30, 30, 10, 55, 30, 30, 30, 55, 25, 30, 32, 60, 10, 18, 10, 24, 60, 65, 60, 60, 15, 72, 20, 72, 60, 60, 30, 32, 60, 65, 15, 20, 25, 80, 98, 20, 60, 32, 30, 12, 54, 70, 20, 99, 15, 30, 25, 20, 20, 25, 19, 24, 30, 8, 12, 7, 15, 60, 12, 25, 16, 20, 5, 30, 60, 70, 22, 60, 23, 70, 30, 20, 60, 7, 60, 60, 20, 60, 60, 20, 12, 55, 20, 60, 15, 60, 30, 25, 30, 25, 30, 60, 30, 55, 60, 20, 30, 25, 12, 60, 60, 65, 20, 10, 25, 27, 16, 25, 20, 13, 8, 18, 32, 25, 19, 20, 75, 55, 4, 25, 30, 25, 30, 15, 20, 70, 70, 20, 20, 60, 30, 55, 70, 32, 55, 20, 70, 30, 20, 10, 24, 29, 20, 3, 60, 30, 20, 96, 60, 54, 32, 55, 80, 30, 12, 25, 20, 30, 56, 20, 70, 65, 75, 5, 60, 16, 20, 30, 60, 60, 12, 30, 10, 10, 25, 20, 70, 55, 20, 20, 20, 65, 12, 25, 70, 84, 15, 55, 20, 30, 55, 30, 4, 20, 60, 15, 60, 99, 30, 30, 30, 15, 30, 30, 10, 20, 60, 15, 17, 30, 25, 99, 26, 68, 55, 75, 56, 16, 20, 84, 20, 20, 25, 70, 60, 60, 32, 70, 18, 25, 20, 25, 25, 55, 24, 20, 60, 12, 12, 55, 32, 75, 65, 32, 15, 30, 55, 30, 20, 6, 20, 55, 30, 14, 64, 30, 30, 20, 65, 25, 60, 30, 60, 20, 24, 15, 55, 80, 20, 32, 20, 60, 55, 10, 23, 62, 20, 30, 12, 58, 60, 30, 99, 60, 60, 70, 55, 5, 70, 20, 55, 55, 75, 60, 60, 15, 16, 30, 15, 30, 60, 6, 55, 60, 30, 24, 30, 55, 60, 25, 55, 30, 15, 30, 24, 78, 10, 60, 24, 20, 32, 20, 30, 70, 60, 60, 70, 20, 24, 15, 70, 60, 65, 60, 20, 5, 20, 60, 20, 60, 56, 30, 25, 55, 55, 20, 8, 16, 16, 90, 10, 73, 25, 75, 25, 16, 55, 8, 20, 55, 10, 55, 55, 10, 80, 20, 8, 55, 55, 20, 30, 15, 59, 6, 55, 15, 60, 30, 65, 65, 14, 80, 95, 30, 60, 66, 55, 25, 30, 55, 15, 24, 15, 30, 8, 25, 70, 16, 70, 8, 22, 24, 55, 20, 60, 10, 32, 25, 60, 80, 66, 56, 55, 25, 60, 30, 65, 84, 60, 6, 16, 16, 32, 20, 60, 30, 30, 30, 60, 30, 55, 20, 22, 30, 70, 60, 25, 22, 60, 60, 60, 15, 5, 55, 25, 24, 30, 12, 30, 24, 60, 62, 30, 15, 60, 15, 16, 25, 70, 20, 12, 20, 8, 30, 10, 15, 16, 32, 55, 70, 32, 30, 60, 30, 20, 60, 5, 22, 25, 14, 25, 55, 65, 60, 25, 60, 25, 60, 5, 55, 60, 30, 25, 53, 15, 20, 55, 20, 20, 60, 25, 55, 20, 30, 80, 30, 60, 30, 70, 20, 56, 16, 30, 55, 30, 15, 16, 10, 30, 55, 25, 30, 55, 32, 15, 60, 60, 55, 60, 20, 28, 20, 4, 16, 60, 60, 80, 72, 60, 4, 25, 54, 24, 60, 60, 66, 56, 2, 30, 55, 70, 56, 25, 55, 15, 54, 15, 55, 20, 60, 25, 16, 8, 20, 55, 70, 60, 30, 12, 25, 15, 12, 30, 30, 8, 32, 30, 6, 16, 60, 60, 99, 70, 20, 16, 30, 20, 68, 65, 24, 25, 5, 72, 65, 20, 30, 20, 60, 20, 11, 55, 30, 60, 91, 55, 55, 25, 80, 55, 30, 25, 32, 25, 25, 18, 60, 30, 25, 60, 65, 60, 15, 55, 30, 60, 55, 20, 20, 15, 30, 32, 12, 30, 55, 5, 65, 60, 60, 25, 66, 15, 55, 15, 60, 60, 70, 25, 55, 65, 32, 20, 20, 20, 60, 10, 72, 60, 84, 20, 70, 20, 20, 55, 55, 25, 25, 4, 55, 60, 20, 10, 70, 55, 20, 80, 32, 25, 55, 15, 55, 10, 3, 32, 15, 55, 12, 15, 60, 30, 24, 65, 65, 55, 25, 60, 16, 20, 60, 20, 30, 24, 60, 20, 55, 15, 30, 60, 24, 70, 32, 60, 30, 20, 30, 12, 24, 6, 60, 15, 20, 60, 80, 20, 30, 78, 20, 10, 5, 68, 75, 32, 60, 16, 15, 16, 60, 56, 24, 20, 72, 25, 55, 60, 55, 30, 60, 99, 1, 30, 10, 70, 20, 60, 30, 60, 96, 30, 60, 65, 55, 15, 20, 60, 10, 30, 32, 20, 20, 55, 55, 20, 20, 16, 60, 2, 30, 30, 20, 17, 75, 30, 30, 25, 65, 60, 16, 30, 60, 15, 30, 10, 10, 24, 20, 30, 14, 30, 20, 3, 54, 70, 15, 23, 60, 12, 60, 32, 30, 25, 77, 72, 55, 10, 30, 99, 55, 20, 56, 2, 15, 12, 84, 60, 30, 20, 20, 22, 15, 60, 99, 32, 20, 6, 60, 56, 25, 20, 57, 24, 10, 54, 18, 30, 30, 18, 20, 18, 60, 60, 56, 60, 60, 15, 20, 55, 57, 60, 60, 20, 60, 20, 25, 20, 55, 20, 30, 30, 5, 30, 10, 60, 5, 25, 25, 25, 12, 24, 2, 90, 5, 30, 20, 8, 60, 60, 20, 55, 20, 12, 15, 25, 4, 25, 24, 17, 55, 15, 60, 8, 15, 11, 60, 30, 10, 30, 55, 25, 20, 25, 20, 22, 60, 20, 20, 70, 60, 30, 30, 20, 26, 12, 78, 60, 53, 18, 55, 18, 70, 30, 4, 55, 25, 20, 32, 20, 55, 32, 60, 70, 25, 20, 30, 25, 60, 55, 60, 30, 60, 57, 20, 15, 15, 60, 30, 30, 25, 60, 30, 10, 60, 30, 60, 32, 12, 15, 30, 32, 10, 25, 84, 25, 65, 20, 30, 30, 80, 60, 20, 60, 30, 15, 30, 30, 85, 60, 30, 20, 60, 60, 13, 20, 55, 65, 30, 10, 10, 60, 55, 99, 25, 15, 32, 10, 32, 30, 30, 60, 60, 55, 30, 65, 25, 60, 60, 55, 70, 28, 16, 18, 30, 68, 28, 30, 30, 15, 12, 20, 70, 65, 30, 3, 65, 20, 24, 20, 25, 28, 99, 30, 25, 99, 25, 30, 55, 20, 8, 5, 55, 25, 20, 60, 10, 25, 70, 90, 60, 24, 20, 55, 25, 25, 53, 30, 80, 20, 30, 60, 24, 30, 20, 20, 30, 30, 72, 9, 20, 12, 15, 25, 7, 70, 30, 20, 60, 65, 18, 17, 30, 60, 20, 60, 30, 65, 13, 60, 16, 20, 60, 70, 60, 55, 53, 27, 58, 60, 60, 99, 60, 60, 8, 60, 32, 30, 62, 60, 30, 60, 55, 12, 60, 8, 60, 80, 25, 20, 60, 60, 25, 60, 15, 20, 55, 20, 60, 25, 8, 30, 60, 25, 24, 60, 90, 55, 60, 5, 55, 20, 30, 15, 5, 20, 10, 55, 70, 70, 60, 30, 60, 75, 8, 28, 20, 90, 70, 60, 25, 25, 60, 10, 20, 65, 25, 20, 60, 60, 20, 55, 60, 25, 60, 15, 60, 65, 20, 66, 20, 20, 25, 32, 16, 60, 8, 60, 20, 20, 60, 30, 30, 60, 25, 60, 70, 27, 20, 16, 20, 58, 15, 32, 15, 25, 2, 3, 30, 55, 20, 30, 55, 55, 30, 17, 60, 25, 20, 2, 55, 30, 20, 55, 16, 55, 20, 30, 20, 25, 32, 25, 60, 20, 10, 20, 25, 30, 80, 64, 54, 32, 55, 4, 30, 80, 30, 55, 20, 20, 9, 55, 55, 20, 80, 26, 20, 60, 60, 60, 53, 30, 16, 22, 25, 20, 60, 60, 30, 58, 90, 60, 70, 24, 25, 32, 4, 60, 65, 60, 55, 20, 65, 99, 20, 25, 30, 55, 20, 99, 12, 70, 65, 20, 4, 24, 55, 75, 32, 10, 30, 55, 60, 10, 30, 55, 30, 55, 55, 17, 15, 18, 80, 30, 20, 25, 25, 15, 55, 25, 25, 30, 60, 23, 30, 30, 24, 70, 70, 60, 3, 20, 30, 55, 55, 60, 55, 65, 68, 4, 3, 60, 10, 60, 30, 98, 20, 16, 30, 25, 15, 65, 25, 60, 24, 60, 55, 30, 24, 20, 55, 25, 60, 56, 30, 30, 25, 18, 20, 15, 60, 30, 55, 60, 32, 60, 15, 24, 12, 30, 70, 30, 65, 60, 20, 30, 20, 14, 70, 12, 15, 80, 62, 25, 55, 60, 20, 5, 28, 25, 55, 30, 20, 5, 60, 60, 60, 30, 60, 30, 30, 30, 16, 60, 20, 25, 60, 80, 24, 15, 55, 60, 10, 56, 60, 30, 30, 60, 10, 32, 20, 70, 15, 24, 65, 5, 25, 25, 10, 20, 80, 8, 20, 60, 12, 30, 60, 60, 30, 55, 12, 55, 65, 20, 60, 20, 20, 60, 15, 20, 20, 30, 60, 20, 65, 10, 20, 55, 25, 30, 60, 31, 16, 30, 32, 72, 20, 30, 25, 60, 25, 70, 10, 60, 20, 56, 30, 60, 4, 8, 5, 72, 72, 25, 55, 8, 12, 20, 55, 20, 15, 55, 75, 76, 60, 60, 70, 20, 32, 81, 30, 89, 25, 56, 55, 32, 30, 32, 56, 72, 20, 60, 20, 20, 20, 32, 30, 3, 32, 32, 25, 65, 99, 55, 84, 25, 60, 3, 65, 20, 28, 60, 55, 22, 24, 64, 55, 15, 1, 55, 99, 60, 55, 10, 32, 25, 30, 20, 60, 11, 20]\n"
          ],
          "name": "stdout"
        }
      ]
    },
    {
      "cell_type": "code",
      "metadata": {
        "id": "IPReik5RF9ft"
      },
      "source": [
        "\n",
        "#Removing the outliers\n",
        "\n",
        "df['hours-per-week']=df[(df['hours-per-week']> 32.5) & (df['hours-per-week']<52.5)]"
      ],
      "execution_count": 74,
      "outputs": []
    },
    {
      "cell_type": "code",
      "metadata": {
        "colab": {
          "base_uri": "https://localhost:8080/",
          "height": 486
        },
        "id": "ukykzTRSGae-",
        "outputId": "741f19b1-12b5-462d-ebb4-e59ba36e5b9b"
      },
      "source": [
        "#Plotting box-plot to see the outliers\n",
        "\n",
        "plt.figure(figsize=(10,8))\n",
        "sns.boxplot(y=df['hours-per-week'])"
      ],
      "execution_count": 76,
      "outputs": [
        {
          "output_type": "execute_result",
          "data": {
            "text/plain": [
              "<matplotlib.axes._subplots.AxesSubplot at 0x7f847ce88390>"
            ]
          },
          "metadata": {
            "tags": []
          },
          "execution_count": 76
        },
        {
          "output_type": "display_data",
          "data": {
            "image/png": "[encoded data removed]",
            "text/plain": [
              "<Figure size 720x576 with 1 Axes>"
            ]
          },
          "metadata": {
            "tags": [],
            "needs_background": "light"
          }
        }
      ]
    },
    {
      "cell_type": "code",
      "metadata": {
        "colab": {
          "base_uri": "https://localhost:8080/"
        },
        "id": "imEp5Nl5GOBw",
        "outputId": "2f877cd4-b13d-4830-ba1b-e382d576bcbc"
      },
      "source": [
        "df['hours-per-week'].isnull().sum()"
      ],
      "execution_count": 81,
      "outputs": [
        {
          "output_type": "execute_result",
          "data": {
            "text/plain": [
              "13496"
            ]
          },
          "metadata": {
            "tags": []
          },
          "execution_count": 81
        }
      ]
    },
    {
      "cell_type": "code",
      "metadata": {
        "id": "RR812QkHGhoe"
      },
      "source": [
        "df['hours-per-week']=df['hours-per-week'].fillna(df['hours-per-week'].median())"
      ],
      "execution_count": 85,
      "outputs": []
    },
    {
      "cell_type": "code",
      "metadata": {
        "colab": {
          "base_uri": "https://localhost:8080/"
        },
        "id": "jNLHC2HqGuUj",
        "outputId": "3d9c65e9-9fbd-4152-cc35-94796e3cef07"
      },
      "source": [
        "df['hours-per-week'].isnull().sum()"
      ],
      "execution_count": 86,
      "outputs": [
        {
          "output_type": "execute_result",
          "data": {
            "text/plain": [
              "0"
            ]
          },
          "metadata": {
            "tags": []
          },
          "execution_count": 86
        }
      ]
    },
    {
      "cell_type": "code",
      "metadata": {
        "colab": {
          "base_uri": "https://localhost:8080/",
          "height": 369
        },
        "id": "FOM-bIQYGuQ9",
        "outputId": "ee505882-66cb-4b72-82bd-637175dc1783"
      },
      "source": [
        "sns.displot(x = df['hours-per-week'],kind='kde')\n",
        "plt.show()"
      ],
      "execution_count": 87,
      "outputs": [
        {
          "output_type": "display_data",
          "data": {
            "image/png": "[encoded data removed]",
            "text/plain": [
              "<Figure size 360x360 with 1 Axes>"
            ]
          },
          "metadata": {
            "tags": [],
            "needs_background": "light"
          }
        }
      ]
    },
    {
      "cell_type": "markdown",
      "metadata": {
        "id": "6gR1JmTqHJmy"
      },
      "source": [
        "now we see that we have removed most of the outliers"
      ]
    },
    {
      "cell_type": "markdown",
      "metadata": {
        "id": "Heptcfq2HYBP"
      },
      "source": [
        "## Analysing Native Country"
      ]
    },
    {
      "cell_type": "code",
      "metadata": {
        "colab": {
          "base_uri": "https://localhost:8080/"
        },
        "id": "FHotVLd4Hc-3",
        "outputId": "25cca2cd-b1c3-4ecb-c152-e236261183ee"
      },
      "source": [
        "df['native-country'].describe()"
      ],
      "execution_count": 88,
      "outputs": [
        {
          "output_type": "execute_result",
          "data": {
            "text/plain": [
              "count             48842\n",
              "unique               42\n",
              "top       United-States\n",
              "freq              43832\n",
              "Name: native-country, dtype: object"
            ]
          },
          "metadata": {
            "tags": []
          },
          "execution_count": 88
        }
      ]
    },
    {
      "cell_type": "code",
      "metadata": {
        "colab": {
          "base_uri": "https://localhost:8080/"
        },
        "id": "3BaSqLfwHJIM",
        "outputId": "1245b115-c20b-49f4-c3cf-39ed4b379b08"
      },
      "source": [
        "df['native-country'].value_counts()"
      ],
      "execution_count": 89,
      "outputs": [
        {
          "output_type": "execute_result",
          "data": {
            "text/plain": [
              "United-States                 43832\n",
              "Mexico                          951\n",
              "?                               857\n",
              "Philippines                     295\n",
              "Germany                         206\n",
              "Puerto-Rico                     184\n",
              "Canada                          182\n",
              "El-Salvador                     155\n",
              "India                           151\n",
              "Cuba                            138\n",
              "England                         127\n",
              "China                           122\n",
              "South                           115\n",
              "Jamaica                         106\n",
              "Italy                           105\n",
              "Dominican-Republic              103\n",
              "Japan                            92\n",
              "Guatemala                        88\n",
              "Poland                           87\n",
              "Vietnam                          86\n",
              "Columbia                         85\n",
              "Haiti                            75\n",
              "Portugal                         67\n",
              "Taiwan                           65\n",
              "Iran                             59\n",
              "Greece                           49\n",
              "Nicaragua                        49\n",
              "Peru                             46\n",
              "Ecuador                          45\n",
              "France                           38\n",
              "Ireland                          37\n",
              "Thailand                         30\n",
              "Hong                             30\n",
              "Cambodia                         28\n",
              "Trinadad&Tobago                  27\n",
              "Outlying-US(Guam-USVI-etc)       23\n",
              "Laos                             23\n",
              "Yugoslavia                       23\n",
              "Scotland                         21\n",
              "Honduras                         20\n",
              "Hungary                          19\n",
              "Holand-Netherlands                1\n",
              "Name: native-country, dtype: int64"
            ]
          },
          "metadata": {
            "tags": []
          },
          "execution_count": 89
        }
      ]
    },
    {
      "cell_type": "code",
      "metadata": {
        "colab": {
          "base_uri": "https://localhost:8080/",
          "height": 793
        },
        "id": "Z-jsY9ZhHpFQ",
        "outputId": "69c1972c-42f1-4107-ced7-edce210a7315"
      },
      "source": [
        "plt.figure(figsize=(25,10))\n",
        "sns.countplot(df['native-country'],order=df['native-country'].value_counts().iloc[:].index)\n",
        "plt.xticks(rotation=90)\n",
        "plt.show()"
      ],
      "execution_count": 94,
      "outputs": [
        {
          "output_type": "stream",
          "text": [
            "/usr/local/lib/python3.7/dist-packages/seaborn/_decorators.py:43: FutureWarning: Pass the following variable as a keyword arg: x. From version 0.12, the only valid positional argument will be `data`, and passing other arguments without an explicit keyword will result in an error or misinterpretation.\n",
            "  FutureWarning\n"
          ],
          "name": "stderr"
        },
        {
          "output_type": "display_data",
          "data": {
            "image/png": "[encoded data removed]",
            "text/plain": [
              "<Figure size 1800x720 with 1 Axes>"
            ]
          },
          "metadata": {
            "tags": [],
            "needs_background": "light"
          }
        }
      ]
    },
    {
      "cell_type": "markdown",
      "metadata": {
        "id": "JbtGeQTTIhU6"
      },
      "source": [
        "most of the people from united states\n",
        "we also some missing values in the data"
      ]
    },
    {
      "cell_type": "code",
      "metadata": {
        "id": "V_0Vpn1zIqeO"
      },
      "source": [
        "df['native-country'].replace(\"?\",'United-States',inplace=True)"
      ],
      "execution_count": 95,
      "outputs": []
    },
    {
      "cell_type": "code",
      "metadata": {
        "colab": {
          "base_uri": "https://localhost:8080/",
          "height": 793
        },
        "id": "MIbKsX1VIqa8",
        "outputId": "e53b0cee-1c40-4456-ddf6-1d911dcbe56e"
      },
      "source": [
        "plt.figure(figsize=(22,10))\n",
        "sns.countplot(df['native-country'],order=df['native-country'].value_counts().iloc[:].index)\n",
        "plt.xticks(rotation=90)\n",
        "plt.show()"
      ],
      "execution_count": 97,
      "outputs": [
        {
          "output_type": "stream",
          "text": [
            "/usr/local/lib/python3.7/dist-packages/seaborn/_decorators.py:43: FutureWarning: Pass the following variable as a keyword arg: x. From version 0.12, the only valid positional argument will be `data`, and passing other arguments without an explicit keyword will result in an error or misinterpretation.\n",
            "  FutureWarning\n"
          ],
          "name": "stderr"
        },
        {
          "output_type": "display_data",
          "data": {
            "image/png": "[encoded data removed]",
            "text/plain": [
              "<Figure size 1584x720 with 1 Axes>"
            ]
          },
          "metadata": {
            "tags": [],
            "needs_background": "light"
          }
        }
      ]
    },
    {
      "cell_type": "markdown",
      "metadata": {
        "id": "uXQJ9lpKIpzz"
      },
      "source": [
        "now we have removed all the missing values"
      ]
    },
    {
      "cell_type": "markdown",
      "metadata": {
        "id": "DDGKSuJTVPm-"
      },
      "source": [
        "## Analysing income"
      ]
    },
    {
      "cell_type": "code",
      "metadata": {
        "colab": {
          "base_uri": "https://localhost:8080/"
        },
        "id": "9lV_m_29VUnm",
        "outputId": "86cb0f6c-af57-48c0-cc9c-e335fa1d1659"
      },
      "source": [
        "df['income'].describe()"
      ],
      "execution_count": 99,
      "outputs": [
        {
          "output_type": "execute_result",
          "data": {
            "text/plain": [
              "count     48842\n",
              "unique        2\n",
              "top       <=50K\n",
              "freq      37155\n",
              "Name: income, dtype: object"
            ]
          },
          "metadata": {
            "tags": []
          },
          "execution_count": 99
        }
      ]
    },
    {
      "cell_type": "code",
      "metadata": {
        "colab": {
          "base_uri": "https://localhost:8080/"
        },
        "id": "Z02vLNp8VUu1",
        "outputId": "6b6518cd-a19b-43e2-a4af-e30dd5455ae6"
      },
      "source": [
        "df['income'].value_counts()"
      ],
      "execution_count": 59,
      "outputs": [
        {
          "output_type": "execute_result",
          "data": {
            "text/plain": [
              "<=50K    37155\n",
              ">50K     11687\n",
              "Name: income, dtype: int64"
            ]
          },
          "metadata": {
            "tags": []
          },
          "execution_count": 59
        }
      ]
    },
    {
      "cell_type": "code",
      "metadata": {
        "colab": {
          "base_uri": "https://localhost:8080/",
          "height": 497
        },
        "id": "ZjI9n3BSVgsx",
        "outputId": "2473e633-cc3e-4edf-be19-23957db9e2dd"
      },
      "source": [
        "#countplot\n",
        "plt.figure(figsize=(10,8))\n",
        "sns.countplot(x = df['income'])\n",
        "plt.show()"
      ],
      "execution_count": 100,
      "outputs": [
        {
          "output_type": "display_data",
          "data": {
            "image/png": "[encoded data removed]",
            "text/plain": [
              "<Figure size 720x576 with 1 Axes>"
            ]
          },
          "metadata": {
            "tags": [],
            "needs_background": "light"
          }
        }
      ]
    },
    {
      "cell_type": "code",
      "metadata": {
        "id": "wJ0m9hCRJju3"
      },
      "source": [
        "# Mapping the categorical variables\n",
        "\n",
        "df['income']=df['income'].map({'<=50K':0,'>50K':1})"
      ],
      "execution_count": 102,
      "outputs": []
    },
    {
      "cell_type": "code",
      "metadata": {
        "colab": {
          "base_uri": "https://localhost:8080/",
          "height": 584
        },
        "id": "2NbCHtjP22yL",
        "outputId": "c292f185-2f48-4de5-d492-3d67d4530a9d"
      },
      "source": [
        "# Making pairplot\n",
        "\n",
        "plt.figure(figsize=(8,8))\n",
        "sns.pairplot(df)"
      ],
      "execution_count": 103,
      "outputs": [
        {
          "output_type": "execute_result",
          "data": {
            "text/plain": [
              "<seaborn.axisgrid.PairGrid at 0x7f847d4ded50>"
            ]
          },
          "metadata": {
            "tags": []
          },
          "execution_count": 103
        },
        {
          "output_type": "display_data",
          "data": {
            "text/plain": [
              "<Figure size 576x576 with 0 Axes>"
            ]
          },
          "metadata": {
            "tags": []
          }
        },
        {
          "output_type": "display_data",
          "data": {
            "image/png": "[encoded data removed]",
            "text/plain": [
              "<Figure size 540x540 with 12 Axes>"
            ]
          },
          "metadata": {
            "tags": [],
            "needs_background": "light"
          }
        }
      ]
    },
    {
      "cell_type": "code",
      "metadata": {
        "colab": {
          "base_uri": "https://localhost:8080/",
          "height": 504
        },
        "id": "aOx80C3-9_OG",
        "outputId": "f5598e98-808d-42fb-dae3-bc35b1d9ec03"
      },
      "source": [
        "plt.figure(figsize=(8,8))\n",
        "sns.heatmap(df.corr(),annot=True)"
      ],
      "execution_count": 104,
      "outputs": [
        {
          "output_type": "execute_result",
          "data": {
            "text/plain": [
              "<matplotlib.axes._subplots.AxesSubplot at 0x7f847becda10>"
            ]
          },
          "metadata": {
            "tags": []
          },
          "execution_count": 104
        },
        {
          "output_type": "display_data",
          "data": {
            "image/png": "[encoded data removed]",
            "text/plain": [
              "<Figure size 576x576 with 2 Axes>"
            ]
          },
          "metadata": {
            "tags": [],
            "needs_background": "light"
          }
        }
      ]
    },
    {
      "cell_type": "markdown",
      "metadata": {
        "id": "Lqc-C3pxL8KA"
      },
      "source": [
        "there is a strong correlation between age and hours-per-week"
      ]
    },
    {
      "cell_type": "code",
      "metadata": {
        "colab": {
          "base_uri": "https://localhost:8080/",
          "height": 142
        },
        "id": "YcnTyFuJLs71",
        "outputId": "69045efa-874c-4585-8796-4b5b28e3bfc7"
      },
      "source": [
        "pd.crosstab(df['gender'],df['income'])"
      ],
      "execution_count": 115,
      "outputs": [
        {
          "output_type": "execute_result",
          "data": {
            "text/html": [
              "<div>\n",
              "<style scoped>\n",
              "    .dataframe tbody tr th:only-of-type {\n",
              "        vertical-align: middle;\n",
              "    }\n",
              "\n",
              "    .dataframe tbody tr th {\n",
              "        vertical-align: top;\n",
              "    }\n",
              "\n",
              "    .dataframe thead th {\n",
              "        text-align: right;\n",
              "    }\n",
              "</style>\n",
              "<table border=\"1\" class=\"dataframe\">\n",
              "  <thead>\n",
              "    <tr style=\"text-align: right;\">\n",
              "      <th>income</th>\n",
              "      <th>0</th>\n",
              "      <th>1</th>\n",
              "    </tr>\n",
              "    <tr>\n",
              "      <th>gender</th>\n",
              "      <th></th>\n",
              "      <th></th>\n",
              "    </tr>\n",
              "  </thead>\n",
              "  <tbody>\n",
              "    <tr>\n",
              "      <th>Female</th>\n",
              "      <td>14423</td>\n",
              "      <td>1769</td>\n",
              "    </tr>\n",
              "    <tr>\n",
              "      <th>Male</th>\n",
              "      <td>22732</td>\n",
              "      <td>9918</td>\n",
              "    </tr>\n",
              "  </tbody>\n",
              "</table>\n",
              "</div>"
            ],
            "text/plain": [
              "income      0     1\n",
              "gender             \n",
              "Female  14423  1769\n",
              "Male    22732  9918"
            ]
          },
          "metadata": {
            "tags": []
          },
          "execution_count": 115
        }
      ]
    },
    {
      "cell_type": "code",
      "metadata": {
        "colab": {
          "base_uri": "https://localhost:8080/",
          "height": 514
        },
        "id": "L1UTyoQGMWE-",
        "outputId": "8afbc4b3-2581-4875-bfec-33194a5b7b8f"
      },
      "source": [
        "plt.figure(figsize=(8,8))\n",
        "sns.histplot(x=df['income'],hue=df['gender'])"
      ],
      "execution_count": 116,
      "outputs": [
        {
          "output_type": "execute_result",
          "data": {
            "text/plain": [
              "<matplotlib.axes._subplots.AxesSubplot at 0x7f84778c4210>"
            ]
          },
          "metadata": {
            "tags": []
          },
          "execution_count": 116
        },
        {
          "output_type": "display_data",
          "data": {
            "image/png": "[encoded data removed]",
            "text/plain": [
              "<Figure size 576x576 with 1 Axes>"
            ]
          },
          "metadata": {
            "tags": [],
            "needs_background": "light"
          }
        }
      ]
    },
    {
      "cell_type": "code",
      "metadata": {
        "colab": {
          "base_uri": "https://localhost:8080/",
          "height": 447
        },
        "id": "vu5E178rMWBY",
        "outputId": "44466318-e788-4d0b-b8da-1994e735da92"
      },
      "source": [
        "pd.crosstab(df['hours-per-week'],df['income'])"
      ],
      "execution_count": 117,
      "outputs": [
        {
          "output_type": "execute_result",
          "data": {
            "text/html": [
              "<div>\n",
              "<style scoped>\n",
              "    .dataframe tbody tr th:only-of-type {\n",
              "        vertical-align: middle;\n",
              "    }\n",
              "\n",
              "    .dataframe tbody tr th {\n",
              "        vertical-align: top;\n",
              "    }\n",
              "\n",
              "    .dataframe thead th {\n",
              "        text-align: right;\n",
              "    }\n",
              "</style>\n",
              "<table border=\"1\" class=\"dataframe\">\n",
              "  <thead>\n",
              "    <tr style=\"text-align: right;\">\n",
              "      <th>income</th>\n",
              "      <th>0</th>\n",
              "      <th>1</th>\n",
              "    </tr>\n",
              "    <tr>\n",
              "      <th>hours-per-week</th>\n",
              "      <th></th>\n",
              "      <th></th>\n",
              "    </tr>\n",
              "  </thead>\n",
              "  <tbody>\n",
              "    <tr>\n",
              "      <th>17.0</th>\n",
              "      <td>94</td>\n",
              "      <td>0</td>\n",
              "    </tr>\n",
              "    <tr>\n",
              "      <th>18.0</th>\n",
              "      <td>233</td>\n",
              "      <td>0</td>\n",
              "    </tr>\n",
              "    <tr>\n",
              "      <th>19.0</th>\n",
              "      <td>439</td>\n",
              "      <td>1</td>\n",
              "    </tr>\n",
              "    <tr>\n",
              "      <th>20.0</th>\n",
              "      <td>587</td>\n",
              "      <td>1</td>\n",
              "    </tr>\n",
              "    <tr>\n",
              "      <th>21.0</th>\n",
              "      <td>666</td>\n",
              "      <td>5</td>\n",
              "    </tr>\n",
              "    <tr>\n",
              "      <th>...</th>\n",
              "      <td>...</td>\n",
              "      <td>...</td>\n",
              "    </tr>\n",
              "    <tr>\n",
              "      <th>75.0</th>\n",
              "      <td>17</td>\n",
              "      <td>10</td>\n",
              "    </tr>\n",
              "    <tr>\n",
              "      <th>76.0</th>\n",
              "      <td>13</td>\n",
              "      <td>4</td>\n",
              "    </tr>\n",
              "    <tr>\n",
              "      <th>77.0</th>\n",
              "      <td>14</td>\n",
              "      <td>4</td>\n",
              "    </tr>\n",
              "    <tr>\n",
              "      <th>78.0</th>\n",
              "      <td>9</td>\n",
              "      <td>3</td>\n",
              "    </tr>\n",
              "    <tr>\n",
              "      <th>79.0</th>\n",
              "      <td>7</td>\n",
              "      <td>5</td>\n",
              "    </tr>\n",
              "  </tbody>\n",
              "</table>\n",
              "<p>63 rows × 2 columns</p>\n",
              "</div>"
            ],
            "text/plain": [
              "income            0   1\n",
              "hours-per-week         \n",
              "17.0             94   0\n",
              "18.0            233   0\n",
              "19.0            439   1\n",
              "20.0            587   1\n",
              "21.0            666   5\n",
              "...             ...  ..\n",
              "75.0             17  10\n",
              "76.0             13   4\n",
              "77.0             14   4\n",
              "78.0              9   3\n",
              "79.0              7   5\n",
              "\n",
              "[63 rows x 2 columns]"
            ]
          },
          "metadata": {
            "tags": []
          },
          "execution_count": 117
        }
      ]
    },
    {
      "cell_type": "code",
      "metadata": {
        "colab": {
          "base_uri": "https://localhost:8080/",
          "height": 515
        },
        "id": "jm2ntf5eMV_B",
        "outputId": "9b0424ff-1afa-405f-9c46-683f3c3c8051"
      },
      "source": [
        "plt.figure(figsize=(8,8))\n",
        "sns.histplot(x=df['hours-per-week'],hue=df['income'])"
      ],
      "execution_count": 121,
      "outputs": [
        {
          "output_type": "execute_result",
          "data": {
            "text/plain": [
              "<matplotlib.axes._subplots.AxesSubplot at 0x7f8474593c90>"
            ]
          },
          "metadata": {
            "tags": []
          },
          "execution_count": 121
        },
        {
          "output_type": "display_data",
          "data": {
            "image/png": "[encoded data removed]",
            "text/plain": [
              "<Figure size 576x576 with 1 Axes>"
            ]
          },
          "metadata": {
            "tags": [],
            "needs_background": "light"
          }
        }
      ]
    },
    {
      "cell_type": "code",
      "metadata": {
        "colab": {
          "base_uri": "https://localhost:8080/",
          "height": 447
        },
        "id": "mYFaKWw1NuAq",
        "outputId": "b1c8e226-d17d-478e-ade7-3034f0d8cecf"
      },
      "source": [
        "pd.crosstab(df['age'],df['income'])"
      ],
      "execution_count": 122,
      "outputs": [
        {
          "output_type": "execute_result",
          "data": {
            "text/html": [
              "<div>\n",
              "<style scoped>\n",
              "    .dataframe tbody tr th:only-of-type {\n",
              "        vertical-align: middle;\n",
              "    }\n",
              "\n",
              "    .dataframe tbody tr th {\n",
              "        vertical-align: top;\n",
              "    }\n",
              "\n",
              "    .dataframe thead th {\n",
              "        text-align: right;\n",
              "    }\n",
              "</style>\n",
              "<table border=\"1\" class=\"dataframe\">\n",
              "  <thead>\n",
              "    <tr style=\"text-align: right;\">\n",
              "      <th>income</th>\n",
              "      <th>0</th>\n",
              "      <th>1</th>\n",
              "    </tr>\n",
              "    <tr>\n",
              "      <th>age</th>\n",
              "      <th></th>\n",
              "      <th></th>\n",
              "    </tr>\n",
              "  </thead>\n",
              "  <tbody>\n",
              "    <tr>\n",
              "      <th>17.0</th>\n",
              "      <td>595</td>\n",
              "      <td>0</td>\n",
              "    </tr>\n",
              "    <tr>\n",
              "      <th>18.0</th>\n",
              "      <td>862</td>\n",
              "      <td>0</td>\n",
              "    </tr>\n",
              "    <tr>\n",
              "      <th>19.0</th>\n",
              "      <td>1050</td>\n",
              "      <td>3</td>\n",
              "    </tr>\n",
              "    <tr>\n",
              "      <th>20.0</th>\n",
              "      <td>1112</td>\n",
              "      <td>1</td>\n",
              "    </tr>\n",
              "    <tr>\n",
              "      <th>21.0</th>\n",
              "      <td>1090</td>\n",
              "      <td>6</td>\n",
              "    </tr>\n",
              "    <tr>\n",
              "      <th>...</th>\n",
              "      <td>...</td>\n",
              "      <td>...</td>\n",
              "    </tr>\n",
              "    <tr>\n",
              "      <th>75.0</th>\n",
              "      <td>59</td>\n",
              "      <td>13</td>\n",
              "    </tr>\n",
              "    <tr>\n",
              "      <th>76.0</th>\n",
              "      <td>61</td>\n",
              "      <td>8</td>\n",
              "    </tr>\n",
              "    <tr>\n",
              "      <th>77.0</th>\n",
              "      <td>46</td>\n",
              "      <td>8</td>\n",
              "    </tr>\n",
              "    <tr>\n",
              "      <th>78.0</th>\n",
              "      <td>29</td>\n",
              "      <td>5</td>\n",
              "    </tr>\n",
              "    <tr>\n",
              "      <th>79.0</th>\n",
              "      <td>21</td>\n",
              "      <td>9</td>\n",
              "    </tr>\n",
              "  </tbody>\n",
              "</table>\n",
              "<p>63 rows × 2 columns</p>\n",
              "</div>"
            ],
            "text/plain": [
              "income     0   1\n",
              "age             \n",
              "17.0     595   0\n",
              "18.0     862   0\n",
              "19.0    1050   3\n",
              "20.0    1112   1\n",
              "21.0    1090   6\n",
              "...      ...  ..\n",
              "75.0      59  13\n",
              "76.0      61   8\n",
              "77.0      46   8\n",
              "78.0      29   5\n",
              "79.0      21   9\n",
              "\n",
              "[63 rows x 2 columns]"
            ]
          },
          "metadata": {
            "tags": []
          },
          "execution_count": 122
        }
      ]
    },
    {
      "cell_type": "code",
      "metadata": {
        "colab": {
          "base_uri": "https://localhost:8080/",
          "height": 514
        },
        "id": "6Yxldq__N2Xq",
        "outputId": "73c36c49-b727-4899-d21d-73504e1459c6"
      },
      "source": [
        "plt.figure(figsize=(8,8))\n",
        "sns.histplot(x=df['age'],hue=df['income'])"
      ],
      "execution_count": 124,
      "outputs": [
        {
          "output_type": "execute_result",
          "data": {
            "text/plain": [
              "<matplotlib.axes._subplots.AxesSubplot at 0x7f8473f4e850>"
            ]
          },
          "metadata": {
            "tags": []
          },
          "execution_count": 124
        },
        {
          "output_type": "display_data",
          "data": {
            "image/png": "[encoded data removed]",
            "text/plain": [
              "<Figure size 576x576 with 1 Axes>"
            ]
          },
          "metadata": {
            "tags": [],
            "needs_background": "light"
          }
        }
      ]
    },
    {
      "cell_type": "code",
      "metadata": {
        "colab": {
          "base_uri": "https://localhost:8080/",
          "height": 514
        },
        "id": "kcDEYvU_MV8h",
        "outputId": "ba74717c-6760-4983-8a12-cde95173894e"
      },
      "source": [
        "plt.figure(figsize=(8,8))\n",
        "sns.histplot(x=df['income'],hue=df['race'])"
      ],
      "execution_count": 120,
      "outputs": [
        {
          "output_type": "execute_result",
          "data": {
            "text/plain": [
              "<matplotlib.axes._subplots.AxesSubplot at 0x7f847460a410>"
            ]
          },
          "metadata": {
            "tags": []
          },
          "execution_count": 120
        },
        {
          "output_type": "display_data",
          "data": {
            "image/png": "[encoded data removed]",
            "text/plain": [
              "<Figure size 576x576 with 1 Axes>"
            ]
          },
          "metadata": {
            "tags": [],
            "needs_background": "light"
          }
        }
      ]
    },
    {
      "cell_type": "code",
      "metadata": {
        "id": "9T7o6sxbObwo"
      },
      "source": [
        "df['gender']=df['gender'].map({'Male':0,'Female':1})"
      ],
      "execution_count": 126,
      "outputs": []
    },
    {
      "cell_type": "code",
      "metadata": {
        "colab": {
          "base_uri": "https://localhost:8080/",
          "height": 203
        },
        "id": "Qk-pT6FDMV5-",
        "outputId": "a758f41e-a281-440c-9a1a-b9ce705bfd02"
      },
      "source": [
        "df.head()"
      ],
      "execution_count": 127,
      "outputs": [
        {
          "output_type": "execute_result",
          "data": {
            "text/html": [
              "<div>\n",
              "<style scoped>\n",
              "    .dataframe tbody tr th:only-of-type {\n",
              "        vertical-align: middle;\n",
              "    }\n",
              "\n",
              "    .dataframe tbody tr th {\n",
              "        vertical-align: top;\n",
              "    }\n",
              "\n",
              "    .dataframe thead th {\n",
              "        text-align: right;\n",
              "    }\n",
              "</style>\n",
              "<table border=\"1\" class=\"dataframe\">\n",
              "  <thead>\n",
              "    <tr style=\"text-align: right;\">\n",
              "      <th></th>\n",
              "      <th>age</th>\n",
              "      <th>workclass</th>\n",
              "      <th>education</th>\n",
              "      <th>marital-status</th>\n",
              "      <th>occupation</th>\n",
              "      <th>race</th>\n",
              "      <th>gender</th>\n",
              "      <th>hours-per-week</th>\n",
              "      <th>native-country</th>\n",
              "      <th>income</th>\n",
              "    </tr>\n",
              "  </thead>\n",
              "  <tbody>\n",
              "    <tr>\n",
              "      <th>0</th>\n",
              "      <td>25.0</td>\n",
              "      <td>Private</td>\n",
              "      <td>11th</td>\n",
              "      <td>Never-married</td>\n",
              "      <td>Machine-op-inspct</td>\n",
              "      <td>Black</td>\n",
              "      <td>0</td>\n",
              "      <td>25.0</td>\n",
              "      <td>United-States</td>\n",
              "      <td>0</td>\n",
              "    </tr>\n",
              "    <tr>\n",
              "      <th>1</th>\n",
              "      <td>38.0</td>\n",
              "      <td>Private</td>\n",
              "      <td>HS-grad</td>\n",
              "      <td>Married-civ-spouse</td>\n",
              "      <td>Farming-fishing</td>\n",
              "      <td>White</td>\n",
              "      <td>0</td>\n",
              "      <td>38.0</td>\n",
              "      <td>United-States</td>\n",
              "      <td>0</td>\n",
              "    </tr>\n",
              "    <tr>\n",
              "      <th>2</th>\n",
              "      <td>28.0</td>\n",
              "      <td>Local-gov</td>\n",
              "      <td>Assoc-acdm</td>\n",
              "      <td>Married-civ-spouse</td>\n",
              "      <td>Protective-serv</td>\n",
              "      <td>White</td>\n",
              "      <td>0</td>\n",
              "      <td>28.0</td>\n",
              "      <td>United-States</td>\n",
              "      <td>1</td>\n",
              "    </tr>\n",
              "    <tr>\n",
              "      <th>3</th>\n",
              "      <td>44.0</td>\n",
              "      <td>Private</td>\n",
              "      <td>Some-college</td>\n",
              "      <td>Married-civ-spouse</td>\n",
              "      <td>Machine-op-inspct</td>\n",
              "      <td>Black</td>\n",
              "      <td>0</td>\n",
              "      <td>44.0</td>\n",
              "      <td>United-States</td>\n",
              "      <td>1</td>\n",
              "    </tr>\n",
              "    <tr>\n",
              "      <th>4</th>\n",
              "      <td>18.0</td>\n",
              "      <td>Private</td>\n",
              "      <td>Some-college</td>\n",
              "      <td>Never-married</td>\n",
              "      <td>Prof-specialty</td>\n",
              "      <td>White</td>\n",
              "      <td>1</td>\n",
              "      <td>37.0</td>\n",
              "      <td>United-States</td>\n",
              "      <td>0</td>\n",
              "    </tr>\n",
              "  </tbody>\n",
              "</table>\n",
              "</div>"
            ],
            "text/plain": [
              "    age  workclass     education  ... hours-per-week native-country income\n",
              "0  25.0    Private          11th  ...           25.0  United-States      0\n",
              "1  38.0    Private       HS-grad  ...           38.0  United-States      0\n",
              "2  28.0  Local-gov    Assoc-acdm  ...           28.0  United-States      1\n",
              "3  44.0    Private  Some-college  ...           44.0  United-States      1\n",
              "4  18.0    Private  Some-college  ...           37.0  United-States      0\n",
              "\n",
              "[5 rows x 10 columns]"
            ]
          },
          "metadata": {
            "tags": []
          },
          "execution_count": 127
        }
      ]
    },
    {
      "cell_type": "code",
      "metadata": {
        "id": "1gwSd3szMV3e"
      },
      "source": [
        "df=pd.get_dummies(df,drop_first=True)"
      ],
      "execution_count": 129,
      "outputs": []
    },
    {
      "cell_type": "code",
      "metadata": {
        "colab": {
          "base_uri": "https://localhost:8080/",
          "height": 286
        },
        "id": "T4uPUw1oOsQ7",
        "outputId": "4d9ab6f3-b811-4cdc-8547-d2f45963a289"
      },
      "source": [
        "df.head()"
      ],
      "execution_count": 130,
      "outputs": [
        {
          "output_type": "execute_result",
          "data": {
            "text/html": [
              "<div>\n",
              "<style scoped>\n",
              "    .dataframe tbody tr th:only-of-type {\n",
              "        vertical-align: middle;\n",
              "    }\n",
              "\n",
              "    .dataframe tbody tr th {\n",
              "        vertical-align: top;\n",
              "    }\n",
              "\n",
              "    .dataframe thead th {\n",
              "        text-align: right;\n",
              "    }\n",
              "</style>\n",
              "<table border=\"1\" class=\"dataframe\">\n",
              "  <thead>\n",
              "    <tr style=\"text-align: right;\">\n",
              "      <th></th>\n",
              "      <th>age</th>\n",
              "      <th>gender</th>\n",
              "      <th>hours-per-week</th>\n",
              "      <th>income</th>\n",
              "      <th>workclass_Local-gov</th>\n",
              "      <th>workclass_Never-worked</th>\n",
              "      <th>workclass_Private</th>\n",
              "      <th>workclass_Self-emp-inc</th>\n",
              "      <th>workclass_Self-emp-not-inc</th>\n",
              "      <th>workclass_State-gov</th>\n",
              "      <th>workclass_Without-pay</th>\n",
              "      <th>education_11th</th>\n",
              "      <th>education_12th</th>\n",
              "      <th>education_1st-4th</th>\n",
              "      <th>education_5th-6th</th>\n",
              "      <th>education_7th-8th</th>\n",
              "      <th>education_9th</th>\n",
              "      <th>education_Assoc-acdm</th>\n",
              "      <th>education_Assoc-voc</th>\n",
              "      <th>education_Bachelors</th>\n",
              "      <th>education_Doctorate</th>\n",
              "      <th>education_HS-grad</th>\n",
              "      <th>education_Masters</th>\n",
              "      <th>education_Preschool</th>\n",
              "      <th>education_Prof-school</th>\n",
              "      <th>education_Some-college</th>\n",
              "      <th>marital-status_Married-AF-spouse</th>\n",
              "      <th>marital-status_Married-civ-spouse</th>\n",
              "      <th>marital-status_Married-spouse-absent</th>\n",
              "      <th>marital-status_Never-married</th>\n",
              "      <th>marital-status_Separated</th>\n",
              "      <th>marital-status_Widowed</th>\n",
              "      <th>occupation_Armed-Forces</th>\n",
              "      <th>occupation_Craft-repair</th>\n",
              "      <th>occupation_Exec-managerial</th>\n",
              "      <th>occupation_Farming-fishing</th>\n",
              "      <th>occupation_Handlers-cleaners</th>\n",
              "      <th>occupation_Machine-op-inspct</th>\n",
              "      <th>occupation_Other-service</th>\n",
              "      <th>occupation_Priv-house-serv</th>\n",
              "      <th>...</th>\n",
              "      <th>native-country_Canada</th>\n",
              "      <th>native-country_China</th>\n",
              "      <th>native-country_Columbia</th>\n",
              "      <th>native-country_Cuba</th>\n",
              "      <th>native-country_Dominican-Republic</th>\n",
              "      <th>native-country_Ecuador</th>\n",
              "      <th>native-country_El-Salvador</th>\n",
              "      <th>native-country_England</th>\n",
              "      <th>native-country_France</th>\n",
              "      <th>native-country_Germany</th>\n",
              "      <th>native-country_Greece</th>\n",
              "      <th>native-country_Guatemala</th>\n",
              "      <th>native-country_Haiti</th>\n",
              "      <th>native-country_Holand-Netherlands</th>\n",
              "      <th>native-country_Honduras</th>\n",
              "      <th>native-country_Hong</th>\n",
              "      <th>native-country_Hungary</th>\n",
              "      <th>native-country_India</th>\n",
              "      <th>native-country_Iran</th>\n",
              "      <th>native-country_Ireland</th>\n",
              "      <th>native-country_Italy</th>\n",
              "      <th>native-country_Jamaica</th>\n",
              "      <th>native-country_Japan</th>\n",
              "      <th>native-country_Laos</th>\n",
              "      <th>native-country_Mexico</th>\n",
              "      <th>native-country_Nicaragua</th>\n",
              "      <th>native-country_Outlying-US(Guam-USVI-etc)</th>\n",
              "      <th>native-country_Peru</th>\n",
              "      <th>native-country_Philippines</th>\n",
              "      <th>native-country_Poland</th>\n",
              "      <th>native-country_Portugal</th>\n",
              "      <th>native-country_Puerto-Rico</th>\n",
              "      <th>native-country_Scotland</th>\n",
              "      <th>native-country_South</th>\n",
              "      <th>native-country_Taiwan</th>\n",
              "      <th>native-country_Thailand</th>\n",
              "      <th>native-country_Trinadad&amp;Tobago</th>\n",
              "      <th>native-country_United-States</th>\n",
              "      <th>native-country_Vietnam</th>\n",
              "      <th>native-country_Yugoslavia</th>\n",
              "    </tr>\n",
              "  </thead>\n",
              "  <tbody>\n",
              "    <tr>\n",
              "      <th>0</th>\n",
              "      <td>25.0</td>\n",
              "      <td>0</td>\n",
              "      <td>25.0</td>\n",
              "      <td>0</td>\n",
              "      <td>0</td>\n",
              "      <td>0</td>\n",
              "      <td>1</td>\n",
              "      <td>0</td>\n",
              "      <td>0</td>\n",
              "      <td>0</td>\n",
              "      <td>0</td>\n",
              "      <td>1</td>\n",
              "      <td>0</td>\n",
              "      <td>0</td>\n",
              "      <td>0</td>\n",
              "      <td>0</td>\n",
              "      <td>0</td>\n",
              "      <td>0</td>\n",
              "      <td>0</td>\n",
              "      <td>0</td>\n",
              "      <td>0</td>\n",
              "      <td>0</td>\n",
              "      <td>0</td>\n",
              "      <td>0</td>\n",
              "      <td>0</td>\n",
              "      <td>0</td>\n",
              "      <td>0</td>\n",
              "      <td>0</td>\n",
              "      <td>0</td>\n",
              "      <td>1</td>\n",
              "      <td>0</td>\n",
              "      <td>0</td>\n",
              "      <td>0</td>\n",
              "      <td>0</td>\n",
              "      <td>0</td>\n",
              "      <td>0</td>\n",
              "      <td>0</td>\n",
              "      <td>1</td>\n",
              "      <td>0</td>\n",
              "      <td>0</td>\n",
              "      <td>...</td>\n",
              "      <td>0</td>\n",
              "      <td>0</td>\n",
              "      <td>0</td>\n",
              "      <td>0</td>\n",
              "      <td>0</td>\n",
              "      <td>0</td>\n",
              "      <td>0</td>\n",
              "      <td>0</td>\n",
              "      <td>0</td>\n",
              "      <td>0</td>\n",
              "      <td>0</td>\n",
              "      <td>0</td>\n",
              "      <td>0</td>\n",
              "      <td>0</td>\n",
              "      <td>0</td>\n",
              "      <td>0</td>\n",
              "      <td>0</td>\n",
              "      <td>0</td>\n",
              "      <td>0</td>\n",
              "      <td>0</td>\n",
              "      <td>0</td>\n",
              "      <td>0</td>\n",
              "      <td>0</td>\n",
              "      <td>0</td>\n",
              "      <td>0</td>\n",
              "      <td>0</td>\n",
              "      <td>0</td>\n",
              "      <td>0</td>\n",
              "      <td>0</td>\n",
              "      <td>0</td>\n",
              "      <td>0</td>\n",
              "      <td>0</td>\n",
              "      <td>0</td>\n",
              "      <td>0</td>\n",
              "      <td>0</td>\n",
              "      <td>0</td>\n",
              "      <td>0</td>\n",
              "      <td>1</td>\n",
              "      <td>0</td>\n",
              "      <td>0</td>\n",
              "    </tr>\n",
              "    <tr>\n",
              "      <th>1</th>\n",
              "      <td>38.0</td>\n",
              "      <td>0</td>\n",
              "      <td>38.0</td>\n",
              "      <td>0</td>\n",
              "      <td>0</td>\n",
              "      <td>0</td>\n",
              "      <td>1</td>\n",
              "      <td>0</td>\n",
              "      <td>0</td>\n",
              "      <td>0</td>\n",
              "      <td>0</td>\n",
              "      <td>0</td>\n",
              "      <td>0</td>\n",
              "      <td>0</td>\n",
              "      <td>0</td>\n",
              "      <td>0</td>\n",
              "      <td>0</td>\n",
              "      <td>0</td>\n",
              "      <td>0</td>\n",
              "      <td>0</td>\n",
              "      <td>0</td>\n",
              "      <td>1</td>\n",
              "      <td>0</td>\n",
              "      <td>0</td>\n",
              "      <td>0</td>\n",
              "      <td>0</td>\n",
              "      <td>0</td>\n",
              "      <td>1</td>\n",
              "      <td>0</td>\n",
              "      <td>0</td>\n",
              "      <td>0</td>\n",
              "      <td>0</td>\n",
              "      <td>0</td>\n",
              "      <td>0</td>\n",
              "      <td>0</td>\n",
              "      <td>1</td>\n",
              "      <td>0</td>\n",
              "      <td>0</td>\n",
              "      <td>0</td>\n",
              "      <td>0</td>\n",
              "      <td>...</td>\n",
              "      <td>0</td>\n",
              "      <td>0</td>\n",
              "      <td>0</td>\n",
              "      <td>0</td>\n",
              "      <td>0</td>\n",
              "      <td>0</td>\n",
              "      <td>0</td>\n",
              "      <td>0</td>\n",
              "      <td>0</td>\n",
              "      <td>0</td>\n",
              "      <td>0</td>\n",
              "      <td>0</td>\n",
              "      <td>0</td>\n",
              "      <td>0</td>\n",
              "      <td>0</td>\n",
              "      <td>0</td>\n",
              "      <td>0</td>\n",
              "      <td>0</td>\n",
              "      <td>0</td>\n",
              "      <td>0</td>\n",
              "      <td>0</td>\n",
              "      <td>0</td>\n",
              "      <td>0</td>\n",
              "      <td>0</td>\n",
              "      <td>0</td>\n",
              "      <td>0</td>\n",
              "      <td>0</td>\n",
              "      <td>0</td>\n",
              "      <td>0</td>\n",
              "      <td>0</td>\n",
              "      <td>0</td>\n",
              "      <td>0</td>\n",
              "      <td>0</td>\n",
              "      <td>0</td>\n",
              "      <td>0</td>\n",
              "      <td>0</td>\n",
              "      <td>0</td>\n",
              "      <td>1</td>\n",
              "      <td>0</td>\n",
              "      <td>0</td>\n",
              "    </tr>\n",
              "    <tr>\n",
              "      <th>2</th>\n",
              "      <td>28.0</td>\n",
              "      <td>0</td>\n",
              "      <td>28.0</td>\n",
              "      <td>1</td>\n",
              "      <td>1</td>\n",
              "      <td>0</td>\n",
              "      <td>0</td>\n",
              "      <td>0</td>\n",
              "      <td>0</td>\n",
              "      <td>0</td>\n",
              "      <td>0</td>\n",
              "      <td>0</td>\n",
              "      <td>0</td>\n",
              "      <td>0</td>\n",
              "      <td>0</td>\n",
              "      <td>0</td>\n",
              "      <td>0</td>\n",
              "      <td>1</td>\n",
              "      <td>0</td>\n",
              "      <td>0</td>\n",
              "      <td>0</td>\n",
              "      <td>0</td>\n",
              "      <td>0</td>\n",
              "      <td>0</td>\n",
              "      <td>0</td>\n",
              "      <td>0</td>\n",
              "      <td>0</td>\n",
              "      <td>1</td>\n",
              "      <td>0</td>\n",
              "      <td>0</td>\n",
              "      <td>0</td>\n",
              "      <td>0</td>\n",
              "      <td>0</td>\n",
              "      <td>0</td>\n",
              "      <td>0</td>\n",
              "      <td>0</td>\n",
              "      <td>0</td>\n",
              "      <td>0</td>\n",
              "      <td>0</td>\n",
              "      <td>0</td>\n",
              "      <td>...</td>\n",
              "      <td>0</td>\n",
              "      <td>0</td>\n",
              "      <td>0</td>\n",
              "      <td>0</td>\n",
              "      <td>0</td>\n",
              "      <td>0</td>\n",
              "      <td>0</td>\n",
              "      <td>0</td>\n",
              "      <td>0</td>\n",
              "      <td>0</td>\n",
              "      <td>0</td>\n",
              "      <td>0</td>\n",
              "      <td>0</td>\n",
              "      <td>0</td>\n",
              "      <td>0</td>\n",
              "      <td>0</td>\n",
              "      <td>0</td>\n",
              "      <td>0</td>\n",
              "      <td>0</td>\n",
              "      <td>0</td>\n",
              "      <td>0</td>\n",
              "      <td>0</td>\n",
              "      <td>0</td>\n",
              "      <td>0</td>\n",
              "      <td>0</td>\n",
              "      <td>0</td>\n",
              "      <td>0</td>\n",
              "      <td>0</td>\n",
              "      <td>0</td>\n",
              "      <td>0</td>\n",
              "      <td>0</td>\n",
              "      <td>0</td>\n",
              "      <td>0</td>\n",
              "      <td>0</td>\n",
              "      <td>0</td>\n",
              "      <td>0</td>\n",
              "      <td>0</td>\n",
              "      <td>1</td>\n",
              "      <td>0</td>\n",
              "      <td>0</td>\n",
              "    </tr>\n",
              "    <tr>\n",
              "      <th>3</th>\n",
              "      <td>44.0</td>\n",
              "      <td>0</td>\n",
              "      <td>44.0</td>\n",
              "      <td>1</td>\n",
              "      <td>0</td>\n",
              "      <td>0</td>\n",
              "      <td>1</td>\n",
              "      <td>0</td>\n",
              "      <td>0</td>\n",
              "      <td>0</td>\n",
              "      <td>0</td>\n",
              "      <td>0</td>\n",
              "      <td>0</td>\n",
              "      <td>0</td>\n",
              "      <td>0</td>\n",
              "      <td>0</td>\n",
              "      <td>0</td>\n",
              "      <td>0</td>\n",
              "      <td>0</td>\n",
              "      <td>0</td>\n",
              "      <td>0</td>\n",
              "      <td>0</td>\n",
              "      <td>0</td>\n",
              "      <td>0</td>\n",
              "      <td>0</td>\n",
              "      <td>1</td>\n",
              "      <td>0</td>\n",
              "      <td>1</td>\n",
              "      <td>0</td>\n",
              "      <td>0</td>\n",
              "      <td>0</td>\n",
              "      <td>0</td>\n",
              "      <td>0</td>\n",
              "      <td>0</td>\n",
              "      <td>0</td>\n",
              "      <td>0</td>\n",
              "      <td>0</td>\n",
              "      <td>1</td>\n",
              "      <td>0</td>\n",
              "      <td>0</td>\n",
              "      <td>...</td>\n",
              "      <td>0</td>\n",
              "      <td>0</td>\n",
              "      <td>0</td>\n",
              "      <td>0</td>\n",
              "      <td>0</td>\n",
              "      <td>0</td>\n",
              "      <td>0</td>\n",
              "      <td>0</td>\n",
              "      <td>0</td>\n",
              "      <td>0</td>\n",
              "      <td>0</td>\n",
              "      <td>0</td>\n",
              "      <td>0</td>\n",
              "      <td>0</td>\n",
              "      <td>0</td>\n",
              "      <td>0</td>\n",
              "      <td>0</td>\n",
              "      <td>0</td>\n",
              "      <td>0</td>\n",
              "      <td>0</td>\n",
              "      <td>0</td>\n",
              "      <td>0</td>\n",
              "      <td>0</td>\n",
              "      <td>0</td>\n",
              "      <td>0</td>\n",
              "      <td>0</td>\n",
              "      <td>0</td>\n",
              "      <td>0</td>\n",
              "      <td>0</td>\n",
              "      <td>0</td>\n",
              "      <td>0</td>\n",
              "      <td>0</td>\n",
              "      <td>0</td>\n",
              "      <td>0</td>\n",
              "      <td>0</td>\n",
              "      <td>0</td>\n",
              "      <td>0</td>\n",
              "      <td>1</td>\n",
              "      <td>0</td>\n",
              "      <td>0</td>\n",
              "    </tr>\n",
              "    <tr>\n",
              "      <th>4</th>\n",
              "      <td>18.0</td>\n",
              "      <td>1</td>\n",
              "      <td>37.0</td>\n",
              "      <td>0</td>\n",
              "      <td>0</td>\n",
              "      <td>0</td>\n",
              "      <td>1</td>\n",
              "      <td>0</td>\n",
              "      <td>0</td>\n",
              "      <td>0</td>\n",
              "      <td>0</td>\n",
              "      <td>0</td>\n",
              "      <td>0</td>\n",
              "      <td>0</td>\n",
              "      <td>0</td>\n",
              "      <td>0</td>\n",
              "      <td>0</td>\n",
              "      <td>0</td>\n",
              "      <td>0</td>\n",
              "      <td>0</td>\n",
              "      <td>0</td>\n",
              "      <td>0</td>\n",
              "      <td>0</td>\n",
              "      <td>0</td>\n",
              "      <td>0</td>\n",
              "      <td>1</td>\n",
              "      <td>0</td>\n",
              "      <td>0</td>\n",
              "      <td>0</td>\n",
              "      <td>1</td>\n",
              "      <td>0</td>\n",
              "      <td>0</td>\n",
              "      <td>0</td>\n",
              "      <td>0</td>\n",
              "      <td>0</td>\n",
              "      <td>0</td>\n",
              "      <td>0</td>\n",
              "      <td>0</td>\n",
              "      <td>0</td>\n",
              "      <td>0</td>\n",
              "      <td>...</td>\n",
              "      <td>0</td>\n",
              "      <td>0</td>\n",
              "      <td>0</td>\n",
              "      <td>0</td>\n",
              "      <td>0</td>\n",
              "      <td>0</td>\n",
              "      <td>0</td>\n",
              "      <td>0</td>\n",
              "      <td>0</td>\n",
              "      <td>0</td>\n",
              "      <td>0</td>\n",
              "      <td>0</td>\n",
              "      <td>0</td>\n",
              "      <td>0</td>\n",
              "      <td>0</td>\n",
              "      <td>0</td>\n",
              "      <td>0</td>\n",
              "      <td>0</td>\n",
              "      <td>0</td>\n",
              "      <td>0</td>\n",
              "      <td>0</td>\n",
              "      <td>0</td>\n",
              "      <td>0</td>\n",
              "      <td>0</td>\n",
              "      <td>0</td>\n",
              "      <td>0</td>\n",
              "      <td>0</td>\n",
              "      <td>0</td>\n",
              "      <td>0</td>\n",
              "      <td>0</td>\n",
              "      <td>0</td>\n",
              "      <td>0</td>\n",
              "      <td>0</td>\n",
              "      <td>0</td>\n",
              "      <td>0</td>\n",
              "      <td>0</td>\n",
              "      <td>0</td>\n",
              "      <td>1</td>\n",
              "      <td>0</td>\n",
              "      <td>0</td>\n",
              "    </tr>\n",
              "  </tbody>\n",
              "</table>\n",
              "<p>5 rows × 89 columns</p>\n",
              "</div>"
            ],
            "text/plain": [
              "    age  gender  ...  native-country_Vietnam  native-country_Yugoslavia\n",
              "0  25.0       0  ...                       0                          0\n",
              "1  38.0       0  ...                       0                          0\n",
              "2  28.0       0  ...                       0                          0\n",
              "3  44.0       0  ...                       0                          0\n",
              "4  18.0       1  ...                       0                          0\n",
              "\n",
              "[5 rows x 89 columns]"
            ]
          },
          "metadata": {
            "tags": []
          },
          "execution_count": 130
        }
      ]
    },
    {
      "cell_type": "code",
      "metadata": {
        "colab": {
          "base_uri": "https://localhost:8080/"
        },
        "id": "Rlqcx7-pOw0z",
        "outputId": "6654bcdd-347f-4377-bfc5-15c5e079137a"
      },
      "source": [
        "df.isnull().sum()"
      ],
      "execution_count": 131,
      "outputs": [
        {
          "output_type": "execute_result",
          "data": {
            "text/plain": [
              "age                               0\n",
              "gender                            0\n",
              "hours-per-week                    0\n",
              "income                            0\n",
              "workclass_Local-gov               0\n",
              "                                 ..\n",
              "native-country_Thailand           0\n",
              "native-country_Trinadad&Tobago    0\n",
              "native-country_United-States      0\n",
              "native-country_Vietnam            0\n",
              "native-country_Yugoslavia         0\n",
              "Length: 89, dtype: int64"
            ]
          },
          "metadata": {
            "tags": []
          },
          "execution_count": 131
        }
      ]
    },
    {
      "cell_type": "code",
      "metadata": {
        "id": "fEdJxIwUKQvu"
      },
      "source": [
        "# Splitting the data into features and target\n",
        "\n",
        "x=df.drop(['income'],axis=1)\n",
        "y=df[['income']]"
      ],
      "execution_count": 132,
      "outputs": []
    },
    {
      "cell_type": "code",
      "metadata": {
        "id": "IPOMy6xlO9w1"
      },
      "source": [
        "# Splitting the data into test and train \n",
        "\n",
        "from sklearn.model_selection import train_test_split,StratifiedKFold\n",
        "from sklearn.metrics import accuracy_score,confusion_matrix,classification_report"
      ],
      "execution_count": 133,
      "outputs": []
    },
    {
      "cell_type": "code",
      "metadata": {
        "id": "iwhv9bdA_0js"
      },
      "source": [
        "import warnings\n",
        "warnings.filterwarnings('ignore')\n",
        "\n",
        "def stratifiedModelling(x,y,lg):\n",
        "  skf = StratifiedKFold(n_splits=10, shuffle=True, random_state=1)\n",
        "  lst_accu_stratified = []\n",
        "\n",
        "  for train_index, test_index in skf.split(x, y):\n",
        "    x_train_fold, x_test_fold = x.iloc[train_index], x.iloc[test_index]\n",
        "    y_train_fold, y_test_fold = y.iloc[train_index], y.iloc[test_index]\n",
        "    lg.fit(x_train_fold, y_train_fold)\n",
        "    lst_accu_stratified.append(lg.score(x_test_fold, y_test_fold))\n",
        "  print(\"List of accuracy are: \",lst_accu_stratified)\n",
        "  print(\"The mean accuracy is: \",sum(lst_accu_stratified)/len(lst_accu_stratified))\n",
        "  y_predict=lg.predict(x_test_fold)\n",
        "  print(f\"The accuracy score is {accuracy_score(y_test_fold,y_predict)}\")\n",
        "  print(\"The Classification report is:\")\n",
        "  print(classification_report(y_test_fold,y_predict))\n",
        "  plt.figure(figsize=(8,8))\n",
        "  sns.heatmap(confusion_matrix(y_test_fold,y_predict),annot=True)"
      ],
      "execution_count": 134,
      "outputs": []
    },
    {
      "cell_type": "markdown",
      "metadata": {
        "id": "x_T6Gn56Rt8z"
      },
      "source": [
        "## Logistic Regression"
      ]
    },
    {
      "cell_type": "code",
      "metadata": {
        "colab": {
          "base_uri": "https://localhost:8080/",
          "height": 722
        },
        "id": "vpkRlkVY_2Pp",
        "outputId": "5c3caf4e-1c25-46ab-8472-e6823608aacb"
      },
      "source": [
        "\n",
        "from sklearn.linear_model import LogisticRegression\n",
        "lg=LogisticRegression()\n",
        "\n",
        "stratifiedModelling(x,y,lg)"
      ],
      "execution_count": 135,
      "outputs": [
        {
          "output_type": "stream",
          "text": [
            "List of accuracy are:  [0.8257932446264074, 0.8241555783009212, 0.8341523341523341, 0.8325143325143325, 0.8333333333333334, 0.826986076986077, 0.8257575757575758, 0.8294430794430795, 0.8212530712530712, 0.8364045864045864]\n",
            "The mean accuracy is:  0.8289793212771718\n",
            "The accuracy score is 0.8364045864045864\n",
            "The Classification report is:\n",
            "              precision    recall  f1-score   support\n",
            "\n",
            "           0       0.87      0.93      0.90      3715\n",
            "           1       0.71      0.54      0.61      1169\n",
            "\n",
            "    accuracy                           0.84      4884\n",
            "   macro avg       0.79      0.74      0.76      4884\n",
            "weighted avg       0.83      0.84      0.83      4884\n",
            "\n"
          ],
          "name": "stdout"
        },
        {
          "output_type": "display_data",
          "data": {
            "image/png": "[encoded data removed]",
            "text/plain": [
              "<Figure size 576x576 with 2 Axes>"
            ]
          },
          "metadata": {
            "tags": [],
            "needs_background": "light"
          }
        }
      ]
    },
    {
      "cell_type": "markdown",
      "metadata": {
        "id": "zc9LdQPQRoSo"
      },
      "source": [
        "## Decision Tree Classifier"
      ]
    },
    {
      "cell_type": "code",
      "metadata": {
        "colab": {
          "base_uri": "https://localhost:8080/",
          "height": 722
        },
        "id": "FMuUxQoTAW2m",
        "outputId": "77f5a214-7904-444e-e5ce-3b584a939fd0"
      },
      "source": [
        "\n",
        "from sklearn.tree import DecisionTreeClassifier\n",
        "\n",
        "tree=DecisionTreeClassifier()\n",
        "stratifiedModelling(x,y,tree)"
      ],
      "execution_count": 136,
      "outputs": [
        {
          "output_type": "stream",
          "text": [
            "List of accuracy are:  [0.7866939611054248, 0.7920163766632549, 0.7915642915642915, 0.7932022932022932, 0.797911547911548, 0.7966830466830467, 0.7886977886977887, 0.7893120393120393, 0.7977067977067978, 0.7921785421785422]\n",
            "The mean accuracy is:  0.7925966685025028\n",
            "The accuracy score is 0.7921785421785422\n",
            "The Classification report is:\n",
            "              precision    recall  f1-score   support\n",
            "\n",
            "           0       0.85      0.88      0.87      3715\n",
            "           1       0.57      0.51      0.54      1169\n",
            "\n",
            "    accuracy                           0.79      4884\n",
            "   macro avg       0.71      0.70      0.70      4884\n",
            "weighted avg       0.78      0.79      0.79      4884\n",
            "\n"
          ],
          "name": "stdout"
        },
        {
          "output_type": "display_data",
          "data": {
            "image/png": "[encoded data removed]",
            "text/plain": [
              "<Figure size 576x576 with 2 Axes>"
            ]
          },
          "metadata": {
            "tags": [],
            "needs_background": "light"
          }
        }
      ]
    },
    {
      "cell_type": "markdown",
      "metadata": {
        "id": "ovRhDjrxRaF6"
      },
      "source": [
        "## Random Forest Classifier"
      ]
    },
    {
      "cell_type": "code",
      "metadata": {
        "colab": {
          "base_uri": "https://localhost:8080/",
          "height": 722
        },
        "id": "rLWp_qdbRaof",
        "outputId": "e851feb3-1dea-4438-9d7b-392937c9a01f"
      },
      "source": [
        "from sklearn.ensemble import RandomForestClassifier\n",
        "\n",
        "rdmforest = RandomForestClassifier(max_depth=2, random_state=42)\n",
        "stratifiedModelling(x,y,rdmforest)"
      ],
      "execution_count": 137,
      "outputs": [
        {
          "output_type": "stream",
          "text": [
            "List of accuracy are:  [0.7606960081883316, 0.7606960081883316, 0.7608517608517609, 0.7608517608517609, 0.7608517608517609, 0.7606470106470107, 0.7606470106470107, 0.7606470106470107, 0.7606470106470107, 0.7606470106470107]\n",
            "The mean accuracy is:  0.7607182352167\n",
            "The accuracy score is 0.7606470106470107\n",
            "The Classification report is:\n",
            "              precision    recall  f1-score   support\n",
            "\n",
            "           0       0.76      1.00      0.86      3715\n",
            "           1       0.00      0.00      0.00      1169\n",
            "\n",
            "    accuracy                           0.76      4884\n",
            "   macro avg       0.38      0.50      0.43      4884\n",
            "weighted avg       0.58      0.76      0.66      4884\n",
            "\n"
          ],
          "name": "stdout"
        },
        {
          "output_type": "display_data",
          "data": {
            "image/png": "[encoded data removed]",
            "text/plain": [
              "<Figure size 576x576 with 2 Axes>"
            ]
          },
          "metadata": {
            "tags": [],
            "needs_background": "light"
          }
        }
      ]
    },
    {
      "cell_type": "markdown",
      "metadata": {
        "id": "3KqyaWONR5eK"
      },
      "source": [
        "# among all these models logistic regression gives best accuracy which is 0.84"
      ]
    }
  ]
}