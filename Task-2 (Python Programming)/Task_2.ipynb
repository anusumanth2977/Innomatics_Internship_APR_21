{
 "cells": [
  {
   "cell_type": "code",
   "execution_count": 1,
   "metadata": {},
   "outputs": [
    {
     "name": "stdout",
     "output_type": "stream",
     "text": [
      "10\n",
      "15 25 33 685 77 54 25 7 15 97\n",
      "124.125\n"
     ]
    }
   ],
   "source": [
    "# 1)Introduction to sets\n",
    "\n",
    "def average(array):\n",
    "    \n",
    "    sum = 0\n",
    "    # your code goes here\n",
    "    a = list(set(arr))\n",
    "    #print(a)\n",
    "    #print(len(a))\n",
    "    for i in range(len(a)):\n",
    "        sum = a[i] + sum\n",
    "    #print(sum)\n",
    "    average = (sum/len(a))\n",
    "    return average\n",
    "        \n",
    "\n",
    "if __name__ == '__main__':\n",
    "    n = int(input())\n",
    "    arr = list(map(int, input().split()))\n",
    "    result = average(arr)\n",
    "    print(result)"
   ]
  },
  {
   "cell_type": "code",
   "execution_count": 1,
   "metadata": {},
   "outputs": [
    {
     "name": "stdout",
     "output_type": "stream",
     "text": [
      "2\n",
      "1 2\n",
      "3713081631934410656\n"
     ]
    }
   ],
   "source": [
    "# 2) hash of tuple\n",
    "\n",
    "\n",
    "n = int(input())\n",
    "integer_list = map(int, input().split())\n",
    "t = tuple(integer_list)\n",
    "print(hash(t))"
   ]
  },
  {
   "cell_type": "code",
   "execution_count": 1,
   "metadata": {},
   "outputs": [
    {
     "name": "stdout",
     "output_type": "stream",
     "text": [
      "5\n",
      "india\n",
      "germany\n",
      "india\n",
      "uk\n",
      "usa\n",
      "4\n"
     ]
    }
   ],
   "source": [
    "# 3) set.add()\n",
    "\n",
    "n = int(input())\n",
    "s = set()\n",
    "for i in range(n):\n",
    "    s.add(input())\n",
    "print(len(s))"
   ]
  },
  {
   "cell_type": "code",
   "execution_count": 5,
   "metadata": {},
   "outputs": [
    {
     "name": "stdout",
     "output_type": "stream",
     "text": [
      "9\n",
      "1 2 3 4 5 6 7 8 9\n",
      "9\n",
      "10 1 2 3 11 21 55 6 8\n",
      "13\n"
     ]
    }
   ],
   "source": [
    "# 4) set.union()\n",
    "\n",
    "\n",
    "n1 = int(input())\n",
    "arr = (input().split())\n",
    "A = set(arr)\n",
    "\n",
    "    \n",
    "n2 = int(input())\n",
    "arr = (input().split())\n",
    "B = set(arr)\n",
    "\n",
    "\n",
    "print(len(A.union(B)))"
   ]
  },
  {
   "cell_type": "code",
   "execution_count": 6,
   "metadata": {},
   "outputs": [
    {
     "name": "stdout",
     "output_type": "stream",
     "text": [
      "9\n",
      "1 2 3 4 5 6 7 8 9\n",
      "9\n",
      "10 1 2 3 11 21 55 6 8\n",
      "5\n"
     ]
    }
   ],
   "source": [
    "# 5) set.intersection()\n",
    "\n",
    "n1 = int(input())\n",
    "arr = (input().split())\n",
    "A = set(arr)\n",
    "\n",
    "    \n",
    "n2 = int(input())\n",
    "arr = (input().split())\n",
    "B = set(arr)\n",
    "\n",
    "\n",
    "print(len(A.intersection(B)))"
   ]
  },
  {
   "cell_type": "code",
   "execution_count": 7,
   "metadata": {},
   "outputs": [
    {
     "name": "stdout",
     "output_type": "stream",
     "text": [
      "9\n",
      "1 2 3 4 5 6 7 8 9\n",
      "9\n",
      "10 1 2 3 11 21 55 6 8\n",
      "4\n"
     ]
    }
   ],
   "source": [
    "# 6) set.difference()\n",
    "\n",
    "n1 = int(input())\n",
    "arr = (input().split())\n",
    "A = set(arr)\n",
    "\n",
    "    \n",
    "n2 = int(input())\n",
    "arr = (input().split())\n",
    "B = set(arr)\n",
    "\n",
    "\n",
    "print(len(A.difference(B)))"
   ]
  },
  {
   "cell_type": "code",
   "execution_count": 1,
   "metadata": {},
   "outputs": [
    {
     "name": "stdout",
     "output_type": "stream",
     "text": [
      "9\n",
      "1 2 3 4 5 6 7 8 9\n",
      "9\n",
      "10 1 2 3 11 21 55 6 8\n",
      "8\n"
     ]
    }
   ],
   "source": [
    "# 7) set.symmetric_difference()\n",
    "\n",
    "n = int(input())\n",
    "arr = (input().split())\n",
    "X = set(arr)\n",
    "\n",
    "n1 = int(input())\n",
    "arr1 = (input().split())\n",
    "Y = set(arr1)\n",
    "\n",
    "print(len(X.symmetric_difference(Y)))"
   ]
  },
  {
   "cell_type": "code",
   "execution_count": 3,
   "metadata": {},
   "outputs": [
    {
     "name": "stdout",
     "output_type": "stream",
     "text": [
      "2\n",
      "4\n",
      "1 2 5 4\n",
      "7\n",
      "1 11 44 2 5 4 55\n",
      "True\n",
      "1\n",
      "9\n",
      "5\n",
      "1 2 3 4 5 \n",
      "False\n"
     ]
    }
   ],
   "source": [
    "# 8) set.issubset()\n",
    "\n",
    "for i in range(int(input())):\n",
    "    A = int(input())\n",
    "    arr1 = (input().split())\n",
    "    B = int(input())\n",
    "    arr2 = (input().split())\n",
    "    x = set(arr1)\n",
    "    y = set(arr2)\n",
    "    if x.issubset(y):\n",
    "        print(\"True\")\n",
    "    else:\n",
    "        print(\"False\")"
   ]
  },
  {
   "cell_type": "code",
   "execution_count": 4,
   "metadata": {},
   "outputs": [
    {
     "name": "stdout",
     "output_type": "stream",
     "text": [
      "4\n",
      "2 4 5 9\n",
      "4 \n",
      "2 4 11 12\n",
      "5\n",
      "9\n",
      "11\n",
      "12\n"
     ]
    }
   ],
   "source": [
    "# 9) symmetric difference\n",
    "\n",
    "n = int(input())\n",
    "arr = (input().split())\n",
    "x = set(arr)\n",
    "n1 = int(input())\n",
    "arr1 = (input().split())\n",
    "y = set(arr1)\n",
    "\n",
    "data = x.symmetric_difference(y)\n",
    "list = list(map(int,data))\n",
    "order = sorted(list,reverse =False)\n",
    "#print(order)\n",
    "for i in order:\n",
    "    print(i)"
   ]
  },
  {
   "cell_type": "code",
   "execution_count": 1,
   "metadata": {},
   "outputs": [
    {
     "name": "stdout",
     "output_type": "stream",
     "text": [
      "1\n",
      "1\n",
      "1\n",
      "2\n",
      "[[0, 0, 0], [0, 0, 1], [0, 1, 0], [1, 0, 0], [1, 1, 1]]\n"
     ]
    }
   ],
   "source": [
    "# 10) List comprehension\n",
    "\n",
    "x = int(input())\n",
    "y = int(input())\n",
    "z = int(input())\n",
    "n = int(input())\n",
    "\n",
    "print([[i,j,k] for i in range(x+1)\n",
    "for j in range(y+1) \n",
    "for k in range(z+1) \n",
    "if sum([i,j,k]) != n])"
   ]
  },
  {
   "cell_type": "code",
   "execution_count": 1,
   "metadata": {},
   "outputs": [
    {
     "name": "stdout",
     "output_type": "stream",
     "text": [
      "9\n",
      "1 2 3 4 5 6 7 8 9\n",
      "10\n",
      "pop\n",
      "remove 9\n",
      "discord 9\n",
      "discord 8\n",
      "remove 7 \n",
      "pop\n",
      "pop\n",
      "remove 5\n",
      "discord 6\n",
      "pop\n",
      "14\n"
     ]
    }
   ],
   "source": [
    "# 11) Set .discard(), .remove() & .pop()\n",
    "\n",
    "n = int(input())\n",
    "s = set(map(int,input().split()))\n",
    "n2 = int(input())\n",
    "\n",
    "for i in range(n2):\n",
    "    i=input().split()\n",
    "    #print(i)\n",
    "    if i[0]==\"pop\" :\n",
    "        s.pop()\n",
    "    elif i[0]==\"remove\" :\n",
    "        s.remove(int(i[1]))\n",
    "    elif i[0]==\"discard\" :\n",
    "        s.discard(int(i[1]))\n",
    "        \n",
    "print(sum(s))"
   ]
  },
  {
   "cell_type": "code",
   "execution_count": 2,
   "metadata": {},
   "outputs": [
    {
     "name": "stdout",
     "output_type": "stream",
     "text": [
      "7\n",
      "15 66 12 78 1 2 3\n",
      "4\n",
      "intersection_update 3\n",
      "1 22 55 \n",
      "update 2\n",
      "75 3\n",
      "symmetric_difference_update 4\n",
      "87 78 66 3\n",
      "difference_update 2\n",
      "1 87\n",
      "219\n"
     ]
    }
   ],
   "source": [
    "# 12) Set Mutations\n",
    "\n",
    "n = int(input())\n",
    "s = set(map(int,input().split()))\n",
    "n2 = int(input())\n",
    "\n",
    "for i in range(n2):\n",
    "    i = (input().split())\n",
    "    #print(i,j)\n",
    "    s1 = set(map(int,input().split()))\n",
    "    #print(s1)\n",
    "    if i[0]==\"intersection_update\":\n",
    "        s.intersection_update(s1)   \n",
    "    elif i[0]==\"update\":\n",
    "        s.update(s1)\n",
    "    elif i[0]==\"symmetric_difference_update\":\n",
    "        s.symmetric_difference_update(s1)\n",
    "    elif i[0]==\"difference_update\":\n",
    "        s.difference_update(s1)\n",
    "       \n",
    "print(sum(s))\n",
    "\n"
   ]
  },
  {
   "cell_type": "code",
   "execution_count": 3,
   "metadata": {},
   "outputs": [
    {
     "name": "stdout",
     "output_type": "stream",
     "text": [
      "1 2 3 4 5 6 7 8 9 10 11 12 23 45 84 78\n",
      "2\n",
      "1 2 3 4 5\n",
      "100 11 12\n",
      "False\n"
     ]
    }
   ],
   "source": [
    "# 13) Check Strict Superset\n",
    "\n",
    "data = set(map(int,input().split()))\n",
    "n = int(input())\n",
    "x = set(map(int,input().split()))\n",
    "y = set(map(int,input().split()))\n",
    "Z = x.union(y)\n",
    "if Z.issubset(data):\n",
    "    print(\"True\")\n",
    "else:\n",
    "    print(\"False\")"
   ]
  },
  {
   "cell_type": "code",
   "execution_count": 1,
   "metadata": {},
   "outputs": [
    {
     "name": "stdout",
     "output_type": "stream",
     "text": [
      "5\n",
      "insert 0 55\n",
      "insert 1 77\n",
      "remove 55\n",
      "append 2\n",
      "print\n",
      "[77, 2]\n"
     ]
    }
   ],
   "source": [
    "# 14) Lists\n",
    "\n",
    "n = int(input())\n",
    "list = []\n",
    "for i in range(n):\n",
    "    i = input().split()\n",
    "    #print(i)\n",
    "    if i[0]==\"insert\":\n",
    "        list.insert(int(i[1]),int(i[2]))\n",
    "    elif i[0]==\"remove\":\n",
    "        list.remove(int(i[1]))\n",
    "    elif i[0]==\"append\":\n",
    "        list.append(int(i[1]))\n",
    "    elif i[0]==\"sort\":\n",
    "        list.sort()\n",
    "    elif i[0]==\"pop\":\n",
    "        list.pop()\n",
    "    elif i[0]==\"reverse\":\n",
    "        list.reverse()\n",
    "    elif i[0]==\"print\":\n",
    "        print(list)\n"
   ]
  },
  {
   "cell_type": "code",
   "execution_count": 1,
   "metadata": {},
   "outputs": [
    {
     "name": "stdout",
     "output_type": "stream",
     "text": [
      "2\n",
      "sumanth 32 42 50\n",
      "anu 15 25 47.5\n",
      "anu\n",
      "29.17\n"
     ]
    }
   ],
   "source": [
    "# 15) percentages\n",
    "\n",
    "from decimal import Decimal\n",
    "if __name__ == '__main__':\n",
    "    n = int(input())\n",
    "    marks = {}\n",
    "    for _ in range(n):\n",
    "        name, *line = input().split()\n",
    "        scores = list(map(float, line))\n",
    "        marks[name] = scores\n",
    "    query_name = input()\n",
    "        \n",
    "    score = marks[query_name]\n",
    "    total = sum(score)\n",
    "    avg = Decimal(total/3)\n",
    "    print(round(avg,2))"
   ]
  },
  {
   "cell_type": "code",
   "execution_count": 2,
   "metadata": {},
   "outputs": [
    {
     "name": "stdout",
     "output_type": "stream",
     "text": [
      "4\n",
      "1 2 6 7\n",
      "6\n"
     ]
    }
   ],
   "source": [
    "# 16) Runner up score\n",
    "\n",
    "n = int(input())\n",
    "arr = set(map(int,input().split()))\n",
    "#print(arr)\n",
    "arr.remove(max(arr))\n",
    "print(max(arr))"
   ]
  },
  {
   "cell_type": "code",
   "execution_count": null,
   "metadata": {},
   "outputs": [],
   "source": [
    "\n",
    "\n"
   ]
  }
 ],
 "metadata": {
  "kernelspec": {
   "display_name": "Python 3",
   "language": "python",
   "name": "python3"
  },
  "language_info": {
   "codemirror_mode": {
    "name": "ipython",
    "version": 3
   },
   "file_extension": ".py",
   "mimetype": "text/x-python",
   "name": "python",
   "nbconvert_exporter": "python",
   "pygments_lexer": "ipython3",
   "version": "3.7.4"
  }
 },
 "nbformat": 4,
 "nbformat_minor": 4
}
