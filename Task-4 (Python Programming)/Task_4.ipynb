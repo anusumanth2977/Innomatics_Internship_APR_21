{
 "cells": [
  {
   "cell_type": "code",
   "execution_count": 1,
   "metadata": {},
   "outputs": [
    {
     "name": "stdout",
     "output_type": "stream",
     "text": [
      "anu\n",
      "sumanth\n",
      "Hello anu sumanth! You just delved into python.\n"
     ]
    }
   ],
   "source": [
    "# 1) what's your name?\n",
    "\n",
    "def print_full_name(first, last):\n",
    "    # Write your code here\n",
    "     print(\"Hello {} {}! You just delved into python.\".format(first, last))\n",
    "    \n",
    "    \n",
    "if __name__ == '__main__':\n",
    "    first_name = input()\n",
    "    last_name = input()\n",
    "    print_full_name(first_name, last_name)"
   ]
  },
  {
   "cell_type": "code",
   "execution_count": 1,
   "metadata": {},
   "outputs": [
    {
     "name": "stdout",
     "output_type": "stream",
     "text": [
      "qA3\n",
      "True\n",
      "True\n",
      "True\n",
      "True\n",
      "True\n"
     ]
    }
   ],
   "source": [
    "# 2) string validators\n",
    "\n",
    "s = input()\n",
    "l = list(s)\n",
    "a,b,c,d,e = False,False,False,False,False\n",
    "for i in l:\n",
    "    if i.isalnum():\n",
    "        a=\"True\"\n",
    "    if i.isalpha():\n",
    "        b=\"True\"\n",
    "    if i.isdigit():\n",
    "        c=\"True\"\n",
    "    if i.islower():\n",
    "        d=\"True\"\n",
    "    if i.isupper():\n",
    "        e=\"True\"\n",
    "        \n",
    "print(a)\n",
    "print(b)\n",
    "print(c)\n",
    "print(d)\n",
    "print(e)\n"
   ]
  },
  {
   "cell_type": "code",
   "execution_count": 1,
   "metadata": {},
   "outputs": [
    {
     "name": "stdout",
     "output_type": "stream",
     "text": [
      "anu sumanth vemula\n",
      "anu-sumanth-vemula\n"
     ]
    }
   ],
   "source": [
    "# 3) String Split and Join\n",
    "\n",
    "def split_and_join(line):\n",
    "    \n",
    "    # write your code here\n",
    "    s = line.split()\n",
    "    j = \"-\".join(s)\n",
    "    return j\n",
    "    \n",
    "if __name__ == '__main__':\n",
    "    line = input()\n",
    "    result = split_and_join(line)\n",
    "    print(result)"
   ]
  },
  {
   "cell_type": "code",
   "execution_count": 2,
   "metadata": {},
   "outputs": [
    {
     "name": "stdout",
     "output_type": "stream",
     "text": [
      "Anu Sumanth Vemula\n",
      "aNU sUMANTH vEMULA\n"
     ]
    }
   ],
   "source": [
    "# 4) sWAP cASE\n",
    "\n",
    "def swap_case(s):\n",
    "    return s.swapcase()\n",
    "\n",
    "if __name__ == '__main__':\n",
    "    s = input()\n",
    "    result = swap_case(s)\n",
    "    print(result)"
   ]
  },
  {
   "cell_type": "code",
   "execution_count": 3,
   "metadata": {},
   "outputs": [
    {
     "name": "stdout",
     "output_type": "stream",
     "text": [
      "ABCDEFGHIJKLIMNOQRSTUVWXYZ\n",
      "5\n",
      "ABCDE\n",
      "FGHIJ\n",
      "KLIMN\n",
      "OQRST\n",
      "UVWXY\n",
      "Z\n"
     ]
    }
   ],
   "source": [
    "# 5) Text Wrap\n",
    "\n",
    "import textwrap\n",
    "\n",
    "def wrap(string, max_width):\n",
    "    return \"\\n\".join(textwrap.wrap(string,max_width))\n",
    "\n",
    "if __name__ == '__main__':\n",
    "    string, max_width = input(), int(input())\n",
    "    result = wrap(string, max_width)\n",
    "    print(result)"
   ]
  },
  {
   "cell_type": "code",
   "execution_count": 1,
   "metadata": {},
   "outputs": [
    {
     "name": "stdout",
     "output_type": "stream",
     "text": [
      "anusumanth\n",
      "2 y\n",
      "anysumanth\n"
     ]
    }
   ],
   "source": [
    "# 6) Mutations\n",
    "\n",
    "def mutate_string(string, position, character):\n",
    "    l = list(string)\n",
    "    l[position] = character\n",
    "    string = \"\".join(l)\n",
    "    return string\n",
    "     \n",
    "\n",
    "if __name__ == '__main__':\n",
    "    s = input()\n",
    "    i, c = input().split()\n",
    "    s_new = mutate_string(s, int(i), c)\n",
    "    print(s_new)"
   ]
  },
  {
   "cell_type": "code",
   "execution_count": 8,
   "metadata": {},
   "outputs": [
    {
     "name": "stdout",
     "output_type": "stream",
     "text": [
      "anu sumanth\n",
      "Anu Sumanth\n"
     ]
    }
   ],
   "source": [
    "# 7) Capitalize\n",
    "\n",
    "def solve(s):\n",
    "    for i in s.split():\n",
    "        s = s.replace(i,i.capitalize())\n",
    "    return s\n",
    "    \n",
    "\n",
    "if __name__ == '__main__':\n",
    "    \n",
    "\n",
    "    s = input()\n",
    "\n",
    "    result = print(solve(s))\n",
    "\n",
    "\n",
    "\n",
    "   "
   ]
  },
  {
   "cell_type": "code",
   "execution_count": 4,
   "metadata": {},
   "outputs": [
    {
     "name": "stdout",
     "output_type": "stream",
     "text": [
      "7 26\n",
      "-----------.|.------------\n",
      "--------.|..|..|.---------\n",
      "-----.|..|..|..|..|.------\n",
      "---------WELCOME----------\n",
      "-----.|..|..|..|..|.------\n",
      "--------.|..|..|.---------\n",
      "-----------.|.------------\n"
     ]
    }
   ],
   "source": [
    "# 8) Designer Door Mat\n",
    "\n",
    "n, m = map(int,input().split())\n",
    "for i in range(n):\n",
    "    pattern = \".|.\"\n",
    "    if i<(n-1)/2:\n",
    "        print((pattern * (i*2+1)).center(m,'-'))\n",
    "    elif i == (n-1)/2:\n",
    "        print(\"WELCOME\".center(m,'-'))\n",
    "    else:\n",
    "        print((pattern * (2*(n-1-i)+1)).center(m,'-'))\n",
    "        "
   ]
  },
  {
   "cell_type": "code",
   "execution_count": 1,
   "metadata": {},
   "outputs": [
    {
     "name": "stdout",
     "output_type": "stream",
     "text": [
      "ABCDCDC\n",
      "CDC\n",
      "2\n"
     ]
    }
   ],
   "source": [
    "# 9) Find a string\n",
    "\n",
    "def count_substring(string, sub_string):\n",
    "    count = 0\n",
    "    for i in range(len(string)):\n",
    "        if string[i:].startswith(sub_string):\n",
    "            count += 1\n",
    "    return count\n",
    "\n",
    "\n",
    "if __name__ == '__main__':\n",
    "    string = input().strip()\n",
    "    sub_string = input().strip()\n",
    "    \n",
    "    count = count_substring(string, sub_string)\n",
    "    print(count)"
   ]
  },
  {
   "cell_type": "code",
   "execution_count": 2,
   "metadata": {},
   "outputs": [
    {
     "name": "stdout",
     "output_type": "stream",
     "text": [
      "4\n",
      "------d------\n",
      "----d-c-d----\n",
      "--d-c-b-c-d--\n",
      "d-c-b-a-b-c-d\n",
      "--d-c-b-c-d--\n",
      "----d-c-d----\n",
      "------d------\n"
     ]
    }
   ],
   "source": [
    "# 10) Alphabet Rangoli\n",
    "\n",
    "def print_rangoli(size):\n",
    "    alp = 'abcdefghijklmnopqrstuvwxyz'\n",
    "    for i in range(size-1,-size,-1):\n",
    "        temp = '-'.join(alp[size-1:abs(i):-1]+alp[abs(i):size])\n",
    "        print(temp.center(4*size-3,'-'))\n",
    "        \n",
    "    \n",
    "\n",
    "if __name__ == '__main__':\n",
    "    n = int(input())\n",
    "    print_rangoli(n)"
   ]
  },
  {
   "cell_type": "code",
   "execution_count": 5,
   "metadata": {},
   "outputs": [
    {
     "name": "stdout",
     "output_type": "stream",
     "text": [
      "3\n",
      "  H  \n",
      " HHH \n",
      "HHHHH\n",
      " HHH         HHH        \n",
      " HHH         HHH        \n",
      " HHH         HHH        \n",
      " HHH         HHH        \n",
      " HHHHHHHHHHHHHHH  \n",
      " HHHHHHHHHHHHHHH  \n",
      " HHH         HHH        \n",
      " HHH         HHH        \n",
      " HHH         HHH        \n",
      " HHH         HHH        \n",
      "            HHHHH \n",
      "             HHH  \n",
      "              H   \n"
     ]
    }
   ],
   "source": [
    "# 11) Text Alignment\n",
    "\n",
    "thickness = int(input()) #This must be an odd number\n",
    "c = 'H'\n",
    "\n",
    "#Top Cone\n",
    "for i in range(thickness):\n",
    "    print((c*i).rjust(thickness-1)+c+(c*i).ljust(thickness-1))\n",
    "\n",
    "#Top Pillars\n",
    "for i in range(thickness+1):\n",
    "    print((c*thickness).center(thickness*2)+(c*thickness).center(thickness*6))\n",
    "\n",
    "#Middle Belt\n",
    "for i in range((thickness+1)//2):\n",
    "    print((c*thickness*5).center(thickness*6))    \n",
    "\n",
    "#Bottom Pillars\n",
    "for i in range(thickness+1):\n",
    "    print((c*thickness).center(thickness*2)+(c*thickness).center(thickness*6))    \n",
    "\n",
    "#Bottom Cone\n",
    "for i in range(thickness):\n",
    "    print(((c*(thickness-i-1)).rjust(thickness)+c+(c*(thickness-i-1)).ljust(thickness)).rjust(thickness*6))\n",
    "    \n"
   ]
  },
  {
   "cell_type": "code",
   "execution_count": 6,
   "metadata": {},
   "outputs": [
    {
     "name": "stdout",
     "output_type": "stream",
     "text": [
      "10\n",
      "   1    1    1    1\n",
      "   2    2    2   10\n",
      "   3    3    3   11\n",
      "   4    4    4  100\n",
      "   5    5    5  101\n",
      "   6    6    6  110\n",
      "   7    7    7  111\n",
      "   8   10    8 1000\n",
      "   9   11    9 1001\n",
      "  10   12    A 1010\n"
     ]
    }
   ],
   "source": [
    "# 12) String Formatting\n",
    "\n",
    "def print_formatted(num):\n",
    "    # your code goes here\n",
    "    for i in range(1,num + 1):\n",
    "        format = num.bit_length()\n",
    "        print(f'{i:{format}d} {i:{format}o} {i:{format}X} {i:{format}b}')\n",
    "\n",
    "if __name__ == '__main__':\n",
    "    n = int(input())\n",
    "    print_formatted(n)"
   ]
  },
  {
   "cell_type": "code",
   "execution_count": null,
   "metadata": {},
   "outputs": [],
   "source": []
  }
 ],
 "metadata": {
  "kernelspec": {
   "display_name": "Python 3",
   "language": "python",
   "name": "python3"
  },
  "language_info": {
   "codemirror_mode": {
    "name": "ipython",
    "version": 3
   },
   "file_extension": ".py",
   "mimetype": "text/x-python",
   "name": "python",
   "nbconvert_exporter": "python",
   "pygments_lexer": "ipython3",
   "version": "3.7.4"
  }
 },
 "nbformat": 4,
 "nbformat_minor": 4
}
