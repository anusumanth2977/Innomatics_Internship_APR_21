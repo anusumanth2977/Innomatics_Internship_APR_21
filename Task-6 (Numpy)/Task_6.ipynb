{
  "nbformat": 4,
  "nbformat_minor": 0,
  "metadata": {
    "colab": {
      "name": "Task_6.ipynb",
      "provenance": [],
      "collapsed_sections": []
    },
    "kernelspec": {
      "name": "python3",
      "display_name": "Python 3"
    },
    "language_info": {
      "name": "python"
    }
  },
  "cells": [
    {
      "cell_type": "code",
      "metadata": {
        "colab": {
          "base_uri": "https://localhost:8080/"
        },
        "id": "QtA37W7zlZJI",
        "outputId": "66dc991e-a927-4562-f4f7-0c0c59379b24"
      },
      "source": [
        "# 1) shape and reshape\n",
        "import numpy as np\n",
        "n = list(map(int,input().split()))\n",
        "a = np.array(n)\n",
        "b = a.reshape(3,3)\n",
        "print(b)\n"
      ],
      "execution_count": null,
      "outputs": [
        {
          "output_type": "stream",
          "text": [
            "1 2 3 4 5 6 7 8 9\n",
            "[[1 2 3]\n",
            " [4 5 6]\n",
            " [7 8 9]]\n"
          ],
          "name": "stdout"
        }
      ]
    },
    {
      "cell_type": "code",
      "metadata": {
        "colab": {
          "base_uri": "https://localhost:8080/"
        },
        "id": "OWT0P54gl0GJ",
        "outputId": "ed24c6c2-d3d2-441f-85cb-51feae723b6c"
      },
      "source": [
        "# 2) Arrays\n",
        "import numpy\n",
        "def arrays(arr):\n",
        "    a = numpy.array(arr,float)\n",
        "    b = numpy.flip(a)\n",
        "    return b\n",
        "\n",
        "arr = input().strip().split(' ')\n",
        "result = arrays(arr)\n",
        "print(result)\n"
      ],
      "execution_count": null,
      "outputs": [
        {
          "output_type": "stream",
          "text": [
            "1 2 3 4 5\n",
            "[5. 4. 3. 2. 1.]\n"
          ],
          "name": "stdout"
        }
      ]
    },
    {
      "cell_type": "code",
      "metadata": {
        "colab": {
          "base_uri": "https://localhost:8080/"
        },
        "id": "FH0v1y6xmeOC",
        "outputId": "2a898e6c-e5b4-4dfa-a554-66f91d58b109"
      },
      "source": [
        "# 3) Concatenate\n",
        "\n",
        "import numpy as np\n",
        "c=[]\n",
        "d=[]\n",
        "n,m,p = list(map(int,input().split()))\n",
        "#print(n,m,p)\n",
        "\n",
        "for i in range(n):\n",
        "    id = list(map(int,input().split()))\n",
        "    c.append(id)\n",
        "#print(c)\n",
        "for i in range(m):\n",
        "    id1 = list(map(int,input().split()))\n",
        "    d.append(id1)\n",
        "#print(d)\n",
        "a = np.concatenate([c,d], axis = 0)\n",
        "print(a)"
      ],
      "execution_count": null,
      "outputs": [
        {
          "output_type": "stream",
          "text": [
            "2 3 2\n",
            "4 5\n",
            "6 5\n",
            "7 8\n",
            " 11 22\n",
            "1 2\n",
            "[[ 4  5]\n",
            " [ 6  5]\n",
            " [ 7  8]\n",
            " [11 22]\n",
            " [ 1  2]]\n"
          ],
          "name": "stdout"
        }
      ]
    },
    {
      "cell_type": "code",
      "metadata": {
        "colab": {
          "base_uri": "https://localhost:8080/"
        },
        "id": "rEM-nuYHo2vU",
        "outputId": "a1319411-40c1-44a3-c702-8d5d59d666b3"
      },
      "source": [
        "# 4) sum and prod\n",
        "\n",
        "import numpy as np\n",
        "arr = []\n",
        "n,m = list(map(int,input().split()))\n",
        "\n",
        "for i in range(n):\n",
        "    id = list(map(int,input().split()))\n",
        "    arr.append(id)\n",
        "\n",
        "sum = np.sum(arr,axis=0)\n",
        "#print(sum)\n",
        "prd = np.prod(sum)\n",
        "print(prd)\n"
      ],
      "execution_count": null,
      "outputs": [
        {
          "output_type": "stream",
          "text": [
            "2 2\n",
            "1 2 \n",
            "4 5\n",
            "35\n"
          ],
          "name": "stdout"
        }
      ]
    },
    {
      "cell_type": "code",
      "metadata": {
        "id": "OFUqeu7wtLXD",
        "colab": {
          "base_uri": "https://localhost:8080/"
        },
        "outputId": "31cde53f-5b22-4ad4-b329-3b377b9c9cde"
      },
      "source": [
        "# 5) min and max\n",
        "\n",
        "import numpy as np\n",
        "\n",
        "n,m = list(map(int,input().split()))\n",
        "c = []\n",
        "for i in range(n):\n",
        "    id = list(map(int,input().split()))\n",
        "    c.append(id)\n",
        "\n",
        "mini = np.min(c,axis = 1)\n",
        "maxi = np.max(mini)\n",
        "print(maxi)"
      ],
      "execution_count": null,
      "outputs": [
        {
          "output_type": "stream",
          "text": [
            "4 2\n",
            "5 9\n",
            "7 3\n",
            "1 2\n",
            "7 6\n",
            "6\n"
          ],
          "name": "stdout"
        }
      ]
    },
    {
      "cell_type": "code",
      "metadata": {
        "colab": {
          "base_uri": "https://localhost:8080/"
        },
        "id": "5bunLPd6R_7d",
        "outputId": "d74834af-afac-46c3-d0fa-fe34a53e8601"
      },
      "source": [
        "# 6) zeros and ones\n",
        "\n",
        "import numpy as np\n",
        "n = list(map(int,input().split()))\n",
        "\n",
        "a = np.zeros((n),int)\n",
        "print(a)\n",
        "    \n",
        "b = np.ones((n),int)\n",
        "print(b)\n",
        "    "
      ],
      "execution_count": null,
      "outputs": [
        {
          "output_type": "stream",
          "text": [
            "1 3 3\n",
            "[[[0 0 0]\n",
            "  [0 0 0]\n",
            "  [0 0 0]]]\n",
            "[[[1 1 1]\n",
            "  [1 1 1]\n",
            "  [1 1 1]]]\n"
          ],
          "name": "stdout"
        }
      ]
    },
    {
      "cell_type": "code",
      "metadata": {
        "colab": {
          "base_uri": "https://localhost:8080/"
        },
        "id": "E_0qW_FNXYU3",
        "outputId": "f70ebcdf-3e43-4754-8d2c-4d934e5838cd"
      },
      "source": [
        "# 7) Mean,var and std\n",
        "\n",
        "import numpy as np\n",
        "\n",
        "n,m = list(map(int,input().split()))\n",
        "c = []\n",
        "for i in range(n):\n",
        "    id = list(map(int,input().split()))\n",
        "    c.append(id)\n",
        "\n",
        "mean = np.mean(c, axis = 1)\n",
        "var = np.var(c, axis = 0)\n",
        "std = np.std(c, axis = None)\n",
        "\n",
        "arnd = np.around(std,11)  \n",
        "\n",
        "print(mean)\n",
        "print(var)\n",
        "print(arnd)\n"
      ],
      "execution_count": null,
      "outputs": [
        {
          "output_type": "stream",
          "text": [
            "2 2\n",
            "1 2\n",
            "3 4\n",
            "[1.5 3.5]\n",
            "[1. 1.]\n",
            "1.11803398875\n"
          ],
          "name": "stdout"
        }
      ]
    },
    {
      "cell_type": "code",
      "metadata": {
        "colab": {
          "base_uri": "https://localhost:8080/"
        },
        "id": "Ixs5YXVAgtpM",
        "outputId": "a74cc84e-65aa-4bf0-c3ac-4ab39b296b78"
      },
      "source": [
        "# 8) Eye and Identity\n",
        "\n",
        "import numpy as np\n",
        "np.set_printoptions(legacy='1.13')\n",
        "\n",
        "n,m = list(map(int,input().split()))\n",
        "a = np.eye(n,m)\n",
        "print(a)\n"
      ],
      "execution_count": null,
      "outputs": [
        {
          "output_type": "stream",
          "text": [
            "3 4\n",
            "[[ 1.  0.  0.  0.]\n",
            " [ 0.  1.  0.  0.]\n",
            " [ 0.  0.  1.  0.]]\n"
          ],
          "name": "stdout"
        }
      ]
    },
    {
      "cell_type": "code",
      "metadata": {
        "id": "M2gcg6YUi_oa",
        "colab": {
          "base_uri": "https://localhost:8080/"
        },
        "outputId": "99e7e8fd-3da5-48a4-f7e8-3b437fb5eb8e"
      },
      "source": [
        "# 9) Transpose and Flatten\n",
        "\n",
        "import numpy as np\n",
        "c = []\n",
        "n,m = list(map(int,input().split()))\n",
        "for i in range(n):\n",
        "    arr = list(map(int,input().split()))\n",
        "    c.append(arr)\n",
        "\n",
        "array = np.array(c)\n",
        "trans = np.transpose(array)\n",
        "flatt = array.flatten()\n",
        "print(trans)\n",
        "print(flatt)\n"
      ],
      "execution_count": 1,
      "outputs": [
        {
          "output_type": "stream",
          "text": [
            "2 2\n",
            "1 2\n",
            "3 4\n",
            "[[1 3]\n",
            " [2 4]]\n",
            "[1 2 3 4]\n"
          ],
          "name": "stdout"
        }
      ]
    },
    {
      "cell_type": "code",
      "metadata": {
        "colab": {
          "base_uri": "https://localhost:8080/"
        },
        "id": "Ln-npe2XqA1N",
        "outputId": "9db30f20-abb6-4f18-e5db-01ce6280e946"
      },
      "source": [
        "# 10) Floo,Ceil and rint\n",
        "\n",
        "import numpy as np\n",
        "np.set_printoptions(legacy='1.13')\n",
        "\n",
        "data = list(map(float,input().split()))\n",
        "\n",
        "array = np.array(data)\n",
        "floor = np.floor(array)\n",
        "ceil = np.ceil(array)\n",
        "rint = np.rint(array)\n",
        "\n",
        "print(floor)\n",
        "print(ceil)\n",
        "print(rint)"
      ],
      "execution_count": 2,
      "outputs": [
        {
          "output_type": "stream",
          "text": [
            "1.1 2.2 3.3 4.4 5.5 6.6 7.7 8.8 9.9\n",
            "[ 1.  2.  3.  4.  5.  6.  7.  8.  9.]\n",
            "[  2.   3.   4.   5.   6.   7.   8.   9.  10.]\n",
            "[  1.   2.   3.   4.   6.   7.   8.   9.  10.]\n"
          ],
          "name": "stdout"
        }
      ]
    },
    {
      "cell_type": "code",
      "metadata": {
        "colab": {
          "base_uri": "https://localhost:8080/"
        },
        "id": "71c79Zl8sXuG",
        "outputId": "6ba8b433-2399-4ea9-e8bc-f9473cdd8a53"
      },
      "source": [
        "# 11) Array Mathematics\n",
        "\n",
        "import numpy as np\n",
        "a = []\n",
        "b = []\n",
        "n,m = list(map(int,input().split()))\n",
        "for i in range(n):\n",
        "    data = list(map(int,input().split()))\n",
        "    a.append(data)\n",
        "for i in range(n):\n",
        "    data1 = list(map(int,input().split()))\n",
        "    b.append(data1)\n",
        "    \n",
        "\n",
        "print(np.add(a,b))\n",
        "print(np.subtract(a,b))\n",
        "print(np.multiply(a,b))\n",
        "print(np.floor_divide(a,b))\n",
        "print(np.mod(a,b))\n",
        "print(np.power(a,b))\n"
      ],
      "execution_count": 3,
      "outputs": [
        {
          "output_type": "stream",
          "text": [
            "1 4\n",
            "1 2 3 4\n",
            "5 6 7 8\n",
            "[[ 6  8 10 12]]\n",
            "[[-4 -4 -4 -4]]\n",
            "[[ 5 12 21 32]]\n",
            "[[0 0 0 0]]\n",
            "[[1 2 3 4]]\n",
            "[[    1    64  2187 65536]]\n"
          ],
          "name": "stdout"
        }
      ]
    },
    {
      "cell_type": "code",
      "metadata": {
        "colab": {
          "base_uri": "https://localhost:8080/"
        },
        "id": "yKpgwu38w0po",
        "outputId": "63066be2-c608-4147-f335-e9ad280d74ce"
      },
      "source": [
        "# 12)  Linear Algebra\n",
        "\n",
        "import numpy as np\n",
        "c = []\n",
        "n = int(input())\n",
        "for i in range(n):\n",
        "    data = list(map(float,input().split()))\n",
        "    c.append(data)\n",
        "    \n",
        "\n",
        "a = np.linalg.det(c)\n",
        "arnd = np.around(a,2)\n",
        "print(arnd)"
      ],
      "execution_count": 12,
      "outputs": [
        {
          "output_type": "stream",
          "text": [
            "3\n",
            "1 2 3\n",
            "4 5 6\n",
            "1 2 1\n",
            "6.0\n"
          ],
          "name": "stdout"
        }
      ]
    },
    {
      "cell_type": "code",
      "metadata": {
        "colab": {
          "base_uri": "https://localhost:8080/"
        },
        "id": "zoAk-Pr044E9",
        "outputId": "deb5adbf-dca2-48bc-ee2a-26c04ebe234a"
      },
      "source": [
        "# 13) Dot and Cross\n",
        "\n",
        "import numpy as np\n",
        "\n",
        "n = int(input())\n",
        "a=[]\n",
        "b=[]\n",
        "for i in range(n):\n",
        "    arr = list(map(int,input().split()))\n",
        "    a.append(arr)\n",
        "for i in range(n):\n",
        "    arr1 = list(map(int,input().split()))\n",
        "    b.append(arr1)\n",
        "    \n",
        "c = np.dot(a,b)\n",
        "print(c)"
      ],
      "execution_count": 13,
      "outputs": [
        {
          "output_type": "stream",
          "text": [
            "2\n",
            "1 2\n",
            "3 4\n",
            "1 2\n",
            "3 4\n",
            "[[ 7 10]\n",
            " [15 22]]\n"
          ],
          "name": "stdout"
        }
      ]
    },
    {
      "cell_type": "code",
      "metadata": {
        "colab": {
          "base_uri": "https://localhost:8080/"
        },
        "id": "JmEagMnm7wiu",
        "outputId": "fd665ced-30b6-4d6b-faa8-11c43c4de454"
      },
      "source": [
        "# 14) Inner and Outer\n",
        "\n",
        "import numpy as np\n",
        "\n",
        "a = list(map(int,input().split()))\n",
        "b = list(map(int,input().split()))\n",
        "inn = np.inner(a,b)\n",
        "out = np.outer(a,b)\n",
        "\n",
        "print(inn)\n",
        "print(out)\n",
        "\n"
      ],
      "execution_count": 14,
      "outputs": [
        {
          "output_type": "stream",
          "text": [
            "0 1\n",
            "2 3\n",
            "3\n",
            "[[0 0]\n",
            " [2 3]]\n"
          ],
          "name": "stdout"
        }
      ]
    },
    {
      "cell_type": "code",
      "metadata": {
        "colab": {
          "base_uri": "https://localhost:8080/"
        },
        "id": "Z4X-2j9M8n0X",
        "outputId": "36778d00-1cd9-48c6-bfca-2ecf0b4fed68"
      },
      "source": [
        "# 15) Polynomials\n",
        "\n",
        "import numpy as np\n",
        "\n",
        "a = list(map(float,input().split()))\n",
        "b = int(input())\n",
        "\n",
        "c = np.polyval(a,b)\n",
        "print(c)\n"
      ],
      "execution_count": 15,
      "outputs": [
        {
          "output_type": "stream",
          "text": [
            "1.1 2 3\n",
            "0\n",
            "3.0\n"
          ],
          "name": "stdout"
        }
      ]
    }
  ]
}