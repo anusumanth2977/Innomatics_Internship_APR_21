{
  "nbformat": 4,
  "nbformat_minor": 0,
  "metadata": {
    "colab": {
      "name": "Task - 9 (Hypothesis Testing).ipynb",
      "provenance": [],
      "collapsed_sections": []
    },
    "kernelspec": {
      "name": "python3",
      "display_name": "Python 3"
    },
    "language_info": {
      "name": "python"
    }
  },
  "cells": [
    {
      "cell_type": "code",
      "metadata": {
        "id": "F_MwLguGKf_P"
      },
      "source": [
        "import math\n",
        "import matplotlib.pyplot as plt\n",
        "import numpy as np\n",
        "from scipy.stats import t\n",
        "from scipy.stats import norm"
      ],
      "execution_count": 51,
      "outputs": []
    },
    {
      "cell_type": "code",
      "metadata": {
        "id": "hnLecE2yM6k4"
      },
      "source": [
        "def t_score(sam_size, sam_mean, pop_mean, std):\n",
        "    numerator = sam_mean - pop_mean\n",
        "    denomenator = std / sam_size**0.5\n",
        "    return numerator / denomenator"
      ],
      "execution_count": 34,
      "outputs": []
    },
    {
      "cell_type": "markdown",
      "metadata": {
        "id": "EngVhu9-CDJW"
      },
      "source": [
        "# **Understanding the Hypothesis Testing**\n",
        "\n",
        "Null Hypothesis (Status Quo): $ H_1 \\ \\Rightarrow \\ \\gt, \\ \\lt, \\ \\neq $\n",
        "\n",
        "Null Hypothesis (Status Quo): $ H_0 \\ \\Rightarrow \\ \\leq, \\ \\geq, \\ = $\n",
        "\n",
        "**Step - 2:**\n",
        "\n",
        "Collect a sample of size n\n",
        "Compute the mean from this sample $ \\bar{x} $\n",
        "\n",
        "**Step - 3:** Compute Test Statistic:\n",
        "\n",
        "If population variance is known$$ z = \\frac{\\bar{x} - \\mu}{\\sigma/\\sqrt[2]{n}}$$\n",
        "\n",
        "If population variance is unknown$$ t = \\frac{\\bar{x} - \\mu}{s/\\sqrt[2]{n}} $$\n",
        "\n",
        "**Step - 4:** Decide significance level $ \\alpha $. Lower $ \\alpha $ means you need stronger evidence to reject Null Hypothesis.\n",
        "\n",
        "**Step - 5:** Apply decision rule:\n",
        "\n",
        "**If test statistic is z-score -**\n",
        "\n",
        "Two tailed z-test:$$ |z| \\gt z_\\frac{\\alpha}{2} \\Rightarrow Accept \\ H_1 \\ or \\ Reject \\ H_0$$\n",
        "\n",
        "Right tailed z-test:$$ z \\gt z_\\alpha \\Rightarrow Accept \\ H_1 \\ or \\ Reject \\ H_0 $$\n",
        "\n",
        "Left tailed z-test:$$ z \\lt -z_\\alpha \\Rightarrow Accept \\ H_1 \\ or \\ Reject \\ H_0 $$\n",
        "\n",
        "\n",
        "**If test statistic is t-score**\n",
        "\n",
        "Two tailed t-test:$$ |t| \\gt t_{n-1,\\frac{\\alpha}{2}} \\Rightarrow Accept \\ H_1 \\ or \\ Reject \\ H_0 $$\n",
        "Right tailed t-test:$$ t \\gt t_{n-1,\\alpha} \\Rightarrow Accept \\ H_1 \\ or \\ Reject \\ H_0 $$\n",
        "Left tailed t-test:$$ t \\lt t_{n-1,\\alpha} \\Rightarrow Accept \\ H_1 \\ or \\ Reject \\ H_0 $$\n",
        "\n",
        "\n",
        "**Step - 6:** Compute p-value  $ P(Test \\ Statistics | H_0) $\n",
        "\n",
        "For two tailed test:$$ p \\ value = 2 * (1.0 - cdf(test \\ statistic)) $$\n",
        "For one tailed test:$$ p \\ value = (1.0 - cdf(test \\ statistic)) $$Now,$$ if (p \\ value \\lt \\alpha) \\Rightarrow Accept \\ H_1 \\ or \\ Reject \\ H_0 $$"
      ]
    },
    {
      "cell_type": "markdown",
      "metadata": {
        "id": "4F9qEVReXRBs"
      },
      "source": [
        "## 1) Pista House selling Hyderabadi Chicken Dum biryani claims that each parcel packet has 500 grams of biryani (also mentioned on the label of packet). You are sceptic of their claims and believe that on average each packet does not contain 500 grams of biryani. How do you prove your claim?"
      ]
    },
    {
      "cell_type": "markdown",
      "metadata": {
        "id": "UpkfP5GSLpBh"
      },
      "source": [
        "Step-1:\\ Alternate Hypothesis (Bold Claim):$$H_{1}: \\mu\\neq 500$$Null Hypothesis (Status Quo):$$H_{0}: \\mu = 500$$\n",
        "\n",
        "Step-2:\n",
        "\n",
        "Collect a sample size n=10$$[490,220,470,500,495,496,496,498,508,480]$$\n",
        "Compute the sample mean$$\\overline{x}=465.3$$\n",
        "Step-3: Compute Test statistics$$t=\\frac{\\overline{x}-\\mu}{s/\\sqrt{n}}$$\n",
        "\n",
        "Step-4: Decide $\\alpha$ or significance level= $0.95$\n",
        "\n",
        "Step-5:Two tailed t-statistics$$reject \\ H_{0} \\ if \\\\ |t| \\gt;t_{n-1,\\frac{\\alpha}{2}}$$\n",
        "\n",
        "Step-6: Compute p-value"
      ]
    },
    {
      "cell_type": "code",
      "metadata": {
        "id": "FDWakEfYL6YC",
        "colab": {
          "base_uri": "https://localhost:8080/"
        },
        "outputId": "f0f0e70c-9db7-46fc-c6bf-1d5a02a3ace9"
      },
      "source": [
        "import math\n",
        "\n",
        "sam_size = 10\n",
        "l = [490,220,470,500,495,496,496,498,508,480]\n",
        "pop_mean = 500\n",
        "sam_mean = 465.3\n",
        "\n",
        "std = 0\n",
        "for i in range(0,sam_size):\n",
        "    data = (((l[i])**2)-((sam_mean)**2))/(sam_size-1)\n",
        "    std = std + data\n",
        "print(math.sqrt(std))"
      ],
      "execution_count": 40,
      "outputs": [
        {
          "output_type": "stream",
          "text": [
            "86.8485911099183\n"
          ],
          "name": "stdout"
        }
      ]
    },
    {
      "cell_type": "code",
      "metadata": {
        "colab": {
          "base_uri": "https://localhost:8080/"
        },
        "id": "cLId4g0gMpWs",
        "outputId": "413808f9-7200-4913-8184-f3f7a5e7e662"
      },
      "source": [
        "# calculating t_score\n",
        "t = t_score(sam_size, sam_mean, pop_mean, 86.84)\n",
        "\n",
        "print(t)"
      ],
      "execution_count": 41,
      "outputs": [
        {
          "output_type": "stream",
          "text": [
            "-1.2636001244569637\n"
          ],
          "name": "stdout"
        }
      ]
    },
    {
      "cell_type": "code",
      "metadata": {
        "colab": {
          "base_uri": "https://localhost:8080/"
        },
        "id": "gugAhhQlQxYP",
        "outputId": "ff55c38e-bca8-4526-cda9-10ac5964f7c9"
      },
      "source": [
        "# Two tail t_critical\n",
        "\n",
        "alpha = 1 - 0.95\n",
        "\n",
        "t_critical = t.ppf(1-(alpha/2), df = 9)\n",
        "\n",
        "print(t_critical)"
      ],
      "execution_count": 44,
      "outputs": [
        {
          "output_type": "stream",
          "text": [
            "2.2621571627409915\n"
          ],
          "name": "stdout"
        }
      ]
    },
    {
      "cell_type": "code",
      "metadata": {
        "colab": {
          "base_uri": "https://localhost:8080/",
          "height": 286
        },
        "id": "rKbbtGKt7qE6",
        "outputId": "db92b443-f124-4a82-daf3-7863e32d9dae"
      },
      "source": [
        "# Ploting the sampling distribution with rejection regions\n",
        "\n",
        "# Defining the x minimum and x maximum\n",
        "x_min = 400\n",
        "x_max = 600\n",
        "\n",
        "\n",
        "# Defining the sampling distribution mean and sampling distribution std\n",
        "mean = pop_mean\n",
        "std = std / sam_size**0.5\n",
        "\n",
        "\n",
        "# Ploting the graph and setting the x limits\n",
        "x = np.linspace(x_min, x_max, 100)\n",
        "y = norm.pdf(x, mean, std)\n",
        "plt.xlim(x_min, x_max)\n",
        "plt.plot(x, y)\n",
        "\n",
        "\n",
        "# Computing the left and right critical values (Two tailed Test)\n",
        "t_critical_left = pop_mean + (-t_critical * std)\n",
        "t_critical_right = pop_mean + (t_critical * std)\n",
        "\n",
        "\n",
        "# Shading the left rejection region\n",
        "x1 = np.linspace(x_min, t_critical_left, 100)\n",
        "y1 = norm.pdf(x1, mean, std)\n",
        "plt.fill_between(x1, y1, color='orange')\n",
        "\n",
        "\n",
        "# Shading the right rejection region\n",
        "x2 = np.linspace(t_critical_right, x_max, 100)\n",
        "y2 = norm.pdf(x2, mean, std)\n",
        "plt.fill_between(x2, y2, color='orange')\n",
        "\n",
        "\n",
        "# Ploting the sample mean and concluding the results \n",
        "plt.scatter(sam_mean, 0)\n",
        "plt.annotate(\"x_bar\", (sam_mean, 0.0007))\n",
        "\n"
      ],
      "execution_count": 49,
      "outputs": [
        {
          "output_type": "execute_result",
          "data": {
            "text/plain": [
              "Text(465.3, 0.0007, 'x_bar')"
            ]
          },
          "metadata": {
            "tags": []
          },
          "execution_count": 49
        },
        {
          "output_type": "display_data",
          "data": {
            "image/png": "[encoded data removed]",
            "text/plain": [
              "<Figure size 432x288 with 1 Axes>"
            ]
          },
          "metadata": {
            "tags": [],
            "needs_background": "light"
          }
        }
      ]
    },
    {
      "cell_type": "code",
      "metadata": {
        "colab": {
          "base_uri": "https://localhost:8080/"
        },
        "id": "ii_opMN0T6Wi",
        "outputId": "6ff7c7ae-4168-4447-e0d7-4529569ac2f4"
      },
      "source": [
        "if (np.abs(t) > t_critical):\n",
        "    print(\"Reject Null Hypothesis\")\n",
        "else:\n",
        "    print(\"Fail to reject Null Hypothesis\")\n"
      ],
      "execution_count": 53,
      "outputs": [
        {
          "output_type": "stream",
          "text": [
            "Fail to reject Null Hypothesis\n"
          ],
          "name": "stdout"
        }
      ]
    },
    {
      "cell_type": "code",
      "metadata": {
        "colab": {
          "base_uri": "https://localhost:8080/"
        },
        "id": "tx9_esA4DG0k",
        "outputId": "40b5d90a-aed5-44c6-d15b-e42c489ca0f4"
      },
      "source": [
        "# Conclusion using p test\n",
        "\n",
        "p_value = 2 * (1.0 - norm.cdf(np.abs(t)))\n",
        "\n",
        "print(\"p_value = \", p_value)\n",
        "\n",
        "if(p_value < alpha):\n",
        "    print(\"Reject Null Hypothesis\")\n",
        "else:\n",
        "    print(\"Fail to reject Null Hypothesis\")"
      ],
      "execution_count": null,
      "outputs": [
        {
          "output_type": "stream",
          "text": [
            "p_value =  0.20637358891012125\n",
            "Fail to reject Null Hypothesis\n"
          ],
          "name": "stdout"
        }
      ]
    },
    {
      "cell_type": "markdown",
      "metadata": {
        "id": "vPnPyWv2Hk-F"
      },
      "source": [
        "## Q-2: You have developed a new Natural Language Processing Algorithms and done a user study. You claim that the average rating given by the users is greater than 4 on a scale of 1 to 5. How do you prove this to your client?"
      ]
    },
    {
      "cell_type": "markdown",
      "metadata": {
        "id": "RndmTx54MU1_"
      },
      "source": [
        "Step-1:\\ Alternate Hypothesis (Bold Claim):$$H_{1}: \\mu \\gt 4$$Null Hypothesis (Status Quo):$$H_{0}: \\mu  \\leq 4$$\n",
        "\n",
        "Step-2:\n",
        "\n",
        "Collect a sample size n=20$$[4,3,5,4,5,3,5,5,4,2,4,5,5,4,4,5,4,5,4,5]$$\n",
        "Compute the sample mean$$\\overline{x}=4.25$$\n",
        "Step-3: Compute Test statistics$$t=\\frac{\\overline{x}-\\mu}{s/\\sqrt{n}}$$\n",
        "\n",
        "Step-4: Decide $\\alpha$ or significance level= $0.95$\n",
        "\n",
        "Step-5.1:Rigth tailed t-statistics$$reject \\ H_{0} \\ if \\\\ t\\gt t_{n-1,\\alpha}$$"
      ]
    },
    {
      "cell_type": "code",
      "metadata": {
        "colab": {
          "base_uri": "https://localhost:8080/"
        },
        "id": "CZCdaKfpH6LY",
        "outputId": "08e48aad-3b71-4196-faf0-756b854b39f0"
      },
      "source": [
        "import math\n",
        "\n",
        "sam_size = 20\n",
        "l = [4,3,5,4,5,3,5,5,4,2,4,5,5,4,4,5,4,5,4,5]\n",
        "pop_mean = 4\n",
        "sam_mean = 4.25\n",
        "\n",
        "std = 0\n",
        "for i in range(0,sam_size):\n",
        "    data = (((l[i])**2)-((sam_mean)**2))/(sam_size-1)\n",
        "    std = std + data\n",
        "print(math.sqrt(std))"
      ],
      "execution_count": null,
      "outputs": [
        {
          "output_type": "stream",
          "text": [
            "0.8506963092234007\n"
          ],
          "name": "stdout"
        }
      ]
    },
    {
      "cell_type": "code",
      "metadata": {
        "colab": {
          "base_uri": "https://localhost:8080/"
        },
        "id": "9-I4LTZfJxcA",
        "outputId": "e079dd59-3687-4d1c-aec7-e478158893e3"
      },
      "source": [
        "# calculating t_score\n",
        "t = t_score(sam_size, sam_mean, pop_mean, std)\n",
        "\n",
        "print(t)"
      ],
      "execution_count": null,
      "outputs": [
        {
          "output_type": "stream",
          "text": [
            "1.5449196935453096\n"
          ],
          "name": "stdout"
        }
      ]
    },
    {
      "cell_type": "code",
      "metadata": {
        "colab": {
          "base_uri": "https://localhost:8080/"
        },
        "id": "cvNIvshfLG1v",
        "outputId": "b0e81f81-fc2d-4dfa-d85e-dc6b90dd88ac"
      },
      "source": [
        "# One tail\n",
        "from scipy.stats import t\n",
        "alpha = 1 - 0.95\n",
        "\n",
        "t_critical = t.ppf(1-alpha, df = 19)\n",
        "\n",
        "print(t_critical)\n"
      ],
      "execution_count": null,
      "outputs": [
        {
          "output_type": "stream",
          "text": [
            "1.729132811521367\n"
          ],
          "name": "stdout"
        }
      ]
    },
    {
      "cell_type": "code",
      "metadata": {
        "colab": {
          "base_uri": "https://localhost:8080/",
          "height": 282
        },
        "id": "NHVj7o0eLoFf",
        "outputId": "c6e4627e-1e04-48e4-9b10-12b7e742790d"
      },
      "source": [
        "# Ploting the sampling distribution with rejection regions\n",
        "\n",
        "# Defining the x minimum and x maximum\n",
        "x_min = 3.5\n",
        "x_max = 4.5\n",
        "\n",
        "\n",
        "# Defining the sampling distribution mean and sampling distribution std\n",
        "mean = pop_mean\n",
        "std = std / sam_size**0.5\n",
        "\n",
        "\n",
        "# Ploting the graph and setting the x limits\n",
        "x = np.linspace(x_min, x_max, 100)\n",
        "y = norm.pdf(x, mean, std)\n",
        "plt.xlim(x_min, x_max)\n",
        "plt.plot(x, y)\n",
        "\n",
        "\n",
        "# Computing the left and right critical values (Two tailed Test)\n",
        "t_critical_right = pop_mean + (t_critical * std)\n",
        "\n",
        "\n",
        "\n",
        "\n",
        "# Shading the right rejection region\n",
        "x2 = np.linspace(t_critical_right, x_max, 100)\n",
        "y2 = norm.pdf(x2, mean, std)\n",
        "plt.fill_between(x2, y2, color='orange')\n",
        "\n",
        "\n",
        "# Ploting the sample mean and concluding the results \n",
        "plt.scatter(sam_mean, 0)\n",
        "plt.annotate(\"x_bar\", (sam_mean, 0.000007))\n",
        "\n",
        "\n"
      ],
      "execution_count": null,
      "outputs": [
        {
          "output_type": "execute_result",
          "data": {
            "text/plain": [
              "Text(4.25, 7e-06, 'x_bar')"
            ]
          },
          "metadata": {
            "tags": []
          },
          "execution_count": 194
        },
        {
          "output_type": "display_data",
          "data": {
            "image/png": "[encoded data removed]",
            "text/plain": [
              "<Figure size 432x288 with 1 Axes>"
            ]
          },
          "metadata": {
            "tags": [],
            "needs_background": "light"
          }
        }
      ]
    },
    {
      "cell_type": "code",
      "metadata": {
        "colab": {
          "base_uri": "https://localhost:8080/"
        },
        "id": "0UtxKlxaMr-p",
        "outputId": "97218bdf-263e-4fe3-cfe4-e7f98fdba613"
      },
      "source": [
        "if (t > t_critical):\n",
        "    print(\"Reject Null Hypothesis\")\n",
        "else:\n",
        "    print(\"Fail to reject Null Hypothesis\")\n"
      ],
      "execution_count": null,
      "outputs": [
        {
          "output_type": "stream",
          "text": [
            "Fail to reject Null Hypothesis\n"
          ],
          "name": "stdout"
        }
      ]
    },
    {
      "cell_type": "code",
      "metadata": {
        "colab": {
          "base_uri": "https://localhost:8080/"
        },
        "id": "O-5ItyKiNqLm",
        "outputId": "2033b19f-8bef-476c-e5ea-bf6e80f2a930"
      },
      "source": [
        "p_value = 1.0 - norm.cdf(np.abs(t))\n",
        "\n",
        "print(\"p_value = \", p_value)\n",
        "\n",
        "if(p_value < alpha):\n",
        "    print(\"Reject Null Hypothesis\")\n",
        "else:\n",
        "    print(\"Fail to reject Null Hypothesis\")"
      ],
      "execution_count": null,
      "outputs": [
        {
          "output_type": "stream",
          "text": [
            "p_value =  0.06118284464282242\n",
            "Fail to reject Null Hypothesis\n"
          ],
          "name": "stdout"
        }
      ]
    },
    {
      "cell_type": "markdown",
      "metadata": {
        "id": "NOdjcvUjOLwm"
      },
      "source": [
        "## Q-3: TATA has developed a better fuel management system for the SUV segment. They claim that with this system, on average the SUV's mileage is at least 15 km/litre?"
      ]
    },
    {
      "cell_type": "markdown",
      "metadata": {
        "id": "Q1VfRLo9MxX7"
      },
      "source": [
        "Step-1:\\ Alternate Hypothesis (Bold Claim):$$H_{1}: \\mu \\gt 15$$Null Hypothesis (Status Quo):$$H_{0}: \\mu  \\leq 15$$\n",
        "\n",
        "Step-2:\n",
        "\n",
        "Collect a sample size n=20 $$[14.8,14.13,15.65,13.78,16.26,14.97,15.36,15.81,14.53,16.79,15.78,16.98,13.23,15.4,15.46,13.88,14.31,14.41,15.7,15.38]$$\n",
        "Compute the sample mean$$\\overline{x}=15.130499999999998$$\n",
        "Step-3: Compute Test statistics$$t=\\frac{\\overline{x}-\\mu}{s/\\sqrt{n}}$$\n",
        "\n",
        "Step-4: Decide $\\alpha$ or significance level= $0.95$\n",
        "\n",
        "Step-5:Rigth tailed t-statistics$$reject \\ H_{0} \\ if \\\\ t\\gt t_{n-1,\\alpha}$$Step-6: Compute p-value"
      ]
    },
    {
      "cell_type": "code",
      "metadata": {
        "colab": {
          "base_uri": "https://localhost:8080/"
        },
        "id": "IQyphUU8ORTI",
        "outputId": "c2b3f7f3-c65c-4788-f8d6-2789010c3c18"
      },
      "source": [
        "import math\n",
        "\n",
        "sam_size = 20\n",
        "l = [14.08,14.13,15.65,13.78,16.26,14.97,15.36,15.81,14.53,16.79,15.78,16.98,13.23,15.43,15.46,13.88,14.31,14.41,15.76,15.38]\n",
        "pop_mean = 15\n",
        "sam_mean = 15.1\n",
        "\n",
        "std = 0\n",
        "for i in range(0,sam_size):\n",
        "    data = (((l[i])**2)-((sam_mean)**2))/(sam_size-1)\n",
        "    std = std + data\n",
        "print(math.sqrt(std))"
      ],
      "execution_count": 35,
      "outputs": [
        {
          "output_type": "stream",
          "text": [
            "1.00974723257072\n"
          ],
          "name": "stdout"
        }
      ]
    },
    {
      "cell_type": "code",
      "metadata": {
        "colab": {
          "base_uri": "https://localhost:8080/"
        },
        "id": "PZphRJQgWNiH",
        "outputId": "cbfb3e6d-b1bd-44ca-ab48-9954ccabff98"
      },
      "source": [
        "# calculating t_score\n",
        "t = t_score(sam_size, sam_mean, pop_mean, std)\n",
        "\n",
        "print(t)"
      ],
      "execution_count": 36,
      "outputs": [
        {
          "output_type": "stream",
          "text": [
            "0.4386212363334587\n"
          ],
          "name": "stdout"
        }
      ]
    },
    {
      "cell_type": "code",
      "metadata": {
        "colab": {
          "base_uri": "https://localhost:8080/"
        },
        "id": "3CJcpNRLWP9p",
        "outputId": "ee8d5c85-4ef5-4aa5-b0b8-27d150c4a57b"
      },
      "source": [
        "# One tail\n",
        "alpha = 1 - 0.95\n",
        "\n",
        "t_critical = t.ppf(1-alpha, df = 19)\n",
        "\n",
        "print(t_critical)"
      ],
      "execution_count": 39,
      "outputs": [
        {
          "output_type": "stream",
          "text": [
            "1.729132811521367\n"
          ],
          "name": "stdout"
        }
      ]
    },
    {
      "cell_type": "code",
      "metadata": {
        "colab": {
          "base_uri": "https://localhost:8080/",
          "height": 282
        },
        "id": "lEUlid7zWsBG",
        "outputId": "4a881b5b-93a6-4663-d8ce-9b9dff4f4b7f"
      },
      "source": [
        "# Ploting the sampling distribution with rejection regions\n",
        "\n",
        "# Defining the x minimum and x maximum\n",
        "x_min = 13\n",
        "x_max = 17\n",
        "\n",
        "\n",
        "# Defining the sampling distribution mean and sampling distribution std\n",
        "mean = pop_mean\n",
        "std = std / sam_size**0.5\n",
        "\n",
        "\n",
        "# Ploting the graph and setting the x limits\n",
        "x = np.linspace(x_min, x_max, 100)\n",
        "y = norm.pdf(x, mean, std)\n",
        "plt.xlim(x_min, x_max)\n",
        "plt.plot(x, y)\n",
        "\n",
        "\n",
        "# Computing the left and right critical values (Two tailed Test)\n",
        "t_critical_right = pop_mean + (t_critical * std)\n",
        "\n",
        "\n",
        "# Shading the right rejection region\n",
        "x2 = np.linspace(t_critical_right, x_max, 100)\n",
        "y2 = norm.pdf(x2, mean, std)\n",
        "plt.fill_between(x2, y2, color='orange')\n",
        "\n",
        "\n",
        "# Ploting the sample mean and concluding the results \n",
        "plt.scatter(sam_mean, 0)\n",
        "plt.annotate(\"x_bar\", (sam_mean, 0.1))\n",
        "\n"
      ],
      "execution_count": null,
      "outputs": [
        {
          "output_type": "execute_result",
          "data": {
            "text/plain": [
              "Text(15.1, 0.1, 'x_bar')"
            ]
          },
          "metadata": {
            "tags": []
          },
          "execution_count": 10
        },
        {
          "output_type": "display_data",
          "data": {
            "image/png": "[encoded data removed]",
            "text/plain": [
              "<Figure size 432x288 with 1 Axes>"
            ]
          },
          "metadata": {
            "tags": [],
            "needs_background": "light"
          }
        }
      ]
    },
    {
      "cell_type": "code",
      "metadata": {
        "colab": {
          "base_uri": "https://localhost:8080/"
        },
        "id": "k4TG3NS8W-wQ",
        "outputId": "0bf03469-ca82-4b67-bd60-144084f02c94"
      },
      "source": [
        "if(t > t_critical):\n",
        "    print(\"Reject Null Hypothesis\")\n",
        "else:\n",
        "    print(\"Fail to reject Null Hypothesis\")"
      ],
      "execution_count": null,
      "outputs": [
        {
          "output_type": "stream",
          "text": [
            "Fail to reject Null Hypothesis\n"
          ],
          "name": "stdout"
        }
      ]
    },
    {
      "cell_type": "code",
      "metadata": {
        "colab": {
          "base_uri": "https://localhost:8080/"
        },
        "id": "xJqmYkWrdw7U",
        "outputId": "949afa21-53b2-4cf2-cad3-f86bed417c59"
      },
      "source": [
        "p_value = 1.0 - norm.cdf(np.abs(t))\n",
        "\n",
        "\n",
        "if(p_value < alpha):\n",
        "    print(\"Reject Null Hypothesis\")\n",
        "else:\n",
        "    print(\"Fail to reject Null Hypothesis\")"
      ],
      "execution_count": 54,
      "outputs": [
        {
          "output_type": "stream",
          "text": [
            "Fail to reject Null Hypothesis\n"
          ],
          "name": "stdout"
        }
      ]
    },
    {
      "cell_type": "markdown",
      "metadata": {
        "id": "XPA65nnSX4MN"
      },
      "source": [
        "\n",
        "Q-4: You have developed a new Machine Learning Application and claim that on average it takes less than 100 ms to predict for any future datapoint. How do you convince your client about this claim?"
      ]
    },
    {
      "cell_type": "markdown",
      "metadata": {
        "id": "cC473bSJNm5p"
      },
      "source": [
        "Step-1:\\ Alternate Hypothesis (Bold Claim):$$H_{1}: \\mu \\lt 100$$Null Hypothesis (Status Quo):$$H_{0}: \\mu  \\geq 100$$\n",
        "\n",
        "Step-2:\n",
        "\n",
        "Collect a sample size n=100\n",
        "Compute the sample mean$$\\overline{x}=97.5$$\n",
        "Step-3: Compute Test statistics$$t=\\frac{\\overline{x}-\\mu}{s/\\sqrt{n}}$$\n",
        "\n",
        "Step-4: Decide $\\alpha$ or significance level= $0.99$\n",
        "\n",
        "Step-5.1:Rigth tailed t-statistics$$reject \\ H_{0} \\ if \\\\ t\\lt t_{n-1,\\alpha}$$Step-5.2: Compute p-value"
      ]
    },
    {
      "cell_type": "code",
      "metadata": {
        "id": "5-1T3x1ZX_bK"
      },
      "source": [
        "sam_size = 100\n",
        "std = 7          #here i have taken the value directly\n",
        "pop_mean = 100\n",
        "sam_mean = 97.5  #here i have taken the value directly"
      ],
      "execution_count": 55,
      "outputs": []
    },
    {
      "cell_type": "code",
      "metadata": {
        "colab": {
          "base_uri": "https://localhost:8080/"
        },
        "id": "1hmIDaWRYRj4",
        "outputId": "14d58206-0593-4485-985c-557946518c65"
      },
      "source": [
        "# calculating t_score\n",
        "t = t_score(sam_size, sam_mean, pop_mean, std)\n",
        "\n",
        "print(t)"
      ],
      "execution_count": 56,
      "outputs": [
        {
          "output_type": "stream",
          "text": [
            "-3.5714285714285716\n"
          ],
          "name": "stdout"
        }
      ]
    },
    {
      "cell_type": "code",
      "metadata": {
        "colab": {
          "base_uri": "https://localhost:8080/"
        },
        "id": "dJmyUqn0YZ3h",
        "outputId": "eb79d317-8910-45a9-ba5c-d0953a19c1f6"
      },
      "source": [
        "# One tail\n",
        "from scipy.stats import t\n",
        "alpha = 1 - 0.99\n",
        "\n",
        "t_critical = t.ppf(1-alpha, df = 99)\n",
        "\n",
        "print(t_critical)"
      ],
      "execution_count": 57,
      "outputs": [
        {
          "output_type": "stream",
          "text": [
            "2.3646058614359737\n"
          ],
          "name": "stdout"
        }
      ]
    },
    {
      "cell_type": "code",
      "metadata": {
        "colab": {
          "base_uri": "https://localhost:8080/",
          "height": 282
        },
        "id": "XJGXgCwFYlI9",
        "outputId": "9669b029-af9b-43e1-ce5d-28b0a09c9f61"
      },
      "source": [
        "# Ploting the sampling distribution with rejection regions\n",
        "\n",
        "# Defining the x minimum and x maximum\n",
        "x_min = 95\n",
        "x_max = 105\n",
        "\n",
        "\n",
        "# Defining the sampling distribution mean and sampling distribution std\n",
        "mean = pop_mean\n",
        "std = std / sam_size**0.5\n",
        "\n",
        "\n",
        "# Ploting the graph and setting the x limits\n",
        "x = np.linspace(x_min, x_max, 100)\n",
        "y = norm.pdf(x, mean, std)\n",
        "plt.xlim(x_min, x_max)\n",
        "plt.plot(x, y)\n",
        "\n",
        "\n",
        "# Computing the left and right critical values (Two tailed Test)\n",
        "t_critical_left = pop_mean + (-t_critical * std)\n",
        "\n",
        "\n",
        "# Shading the left rejection region\n",
        "x1 = np.linspace(x_min, t_critical_left, 100)\n",
        "y1 = norm.pdf(x1, mean, std)\n",
        "plt.fill_between(x1, y1, color='orange')\n",
        "\n",
        "\n",
        "# Ploting the sample mean and concluding the results \n",
        "plt.scatter(sam_mean, 0)\n",
        "plt.annotate(\"x_bar\", (sam_mean, 0.02))\n",
        "\n"
      ],
      "execution_count": 58,
      "outputs": [
        {
          "output_type": "execute_result",
          "data": {
            "text/plain": [
              "Text(97.5, 0.02, 'x_bar')"
            ]
          },
          "metadata": {
            "tags": []
          },
          "execution_count": 58
        },
        {
          "output_type": "display_data",
          "data": {
            "image/png": "[encoded data removed]",
            "text/plain": [
              "<Figure size 432x288 with 1 Axes>"
            ]
          },
          "metadata": {
            "tags": [],
            "needs_background": "light"
          }
        }
      ]
    },
    {
      "cell_type": "code",
      "metadata": {
        "colab": {
          "base_uri": "https://localhost:8080/"
        },
        "id": "4ckp7uWWdt_s",
        "outputId": "7cd331ba-d1ea-41c9-d6ad-a8c61a7eeb41"
      },
      "source": [
        "\n",
        "if (t < t_critical):\n",
        "    print(\"Reject Null Hypothesis\")\n",
        "else:\n",
        "    print(\"Fail to reject Null Hypothesis\")"
      ],
      "execution_count": null,
      "outputs": [
        {
          "output_type": "stream",
          "text": [
            "Reject Null Hypothesis\n"
          ],
          "name": "stdout"
        }
      ]
    },
    {
      "cell_type": "code",
      "metadata": {
        "colab": {
          "base_uri": "https://localhost:8080/"
        },
        "id": "QCmXHxdUZKKZ",
        "outputId": "ffd6ce11-03ad-4660-f503-9383ed423e82"
      },
      "source": [
        "p_value = 1.0 - norm.cdf(np.abs(t))\n",
        "\n",
        "if(p_value < alpha):\n",
        "    print(\"Reject Null Hypothesis\")\n",
        "else:\n",
        "    print(\"Fail to reject Null Hypothesis\")"
      ],
      "execution_count": 60,
      "outputs": [
        {
          "output_type": "stream",
          "text": [
            "Reject Null Hypothesis\n"
          ],
          "name": "stdout"
        }
      ]
    }
  ]
}